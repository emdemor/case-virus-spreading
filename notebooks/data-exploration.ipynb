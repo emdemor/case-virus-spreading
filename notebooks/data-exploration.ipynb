{
  "cells": [
    {
      "cell_type": "markdown",
      "id": "c40bc246",
      "metadata": {},
      "source": [
        "# Case spreading - Exploração de Dados"
      ]
    },
    {
      "cell_type": "code",
      "execution_count": 1,
      "id": "3d59d688",
      "metadata": {},
      "outputs": [],
      "source": [
        "import os, sys\n",
        "\n",
        "sys.path.append('../')\n",
        "os.chdir('../')"
      ]
    },
    {
      "cell_type": "code",
      "execution_count": 2,
      "id": "bad8f317",
      "metadata": {},
      "outputs": [],
      "source": [
        "import pandas as pd\n",
        "import numpy as np\n",
        "\n",
        "from scipy.stats import f_oneway\n",
        "from statsmodels.stats.multicomp import pairwise_tukeyhsd\n",
        "\n",
        "from sklearn.model_selection import train_test_split\n",
        "\n",
        "from src.base.commons import load_yaml\n",
        "from src.global_variables import PARAMETERS_FILE, FILEPATHS_FILE"
      ]
    },
    {
      "cell_type": "code",
      "execution_count": 3,
      "id": "4d4942c9",
      "metadata": {},
      "outputs": [],
      "source": [
        "%config IPCompleter.use_jedi=False\n",
        "pd.options.display.max_columns = None"
      ]
    },
    {
      "cell_type": "code",
      "execution_count": 4,
      "id": "cc70072d",
      "metadata": {},
      "outputs": [],
      "source": [
        "# Get filepaths information\n",
        "filepaths = load_yaml(FILEPATHS_FILE)\n",
        "parameters = load_yaml(PARAMETERS_FILE)"
      ]
    },
    {
      "cell_type": "markdown",
      "id": "2bcf9e77",
      "metadata": {},
      "source": [
        "## Importando Dados"
      ]
    },
    {
      "cell_type": "code",
      "execution_count": 5,
      "id": "387efb5d",
      "metadata": {},
      "outputs": [
        {
          "name": "stderr",
          "output_type": "stream",
          "text": [
            "2022-07-10 11:32:22,962 [WARNING] IndexError: No git tags found. You can add one through `git tag <tag_name>`. Without git tags, the model version will be set to None.\n"
          ]
        }
      ],
      "source": [
        "from src.model import data\n",
        "\n",
        "# Get full dataset\n",
        "df_raw = data.make_datasets()\n",
        "\n",
        "# Split into modelling and predict datasets\n",
        "data_modelling, data_predict = data.modelling_predict_split(df_raw)\n",
        "\n",
        "# Split modelling data into train and test\n",
        "data_train, data_validation = train_test_split(data_modelling, **parameters['train_test_split'])\n",
        "\n",
        "# # Persists dataframes\n",
        "# data.persist_interim_table(data_modelling, \"data_modelling\")\n",
        "# data.persist_interim_table(data_predict, \"data_predict\")\n",
        "# data.persist_interim_table(data_train, \"data_train\")\n",
        "# data.persist_interim_table(data_validation, \"data_validation\")\n",
        "\n",
        "# Create a copy of data_train to preserve original dataframe\n",
        "data_train_temp = data_train.copy()"
      ]
    },
    {
      "cell_type": "markdown",
      "id": "02ffe624",
      "metadata": {},
      "source": [
        "# EDA"
      ]
    },
    {
      "cell_type": "code",
      "execution_count": 15,
      "id": "0b2920d6",
      "metadata": {},
      "outputs": [],
      "source": [
        "df = pd.concat([data_modelling,data_predict])"
      ]
    },
    {
      "cell_type": "code",
      "execution_count": 21,
      "id": "a5dfb4f1",
      "metadata": {},
      "outputs": [],
      "source": [
        "conexoes = pd.read_csv('data/raw/conexoes_espec.csv', sep=';')\n",
        "\n",
        "\n",
        "individuos = pd.read_csv('data/raw/individuos_espec.csv', sep=';')\n"
      ]
    },
    {
      "cell_type": "code",
      "execution_count": 23,
      "id": "490737ee",
      "metadata": {},
      "outputs": [
        {
          "data": {
            "text/html": [
              "<div>\n",
              "<style scoped>\n",
              "    .dataframe tbody tr th:only-of-type {\n",
              "        vertical-align: middle;\n",
              "    }\n",
              "\n",
              "    .dataframe tbody tr th {\n",
              "        vertical-align: top;\n",
              "    }\n",
              "\n",
              "    .dataframe thead th {\n",
              "        text-align: right;\n",
              "    }\n",
              "</style>\n",
              "<table border=\"1\" class=\"dataframe\">\n",
              "  <thead>\n",
              "    <tr style=\"text-align: right;\">\n",
              "      <th></th>\n",
              "      <th>V1</th>\n",
              "      <th>V2</th>\n",
              "      <th>grau</th>\n",
              "      <th>proximidade</th>\n",
              "      <th>prob_V1_V2</th>\n",
              "    </tr>\n",
              "  </thead>\n",
              "  <tbody>\n",
              "    <tr>\n",
              "      <th>0</th>\n",
              "      <td>1</td>\n",
              "      <td>2</td>\n",
              "      <td>trabalho</td>\n",
              "      <td>visita_frequente</td>\n",
              "      <td>0.589462</td>\n",
              "    </tr>\n",
              "    <tr>\n",
              "      <th>1</th>\n",
              "      <td>1</td>\n",
              "      <td>3</td>\n",
              "      <td>trabalho</td>\n",
              "      <td>visita_rara</td>\n",
              "      <td>0.708465</td>\n",
              "    </tr>\n",
              "    <tr>\n",
              "      <th>2</th>\n",
              "      <td>2</td>\n",
              "      <td>4</td>\n",
              "      <td>trabalho</td>\n",
              "      <td>visita_casual</td>\n",
              "      <td>NaN</td>\n",
              "    </tr>\n",
              "    <tr>\n",
              "      <th>3</th>\n",
              "      <td>2</td>\n",
              "      <td>5</td>\n",
              "      <td>trabalho</td>\n",
              "      <td>visita_rara</td>\n",
              "      <td>0.638842</td>\n",
              "    </tr>\n",
              "    <tr>\n",
              "      <th>4</th>\n",
              "      <td>3</td>\n",
              "      <td>6</td>\n",
              "      <td>amigos</td>\n",
              "      <td>mora_junto</td>\n",
              "      <td>NaN</td>\n",
              "    </tr>\n",
              "    <tr>\n",
              "      <th>...</th>\n",
              "      <td>...</td>\n",
              "      <td>...</td>\n",
              "      <td>...</td>\n",
              "      <td>...</td>\n",
              "      <td>...</td>\n",
              "    </tr>\n",
              "    <tr>\n",
              "      <th>999994</th>\n",
              "      <td>499998</td>\n",
              "      <td>999996</td>\n",
              "      <td>trabalho</td>\n",
              "      <td>visita_rara</td>\n",
              "      <td>NaN</td>\n",
              "    </tr>\n",
              "    <tr>\n",
              "      <th>999995</th>\n",
              "      <td>499998</td>\n",
              "      <td>999997</td>\n",
              "      <td>trabalho</td>\n",
              "      <td>visita_rara</td>\n",
              "      <td>NaN</td>\n",
              "    </tr>\n",
              "    <tr>\n",
              "      <th>999996</th>\n",
              "      <td>499999</td>\n",
              "      <td>999998</td>\n",
              "      <td>familia</td>\n",
              "      <td>visita_casual</td>\n",
              "      <td>0.451662</td>\n",
              "    </tr>\n",
              "    <tr>\n",
              "      <th>999997</th>\n",
              "      <td>499999</td>\n",
              "      <td>999999</td>\n",
              "      <td>familia</td>\n",
              "      <td>visita_rara</td>\n",
              "      <td>0.186973</td>\n",
              "    </tr>\n",
              "    <tr>\n",
              "      <th>999998</th>\n",
              "      <td>500000</td>\n",
              "      <td>1000000</td>\n",
              "      <td>familia</td>\n",
              "      <td>visita_rara</td>\n",
              "      <td>NaN</td>\n",
              "    </tr>\n",
              "  </tbody>\n",
              "</table>\n",
              "<p>999999 rows × 5 columns</p>\n",
              "</div>"
            ],
            "text/plain": [
              "            V1       V2      grau       proximidade  prob_V1_V2\n",
              "0            1        2  trabalho  visita_frequente    0.589462\n",
              "1            1        3  trabalho       visita_rara    0.708465\n",
              "2            2        4  trabalho     visita_casual         NaN\n",
              "3            2        5  trabalho       visita_rara    0.638842\n",
              "4            3        6    amigos        mora_junto         NaN\n",
              "...        ...      ...       ...               ...         ...\n",
              "999994  499998   999996  trabalho       visita_rara         NaN\n",
              "999995  499998   999997  trabalho       visita_rara         NaN\n",
              "999996  499999   999998   familia     visita_casual    0.451662\n",
              "999997  499999   999999   familia       visita_rara    0.186973\n",
              "999998  500000  1000000   familia       visita_rara         NaN\n",
              "\n",
              "[999999 rows x 5 columns]"
            ]
          },
          "execution_count": 23,
          "metadata": {},
          "output_type": "execute_result"
        }
      ],
      "source": [
        "conexoes"
      ]
    },
    {
      "cell_type": "code",
      "execution_count": 22,
      "id": "24e1329b",
      "metadata": {},
      "outputs": [
        {
          "data": {
            "text/html": [
              "<div>\n",
              "<style scoped>\n",
              "    .dataframe tbody tr th:only-of-type {\n",
              "        vertical-align: middle;\n",
              "    }\n",
              "\n",
              "    .dataframe tbody tr th {\n",
              "        vertical-align: top;\n",
              "    }\n",
              "\n",
              "    .dataframe thead th {\n",
              "        text-align: right;\n",
              "    }\n",
              "</style>\n",
              "<table border=\"1\" class=\"dataframe\">\n",
              "  <thead>\n",
              "    <tr style=\"text-align: right;\">\n",
              "      <th></th>\n",
              "      <th>name</th>\n",
              "      <th>idade</th>\n",
              "      <th>estado_civil</th>\n",
              "      <th>qt_filhos</th>\n",
              "      <th>estuda</th>\n",
              "      <th>trabalha</th>\n",
              "      <th>pratica_esportes</th>\n",
              "      <th>transporte_mais_utilizado</th>\n",
              "      <th>IMC</th>\n",
              "    </tr>\n",
              "  </thead>\n",
              "  <tbody>\n",
              "    <tr>\n",
              "      <th>0</th>\n",
              "      <td>1</td>\n",
              "      <td>44.0</td>\n",
              "      <td>divorciado</td>\n",
              "      <td>1.0</td>\n",
              "      <td>1.0</td>\n",
              "      <td>0.0</td>\n",
              "      <td>1.0</td>\n",
              "      <td>publico</td>\n",
              "      <td>22.200956</td>\n",
              "    </tr>\n",
              "    <tr>\n",
              "      <th>1</th>\n",
              "      <td>2</td>\n",
              "      <td>24.0</td>\n",
              "      <td>casado</td>\n",
              "      <td>0.0</td>\n",
              "      <td>0.0</td>\n",
              "      <td>0.0</td>\n",
              "      <td>1.0</td>\n",
              "      <td>publico</td>\n",
              "      <td>25.378720</td>\n",
              "    </tr>\n",
              "    <tr>\n",
              "      <th>2</th>\n",
              "      <td>3</td>\n",
              "      <td>35.0</td>\n",
              "      <td>solteiro</td>\n",
              "      <td>1.0</td>\n",
              "      <td>0.0</td>\n",
              "      <td>0.0</td>\n",
              "      <td>1.0</td>\n",
              "      <td>particular</td>\n",
              "      <td>19.952393</td>\n",
              "    </tr>\n",
              "    <tr>\n",
              "      <th>3</th>\n",
              "      <td>4</td>\n",
              "      <td>50.0</td>\n",
              "      <td>casado</td>\n",
              "      <td>1.0</td>\n",
              "      <td>1.0</td>\n",
              "      <td>1.0</td>\n",
              "      <td>0.0</td>\n",
              "      <td>publico</td>\n",
              "      <td>26.732053</td>\n",
              "    </tr>\n",
              "    <tr>\n",
              "      <th>4</th>\n",
              "      <td>5</td>\n",
              "      <td>30.0</td>\n",
              "      <td>solteiro</td>\n",
              "      <td>2.0</td>\n",
              "      <td>1.0</td>\n",
              "      <td>0.0</td>\n",
              "      <td>1.0</td>\n",
              "      <td>publico</td>\n",
              "      <td>15.295668</td>\n",
              "    </tr>\n",
              "    <tr>\n",
              "      <th>...</th>\n",
              "      <td>...</td>\n",
              "      <td>...</td>\n",
              "      <td>...</td>\n",
              "      <td>...</td>\n",
              "      <td>...</td>\n",
              "      <td>...</td>\n",
              "      <td>...</td>\n",
              "      <td>...</td>\n",
              "      <td>...</td>\n",
              "    </tr>\n",
              "    <tr>\n",
              "      <th>999995</th>\n",
              "      <td>999996</td>\n",
              "      <td>34.0</td>\n",
              "      <td>casado</td>\n",
              "      <td>1.0</td>\n",
              "      <td>0.0</td>\n",
              "      <td>1.0</td>\n",
              "      <td>1.0</td>\n",
              "      <td>publico</td>\n",
              "      <td>17.556771</td>\n",
              "    </tr>\n",
              "    <tr>\n",
              "      <th>999996</th>\n",
              "      <td>999997</td>\n",
              "      <td>40.0</td>\n",
              "      <td>casado</td>\n",
              "      <td>1.0</td>\n",
              "      <td>0.0</td>\n",
              "      <td>1.0</td>\n",
              "      <td>1.0</td>\n",
              "      <td>particular</td>\n",
              "      <td>24.848402</td>\n",
              "    </tr>\n",
              "    <tr>\n",
              "      <th>999997</th>\n",
              "      <td>999998</td>\n",
              "      <td>30.0</td>\n",
              "      <td>divorciado</td>\n",
              "      <td>1.0</td>\n",
              "      <td>0.0</td>\n",
              "      <td>0.0</td>\n",
              "      <td>1.0</td>\n",
              "      <td>publico</td>\n",
              "      <td>NaN</td>\n",
              "    </tr>\n",
              "    <tr>\n",
              "      <th>999998</th>\n",
              "      <td>999999</td>\n",
              "      <td>33.0</td>\n",
              "      <td>casado</td>\n",
              "      <td>0.0</td>\n",
              "      <td>1.0</td>\n",
              "      <td>1.0</td>\n",
              "      <td>1.0</td>\n",
              "      <td>publico</td>\n",
              "      <td>16.979569</td>\n",
              "    </tr>\n",
              "    <tr>\n",
              "      <th>999999</th>\n",
              "      <td>1000000</td>\n",
              "      <td>22.0</td>\n",
              "      <td>solteiro</td>\n",
              "      <td>0.0</td>\n",
              "      <td>0.0</td>\n",
              "      <td>0.0</td>\n",
              "      <td>0.0</td>\n",
              "      <td>NaN</td>\n",
              "      <td>24.018825</td>\n",
              "    </tr>\n",
              "  </tbody>\n",
              "</table>\n",
              "<p>1000000 rows × 9 columns</p>\n",
              "</div>"
            ],
            "text/plain": [
              "           name  idade estado_civil  qt_filhos  estuda  trabalha  \\\n",
              "0             1   44.0   divorciado        1.0     1.0       0.0   \n",
              "1             2   24.0       casado        0.0     0.0       0.0   \n",
              "2             3   35.0     solteiro        1.0     0.0       0.0   \n",
              "3             4   50.0       casado        1.0     1.0       1.0   \n",
              "4             5   30.0     solteiro        2.0     1.0       0.0   \n",
              "...         ...    ...          ...        ...     ...       ...   \n",
              "999995   999996   34.0       casado        1.0     0.0       1.0   \n",
              "999996   999997   40.0       casado        1.0     0.0       1.0   \n",
              "999997   999998   30.0   divorciado        1.0     0.0       0.0   \n",
              "999998   999999   33.0       casado        0.0     1.0       1.0   \n",
              "999999  1000000   22.0     solteiro        0.0     0.0       0.0   \n",
              "\n",
              "        pratica_esportes transporte_mais_utilizado        IMC  \n",
              "0                    1.0                   publico  22.200956  \n",
              "1                    1.0                   publico  25.378720  \n",
              "2                    1.0                particular  19.952393  \n",
              "3                    0.0                   publico  26.732053  \n",
              "4                    1.0                   publico  15.295668  \n",
              "...                  ...                       ...        ...  \n",
              "999995               1.0                   publico  17.556771  \n",
              "999996               1.0                particular  24.848402  \n",
              "999997               1.0                   publico        NaN  \n",
              "999998               1.0                   publico  16.979569  \n",
              "999999               0.0                       NaN  24.018825  \n",
              "\n",
              "[1000000 rows x 9 columns]"
            ]
          },
          "execution_count": 22,
          "metadata": {},
          "output_type": "execute_result"
        }
      ],
      "source": [
        "individuos"
      ]
    },
    {
      "cell_type": "code",
      "execution_count": 14,
      "id": "83077904",
      "metadata": {},
      "outputs": [
        {
          "data": {
            "text/html": [
              "<div>\n",
              "<style scoped>\n",
              "    .dataframe tbody tr th:only-of-type {\n",
              "        vertical-align: middle;\n",
              "    }\n",
              "\n",
              "    .dataframe tbody tr th {\n",
              "        vertical-align: top;\n",
              "    }\n",
              "\n",
              "    .dataframe thead th {\n",
              "        text-align: right;\n",
              "    }\n",
              "</style>\n",
              "<table border=\"1\" class=\"dataframe\">\n",
              "  <thead>\n",
              "    <tr style=\"text-align: right;\">\n",
              "      <th></th>\n",
              "      <th></th>\n",
              "      <th>grau</th>\n",
              "      <th>proximidade</th>\n",
              "      <th>prob_V1_V2</th>\n",
              "      <th>V1_idade</th>\n",
              "      <th>V1_estado_civil</th>\n",
              "      <th>V1_qt_filhos</th>\n",
              "      <th>V1_estuda</th>\n",
              "      <th>V1_trabalha</th>\n",
              "      <th>V1_pratica_esportes</th>\n",
              "      <th>V1_transporte_mais_utilizado</th>\n",
              "      <th>V1_IMC</th>\n",
              "      <th>V2_idade</th>\n",
              "      <th>V2_estado_civil</th>\n",
              "      <th>V2_qt_filhos</th>\n",
              "      <th>V2_estuda</th>\n",
              "      <th>V2_trabalha</th>\n",
              "      <th>V2_pratica_esportes</th>\n",
              "      <th>V2_transporte_mais_utilizado</th>\n",
              "      <th>V2_IMC</th>\n",
              "    </tr>\n",
              "    <tr>\n",
              "      <th>V1</th>\n",
              "      <th>V2</th>\n",
              "      <th></th>\n",
              "      <th></th>\n",
              "      <th></th>\n",
              "      <th></th>\n",
              "      <th></th>\n",
              "      <th></th>\n",
              "      <th></th>\n",
              "      <th></th>\n",
              "      <th></th>\n",
              "      <th></th>\n",
              "      <th></th>\n",
              "      <th></th>\n",
              "      <th></th>\n",
              "      <th></th>\n",
              "      <th></th>\n",
              "      <th></th>\n",
              "      <th></th>\n",
              "      <th></th>\n",
              "      <th></th>\n",
              "    </tr>\n",
              "  </thead>\n",
              "  <tbody>\n",
              "    <tr>\n",
              "      <th>359633</th>\n",
              "      <th>719266</th>\n",
              "      <td>trabalho</td>\n",
              "      <td>visita_frequente</td>\n",
              "      <td>0.358209</td>\n",
              "      <td>33.0</td>\n",
              "      <td>divorciado</td>\n",
              "      <td>2.0</td>\n",
              "      <td>1.0</td>\n",
              "      <td>1.0</td>\n",
              "      <td>1.0</td>\n",
              "      <td>publico</td>\n",
              "      <td>15.197849</td>\n",
              "      <td>23.0</td>\n",
              "      <td>divorciado</td>\n",
              "      <td>1.0</td>\n",
              "      <td>1.0</td>\n",
              "      <td>1.0</td>\n",
              "      <td>0.0</td>\n",
              "      <td>taxi</td>\n",
              "      <td>13.806661</td>\n",
              "    </tr>\n",
              "    <tr>\n",
              "      <th>236289</th>\n",
              "      <th>472579</th>\n",
              "      <td>trabalho</td>\n",
              "      <td>visita_frequente</td>\n",
              "      <td>0.682723</td>\n",
              "      <td>25.0</td>\n",
              "      <td>viuvo</td>\n",
              "      <td>3.0</td>\n",
              "      <td>0.0</td>\n",
              "      <td>0.0</td>\n",
              "      <td>1.0</td>\n",
              "      <td>particular</td>\n",
              "      <td>25.423565</td>\n",
              "      <td>33.0</td>\n",
              "      <td>solteiro</td>\n",
              "      <td>0.0</td>\n",
              "      <td>0.0</td>\n",
              "      <td>1.0</td>\n",
              "      <td>NaN</td>\n",
              "      <td>particular</td>\n",
              "      <td>22.086553</td>\n",
              "    </tr>\n",
              "    <tr>\n",
              "      <th>452653</th>\n",
              "      <th>905306</th>\n",
              "      <td>trabalho</td>\n",
              "      <td>visita_frequente</td>\n",
              "      <td>0.298892</td>\n",
              "      <td>49.0</td>\n",
              "      <td>casado</td>\n",
              "      <td>3.0</td>\n",
              "      <td>1.0</td>\n",
              "      <td>1.0</td>\n",
              "      <td>0.0</td>\n",
              "      <td>taxi</td>\n",
              "      <td>36.020256</td>\n",
              "      <td>10.0</td>\n",
              "      <td>NaN</td>\n",
              "      <td>0.0</td>\n",
              "      <td>1.0</td>\n",
              "      <td>0.0</td>\n",
              "      <td>1.0</td>\n",
              "      <td>particular</td>\n",
              "      <td>17.293550</td>\n",
              "    </tr>\n",
              "    <tr>\n",
              "      <th>34286</th>\n",
              "      <th>68573</th>\n",
              "      <td>amigos</td>\n",
              "      <td>visita_casual</td>\n",
              "      <td>0.510028</td>\n",
              "      <td>NaN</td>\n",
              "      <td>solteiro</td>\n",
              "      <td>0.0</td>\n",
              "      <td>0.0</td>\n",
              "      <td>1.0</td>\n",
              "      <td>0.0</td>\n",
              "      <td>publico</td>\n",
              "      <td>15.032345</td>\n",
              "      <td>NaN</td>\n",
              "      <td>divorciado</td>\n",
              "      <td>1.0</td>\n",
              "      <td>1.0</td>\n",
              "      <td>0.0</td>\n",
              "      <td>0.0</td>\n",
              "      <td>particular</td>\n",
              "      <td>32.188224</td>\n",
              "    </tr>\n",
              "    <tr>\n",
              "      <th>374135</th>\n",
              "      <th>748270</th>\n",
              "      <td>familia</td>\n",
              "      <td>visita_casual</td>\n",
              "      <td>0.254371</td>\n",
              "      <td>32.0</td>\n",
              "      <td>solteiro</td>\n",
              "      <td>1.0</td>\n",
              "      <td>0.0</td>\n",
              "      <td>1.0</td>\n",
              "      <td>0.0</td>\n",
              "      <td>particular</td>\n",
              "      <td>14.724254</td>\n",
              "      <td>41.0</td>\n",
              "      <td>divorciado</td>\n",
              "      <td>4.0</td>\n",
              "      <td>0.0</td>\n",
              "      <td>1.0</td>\n",
              "      <td>0.0</td>\n",
              "      <td>publico</td>\n",
              "      <td>13.596064</td>\n",
              "    </tr>\n",
              "    <tr>\n",
              "      <th>...</th>\n",
              "      <th>...</th>\n",
              "      <td>...</td>\n",
              "      <td>...</td>\n",
              "      <td>...</td>\n",
              "      <td>...</td>\n",
              "      <td>...</td>\n",
              "      <td>...</td>\n",
              "      <td>...</td>\n",
              "      <td>...</td>\n",
              "      <td>...</td>\n",
              "      <td>...</td>\n",
              "      <td>...</td>\n",
              "      <td>...</td>\n",
              "      <td>...</td>\n",
              "      <td>...</td>\n",
              "      <td>...</td>\n",
              "      <td>...</td>\n",
              "      <td>...</td>\n",
              "      <td>...</td>\n",
              "      <td>...</td>\n",
              "    </tr>\n",
              "    <tr>\n",
              "      <th>259587</th>\n",
              "      <th>519175</th>\n",
              "      <td>amigos</td>\n",
              "      <td>visita_casual</td>\n",
              "      <td>0.315046</td>\n",
              "      <td>50.0</td>\n",
              "      <td>solteiro</td>\n",
              "      <td>1.0</td>\n",
              "      <td>0.0</td>\n",
              "      <td>1.0</td>\n",
              "      <td>1.0</td>\n",
              "      <td>particular</td>\n",
              "      <td>31.734106</td>\n",
              "      <td>16.0</td>\n",
              "      <td>divorciado</td>\n",
              "      <td>3.0</td>\n",
              "      <td>0.0</td>\n",
              "      <td>1.0</td>\n",
              "      <td>1.0</td>\n",
              "      <td>publico</td>\n",
              "      <td>23.047688</td>\n",
              "    </tr>\n",
              "    <tr>\n",
              "      <th>366062</th>\n",
              "      <th>732124</th>\n",
              "      <td>familia</td>\n",
              "      <td>visita_rara</td>\n",
              "      <td>0.197434</td>\n",
              "      <td>29.0</td>\n",
              "      <td>divorciado</td>\n",
              "      <td>NaN</td>\n",
              "      <td>1.0</td>\n",
              "      <td>1.0</td>\n",
              "      <td>1.0</td>\n",
              "      <td>publico</td>\n",
              "      <td>27.102412</td>\n",
              "      <td>35.0</td>\n",
              "      <td>casado</td>\n",
              "      <td>0.0</td>\n",
              "      <td>1.0</td>\n",
              "      <td>1.0</td>\n",
              "      <td>1.0</td>\n",
              "      <td>publico</td>\n",
              "      <td>18.627886</td>\n",
              "    </tr>\n",
              "    <tr>\n",
              "      <th>132000</th>\n",
              "      <th>264000</th>\n",
              "      <td>amigos</td>\n",
              "      <td>visita_rara</td>\n",
              "      <td>0.384484</td>\n",
              "      <td>40.0</td>\n",
              "      <td>casado</td>\n",
              "      <td>0.0</td>\n",
              "      <td>0.0</td>\n",
              "      <td>1.0</td>\n",
              "      <td>NaN</td>\n",
              "      <td>particular</td>\n",
              "      <td>NaN</td>\n",
              "      <td>28.0</td>\n",
              "      <td>solteiro</td>\n",
              "      <td>1.0</td>\n",
              "      <td>0.0</td>\n",
              "      <td>1.0</td>\n",
              "      <td>1.0</td>\n",
              "      <td>publico</td>\n",
              "      <td>NaN</td>\n",
              "    </tr>\n",
              "    <tr>\n",
              "      <th>146945</th>\n",
              "      <th>293890</th>\n",
              "      <td>amigos</td>\n",
              "      <td>visita_casual</td>\n",
              "      <td>0.581601</td>\n",
              "      <td>NaN</td>\n",
              "      <td>NaN</td>\n",
              "      <td>1.0</td>\n",
              "      <td>0.0</td>\n",
              "      <td>1.0</td>\n",
              "      <td>NaN</td>\n",
              "      <td>publico</td>\n",
              "      <td>19.923203</td>\n",
              "      <td>NaN</td>\n",
              "      <td>solteiro</td>\n",
              "      <td>0.0</td>\n",
              "      <td>1.0</td>\n",
              "      <td>0.0</td>\n",
              "      <td>NaN</td>\n",
              "      <td>particular</td>\n",
              "      <td>29.845558</td>\n",
              "    </tr>\n",
              "    <tr>\n",
              "      <th>121988</th>\n",
              "      <th>243977</th>\n",
              "      <td>trabalho</td>\n",
              "      <td>visita_rara</td>\n",
              "      <td>0.666156</td>\n",
              "      <td>26.0</td>\n",
              "      <td>divorciado</td>\n",
              "      <td>1.0</td>\n",
              "      <td>0.0</td>\n",
              "      <td>1.0</td>\n",
              "      <td>1.0</td>\n",
              "      <td>particular</td>\n",
              "      <td>26.331893</td>\n",
              "      <td>33.0</td>\n",
              "      <td>casado</td>\n",
              "      <td>1.0</td>\n",
              "      <td>0.0</td>\n",
              "      <td>1.0</td>\n",
              "      <td>0.0</td>\n",
              "      <td>publico</td>\n",
              "      <td>18.885374</td>\n",
              "    </tr>\n",
              "  </tbody>\n",
              "</table>\n",
              "<p>374999 rows × 19 columns</p>\n",
              "</div>"
            ],
            "text/plain": [
              "                   grau       proximidade  prob_V1_V2  V1_idade  \\\n",
              "V1     V2                                                         \n",
              "359633 719266  trabalho  visita_frequente    0.358209      33.0   \n",
              "236289 472579  trabalho  visita_frequente    0.682723      25.0   \n",
              "452653 905306  trabalho  visita_frequente    0.298892      49.0   \n",
              "34286  68573     amigos     visita_casual    0.510028       NaN   \n",
              "374135 748270   familia     visita_casual    0.254371      32.0   \n",
              "...                 ...               ...         ...       ...   \n",
              "259587 519175    amigos     visita_casual    0.315046      50.0   \n",
              "366062 732124   familia       visita_rara    0.197434      29.0   \n",
              "132000 264000    amigos       visita_rara    0.384484      40.0   \n",
              "146945 293890    amigos     visita_casual    0.581601       NaN   \n",
              "121988 243977  trabalho       visita_rara    0.666156      26.0   \n",
              "\n",
              "              V1_estado_civil  V1_qt_filhos  V1_estuda  V1_trabalha  \\\n",
              "V1     V2                                                             \n",
              "359633 719266      divorciado           2.0        1.0          1.0   \n",
              "236289 472579           viuvo           3.0        0.0          0.0   \n",
              "452653 905306          casado           3.0        1.0          1.0   \n",
              "34286  68573         solteiro           0.0        0.0          1.0   \n",
              "374135 748270        solteiro           1.0        0.0          1.0   \n",
              "...                       ...           ...        ...          ...   \n",
              "259587 519175        solteiro           1.0        0.0          1.0   \n",
              "366062 732124      divorciado           NaN        1.0          1.0   \n",
              "132000 264000          casado           0.0        0.0          1.0   \n",
              "146945 293890             NaN           1.0        0.0          1.0   \n",
              "121988 243977      divorciado           1.0        0.0          1.0   \n",
              "\n",
              "               V1_pratica_esportes V1_transporte_mais_utilizado     V1_IMC  \\\n",
              "V1     V2                                                                    \n",
              "359633 719266                  1.0                      publico  15.197849   \n",
              "236289 472579                  1.0                   particular  25.423565   \n",
              "452653 905306                  0.0                         taxi  36.020256   \n",
              "34286  68573                   0.0                      publico  15.032345   \n",
              "374135 748270                  0.0                   particular  14.724254   \n",
              "...                            ...                          ...        ...   \n",
              "259587 519175                  1.0                   particular  31.734106   \n",
              "366062 732124                  1.0                      publico  27.102412   \n",
              "132000 264000                  NaN                   particular        NaN   \n",
              "146945 293890                  NaN                      publico  19.923203   \n",
              "121988 243977                  1.0                   particular  26.331893   \n",
              "\n",
              "               V2_idade V2_estado_civil  V2_qt_filhos  V2_estuda  V2_trabalha  \\\n",
              "V1     V2                                                                       \n",
              "359633 719266      23.0      divorciado           1.0        1.0          1.0   \n",
              "236289 472579      33.0        solteiro           0.0        0.0          1.0   \n",
              "452653 905306      10.0             NaN           0.0        1.0          0.0   \n",
              "34286  68573        NaN      divorciado           1.0        1.0          0.0   \n",
              "374135 748270      41.0      divorciado           4.0        0.0          1.0   \n",
              "...                 ...             ...           ...        ...          ...   \n",
              "259587 519175      16.0      divorciado           3.0        0.0          1.0   \n",
              "366062 732124      35.0          casado           0.0        1.0          1.0   \n",
              "132000 264000      28.0        solteiro           1.0        0.0          1.0   \n",
              "146945 293890       NaN        solteiro           0.0        1.0          0.0   \n",
              "121988 243977      33.0          casado           1.0        0.0          1.0   \n",
              "\n",
              "               V2_pratica_esportes V2_transporte_mais_utilizado     V2_IMC  \n",
              "V1     V2                                                                   \n",
              "359633 719266                  0.0                         taxi  13.806661  \n",
              "236289 472579                  NaN                   particular  22.086553  \n",
              "452653 905306                  1.0                   particular  17.293550  \n",
              "34286  68573                   0.0                   particular  32.188224  \n",
              "374135 748270                  0.0                      publico  13.596064  \n",
              "...                            ...                          ...        ...  \n",
              "259587 519175                  1.0                      publico  23.047688  \n",
              "366062 732124                  1.0                      publico  18.627886  \n",
              "132000 264000                  1.0                      publico        NaN  \n",
              "146945 293890                  NaN                   particular  29.845558  \n",
              "121988 243977                  0.0                      publico  18.885374  \n",
              "\n",
              "[374999 rows x 19 columns]"
            ]
          },
          "execution_count": 14,
          "metadata": {},
          "output_type": "execute_result"
        }
      ],
      "source": [
        "data_train"
      ]
    },
    {
      "cell_type": "markdown",
      "id": "6cb59554",
      "metadata": {},
      "source": [
        "---\n",
        "### Grau"
      ]
    },
    {
      "cell_type": "code",
      "execution_count": 6,
      "id": "e778befe",
      "metadata": {},
      "outputs": [
        {
          "name": "stdout",
          "output_type": "stream",
          "text": [
            "Classes =  ['trabalho' 'amigos' 'familia']\n",
            "NaN (%) = 0.00\n"
          ]
        },
        {
          "data": {
            "text/plain": [
              "trabalho    0.333612\n",
              "amigos      0.333201\n",
              "familia     0.333188\n",
              "Name: grau, dtype: float64"
            ]
          },
          "execution_count": 6,
          "metadata": {},
          "output_type": "execute_result"
        }
      ],
      "source": [
        "# Valores únicos\n",
        "print(\"Classes = \",data_train_temp['grau'].unique())\n",
        "\n",
        "# Quantidade de valores faltantes\n",
        "print('NaN (%) = {:.2f}'.format(data_train_temp['grau'].isna().mean()))\n",
        "\n",
        "data_train_temp['grau'].value_counts(normalize=True)"
      ]
    },
    {
      "cell_type": "markdown",
      "id": "923207db",
      "metadata": {},
      "source": [
        "O primeiro passo para anlisar essa variável consiste em verificar se os valores de probabilidade de transmissão se diferem em cada classe."
      ]
    },
    {
      "cell_type": "code",
      "execution_count": 8,
      "id": "8eb2a77b",
      "metadata": {},
      "outputs": [
        {
          "data": {
            "text/html": [
              "<div>\n",
              "<style scoped>\n",
              "    .dataframe tbody tr th:only-of-type {\n",
              "        vertical-align: middle;\n",
              "    }\n",
              "\n",
              "    .dataframe tbody tr th {\n",
              "        vertical-align: top;\n",
              "    }\n",
              "\n",
              "    .dataframe thead th {\n",
              "        text-align: right;\n",
              "    }\n",
              "</style>\n",
              "<table border=\"1\" class=\"dataframe\">\n",
              "  <thead>\n",
              "    <tr style=\"text-align: right;\">\n",
              "      <th></th>\n",
              "      <th>pct_mean</th>\n",
              "      <th>pct_std</th>\n",
              "      <th>pct_median</th>\n",
              "    </tr>\n",
              "    <tr>\n",
              "      <th>grau</th>\n",
              "      <th></th>\n",
              "      <th></th>\n",
              "      <th></th>\n",
              "    </tr>\n",
              "  </thead>\n",
              "  <tbody>\n",
              "    <tr>\n",
              "      <th>amigos</th>\n",
              "      <td>0.512711</td>\n",
              "      <td>0.158425</td>\n",
              "      <td>0.515430</td>\n",
              "    </tr>\n",
              "    <tr>\n",
              "      <th>familia</th>\n",
              "      <td>0.431388</td>\n",
              "      <td>0.195644</td>\n",
              "      <td>0.407423</td>\n",
              "    </tr>\n",
              "    <tr>\n",
              "      <th>trabalho</th>\n",
              "      <td>0.511667</td>\n",
              "      <td>0.152093</td>\n",
              "      <td>0.514371</td>\n",
              "    </tr>\n",
              "  </tbody>\n",
              "</table>\n",
              "</div>"
            ],
            "text/plain": [
              "          pct_mean   pct_std  pct_median\n",
              "grau                                    \n",
              "amigos    0.512711  0.158425    0.515430\n",
              "familia   0.431388  0.195644    0.407423\n",
              "trabalho  0.511667  0.152093    0.514371"
            ]
          },
          "execution_count": 8,
          "metadata": {},
          "output_type": "execute_result"
        }
      ],
      "source": [
        "data_train_temp.groupby('grau').agg(\n",
        "    pct_mean = ('prob_V1_V2', 'mean'),\n",
        "    pct_std = ('prob_V1_V2', 'std'),\n",
        "    pct_median = ('prob_V1_V2', 'median'),\n",
        ")"
      ]
    },
    {
      "cell_type": "markdown",
      "id": "1e2a454e",
      "metadata": {},
      "source": [
        "Aparentemente, a taxa de contaminação entre indivíduos de mesma família é mais baixa que entre amigos e entre colegas de trabalho. Porém, como a diferença é significativamente mais baixa que o desvio padrão em cada grupo, não fica claro se é estatisticamente significativa. Para provarmos isso, podemos recorrer a uma ANOVA, assumindo como $H_0$ que a média entre todos os grupos é igual"
      ]
    },
    {
      "cell_type": "code",
      "execution_count": 9,
      "id": "9c333f13",
      "metadata": {},
      "outputs": [
        {
          "name": "stdout",
          "output_type": "stream",
          "text": [
            "p_val = 0.00\n"
          ]
        }
      ],
      "source": [
        "fvalue, pvalue = f_oneway(\n",
        "    *[\n",
        "        data_train_temp.loc[data_train_temp[\"grau\"] == grau][\"prob_V1_V2\"]\n",
        "        for grau in data_train_temp[\"grau\"].unique()\n",
        "    ]\n",
        ")\n",
        "print(\"p_val = {:.2f}\".format(pvalue))"
      ]
    },
    {
      "cell_type": "markdown",
      "id": "bb00307e",
      "metadata": {},
      "source": [
        "Como o $p_{value} < 0.01$, podemos afirmar com nível de significância de 1% que a média de algum se difere das demais. Para verificar par-a-par essa relação, podemos recorrer ao teste de Tukey"
      ]
    },
    {
      "cell_type": "code",
      "execution_count": 10,
      "id": "b97ca29c",
      "metadata": {},
      "outputs": [
        {
          "name": "stdout",
          "output_type": "stream",
          "text": [
            "  Multiple Comparison of Means - Tukey HSD, FWER=0.01  \n",
            "=======================================================\n",
            " group1  group2  meandiff p-adj   lower   upper  reject\n",
            "-------------------------------------------------------\n",
            " amigos  familia  -0.0813  0.001 -0.0833 -0.0793   True\n",
            " amigos trabalho   -0.001 0.2735  -0.003  0.0009  False\n",
            "familia trabalho   0.0803  0.001  0.0783  0.0823   True\n",
            "-------------------------------------------------------\n"
          ]
        }
      ],
      "source": [
        "tukey = pairwise_tukeyhsd(endog=data_train_temp[\"prob_V1_V2\"], groups=data_train_temp[\"grau\"], alpha=0.01)\n",
        "print(tukey)"
      ]
    },
    {
      "cell_type": "markdown",
      "id": "9493c54b",
      "metadata": {},
      "source": [
        "Dessa forma, podemos afirmar com confiança de $99\\%$ que a taxa de contaminação média entre famíliares é diferente do que as taxas médias entre amigos e colegas de trabalho. Além disso, não existe diferenças estatisticamente significativas entre as taxas de transmissão de amigos e colegas de trabalho.\n",
        "\n",
        "**Observações sobre a variável `Grau`**\n",
        "\n",
        "Dados os insights obtidos, o processo de encoding dessa variável será a criação de uma variávem dummy que marca se a transmissão está ocorrendo entre indivíduos de mesma família\n",
        "\n",
        "* Passo 1: converter a coluna grau em uma dummy que marca família ou não "
      ]
    },
    {
      "cell_type": "markdown",
      "id": "cc98310d",
      "metadata": {},
      "source": [
        "---\n",
        "### Proximidade"
      ]
    },
    {
      "cell_type": "code",
      "execution_count": 7,
      "id": "60b03b91",
      "metadata": {},
      "outputs": [
        {
          "name": "stdout",
          "output_type": "stream",
          "text": [
            "Classes =  ['visita_frequente' 'visita_casual' 'visita_rara' 'mora_junto']\n",
            "NaN (%) = 0.00\n"
          ]
        },
        {
          "data": {
            "text/plain": [
              "visita_rara         0.400833\n",
              "visita_casual       0.300603\n",
              "visita_frequente    0.198846\n",
              "mora_junto          0.099718\n",
              "Name: proximidade, dtype: float64"
            ]
          },
          "execution_count": 7,
          "metadata": {},
          "output_type": "execute_result"
        }
      ],
      "source": [
        "# Valores únicos\n",
        "print(\"Classes = \",data_train_temp['proximidade'].unique())\n",
        "\n",
        "# Quantidade de valores faltantes\n",
        "print('NaN (%) = {:.2f}'.format(data_train_temp['proximidade'].isna().mean()))\n",
        "\n",
        "\n",
        "data_train_temp['proximidade'].value_counts(normalize=True)"
      ]
    },
    {
      "cell_type": "code",
      "execution_count": 12,
      "id": "3f507624",
      "metadata": {},
      "outputs": [
        {
          "data": {
            "text/html": [
              "<div>\n",
              "<style scoped>\n",
              "    .dataframe tbody tr th:only-of-type {\n",
              "        vertical-align: middle;\n",
              "    }\n",
              "\n",
              "    .dataframe tbody tr th {\n",
              "        vertical-align: top;\n",
              "    }\n",
              "\n",
              "    .dataframe thead th {\n",
              "        text-align: right;\n",
              "    }\n",
              "</style>\n",
              "<table border=\"1\" class=\"dataframe\">\n",
              "  <thead>\n",
              "    <tr style=\"text-align: right;\">\n",
              "      <th></th>\n",
              "      <th>pct_mean</th>\n",
              "      <th>pct_std</th>\n",
              "      <th>pct_median</th>\n",
              "    </tr>\n",
              "    <tr>\n",
              "      <th>proximidade</th>\n",
              "      <th></th>\n",
              "      <th></th>\n",
              "      <th></th>\n",
              "    </tr>\n",
              "  </thead>\n",
              "  <tbody>\n",
              "    <tr>\n",
              "      <th>mora_junto</th>\n",
              "      <td>0.382816</td>\n",
              "      <td>0.149419</td>\n",
              "      <td>0.371762</td>\n",
              "    </tr>\n",
              "    <tr>\n",
              "      <th>visita_casual</th>\n",
              "      <td>0.571366</td>\n",
              "      <td>0.154684</td>\n",
              "      <td>0.574777</td>\n",
              "    </tr>\n",
              "    <tr>\n",
              "      <th>visita_frequente</th>\n",
              "      <td>0.485184</td>\n",
              "      <td>0.164803</td>\n",
              "      <td>0.487321</td>\n",
              "    </tr>\n",
              "    <tr>\n",
              "      <th>visita_rara</th>\n",
              "      <td>0.446226</td>\n",
              "      <td>0.169960</td>\n",
              "      <td>0.443701</td>\n",
              "    </tr>\n",
              "  </tbody>\n",
              "</table>\n",
              "</div>"
            ],
            "text/plain": [
              "                  pct_mean   pct_std  pct_median\n",
              "proximidade                                     \n",
              "mora_junto        0.382816  0.149419    0.371762\n",
              "visita_casual     0.571366  0.154684    0.574777\n",
              "visita_frequente  0.485184  0.164803    0.487321\n",
              "visita_rara       0.446226  0.169960    0.443701"
            ]
          },
          "execution_count": 12,
          "metadata": {},
          "output_type": "execute_result"
        }
      ],
      "source": [
        "data_train_temp.groupby('proximidade').agg(\n",
        "    pct_mean = ('prob_V1_V2', 'mean'),\n",
        "    pct_std = ('prob_V1_V2', 'std'),\n",
        "    pct_median = ('prob_V1_V2', 'median'),\n",
        ")"
      ]
    },
    {
      "cell_type": "code",
      "execution_count": 13,
      "id": "402b3d06",
      "metadata": {},
      "outputs": [
        {
          "name": "stdout",
          "output_type": "stream",
          "text": [
            "p_val = 0.00\n"
          ]
        }
      ],
      "source": [
        "fvalue, pvalue = f_oneway(\n",
        "    *[\n",
        "        data_train_temp.loc[data_train_temp[\"proximidade\"] == grau][\"prob_V1_V2\"]\n",
        "        for grau in data_train_temp[\"proximidade\"].unique()\n",
        "    ]\n",
        ")\n",
        "print(\"p_val = {:.2f}\".format(pvalue))"
      ]
    },
    {
      "cell_type": "code",
      "execution_count": 14,
      "id": "9bbd99cb",
      "metadata": {},
      "outputs": [
        {
          "name": "stdout",
          "output_type": "stream",
          "text": [
            "          Multiple Comparison of Means - Tukey HSD, FWER=0.01          \n",
            "=======================================================================\n",
            "     group1           group2      meandiff p-adj  lower   upper  reject\n",
            "-----------------------------------------------------------------------\n",
            "      mora_junto    visita_casual   0.1885 0.001  0.1855  0.1916   True\n",
            "      mora_junto visita_frequente   0.1024 0.001  0.0992  0.1056   True\n",
            "      mora_junto      visita_rara   0.0634 0.001  0.0605  0.0663   True\n",
            "   visita_casual visita_frequente  -0.0862 0.001 -0.0886 -0.0838   True\n",
            "   visita_casual      visita_rara  -0.1251 0.001 -0.1271 -0.1231   True\n",
            "visita_frequente      visita_rara   -0.039 0.001 -0.0412 -0.0367   True\n",
            "-----------------------------------------------------------------------\n"
          ]
        }
      ],
      "source": [
        "tukey = pairwise_tukeyhsd(endog=data_train_temp[\"prob_V1_V2\"], groups=data_train_temp[\"proximidade\"], alpha=0.01)\n",
        "print(tukey)"
      ]
    },
    {
      "cell_type": "markdown",
      "id": "3dd47626",
      "metadata": {},
      "source": [
        "\n",
        "\n",
        "**Observações sobre a variável `Proximidade`**\n",
        "\n",
        "O teste de Tukey mostra que as médias entre todos os grupos são diferentes entre si, com nível de significância de $1\\%$. Assim, o método de encoding mais adequado é o One-Hot, com negligência de uma classe para evitar o problema de multicolinearidade\n",
        "\n",
        "* Passo 2: aplicar one-hot-encode na coluna `Proximidade` excluindo uma das classes"
      ]
    },
    {
      "cell_type": "markdown",
      "id": "d8ed3e13",
      "metadata": {},
      "source": [
        "---\n",
        "### Idade"
      ]
    },
    {
      "cell_type": "markdown",
      "id": "9c4b4988",
      "metadata": {},
      "source": [
        "Primeiramente, vamos analisar as correlações entre as idades de infectantes/infactados com a taxa de contaminação."
      ]
    },
    {
      "cell_type": "code",
      "execution_count": 8,
      "id": "7160c2d4",
      "metadata": {},
      "outputs": [
        {
          "data": {
            "text/html": [
              "<div>\n",
              "<style scoped>\n",
              "    .dataframe tbody tr th:only-of-type {\n",
              "        vertical-align: middle;\n",
              "    }\n",
              "\n",
              "    .dataframe tbody tr th {\n",
              "        vertical-align: top;\n",
              "    }\n",
              "\n",
              "    .dataframe thead th {\n",
              "        text-align: right;\n",
              "    }\n",
              "</style>\n",
              "<table border=\"1\" class=\"dataframe\">\n",
              "  <thead>\n",
              "    <tr style=\"text-align: right;\">\n",
              "      <th></th>\n",
              "      <th>V1_idade</th>\n",
              "      <th>V2_idade</th>\n",
              "      <th>prob_V1_V2</th>\n",
              "    </tr>\n",
              "  </thead>\n",
              "  <tbody>\n",
              "    <tr>\n",
              "      <th>V1_idade</th>\n",
              "      <td>1.000000</td>\n",
              "      <td>0.000891</td>\n",
              "      <td>-0.046439</td>\n",
              "    </tr>\n",
              "    <tr>\n",
              "      <th>V2_idade</th>\n",
              "      <td>0.000891</td>\n",
              "      <td>1.000000</td>\n",
              "      <td>-0.022060</td>\n",
              "    </tr>\n",
              "    <tr>\n",
              "      <th>prob_V1_V2</th>\n",
              "      <td>-0.046439</td>\n",
              "      <td>-0.022060</td>\n",
              "      <td>1.000000</td>\n",
              "    </tr>\n",
              "  </tbody>\n",
              "</table>\n",
              "</div>"
            ],
            "text/plain": [
              "            V1_idade  V2_idade  prob_V1_V2\n",
              "V1_idade    1.000000  0.000891   -0.046439\n",
              "V2_idade    0.000891  1.000000   -0.022060\n",
              "prob_V1_V2 -0.046439 -0.022060    1.000000"
            ]
          },
          "execution_count": 8,
          "metadata": {},
          "output_type": "execute_result"
        }
      ],
      "source": [
        "data_train_temp[['V1_idade', 'V2_idade','prob_V1_V2']].corr()"
      ]
    },
    {
      "cell_type": "code",
      "execution_count": 9,
      "id": "1818f1d1",
      "metadata": {},
      "outputs": [
        {
          "data": {
            "image/png": "[encoded data removed]",
            "text/plain": [
              "<Figure size 432x288 with 1 Axes>"
            ]
          },
          "metadata": {
            "needs_background": "light"
          },
          "output_type": "display_data"
        }
      ],
      "source": [
        "import seaborn as sns\n",
        "import matplotlib.pyplot as plt\n",
        "\n",
        "\n",
        "sns.scatterplot(data=data_train, x = 'V1_idade', y = 'prob_V1_V2')\n",
        "\n",
        "plt.show()"
      ]
    },
    {
      "cell_type": "code",
      "execution_count": 10,
      "id": "888d69d0",
      "metadata": {},
      "outputs": [
        {
          "data": {
            "image/png": "[encoded data removed]",
            "text/plain": [
              "<Figure size 432x288 with 1 Axes>"
            ]
          },
          "metadata": {
            "needs_background": "light"
          },
          "output_type": "display_data"
        }
      ],
      "source": [
        "sns.scatterplot(data=data_train, x = 'V2_idade', y = 'prob_V1_V2')\n",
        "\n",
        "plt.show()"
      ]
    },
    {
      "cell_type": "code",
      "execution_count": 16,
      "id": "1e3b373f",
      "metadata": {},
      "outputs": [
        {
          "data": {
            "text/plain": [
              "22.477024677642124"
            ]
          },
          "execution_count": 16,
          "metadata": {},
          "output_type": "execute_result"
        }
      ],
      "source": [
        "data_train['V2_IMC'].mean()"
      ]
    },
    {
      "cell_type": "markdown",
      "id": "39f42cc7",
      "metadata": {},
      "source": [
        "Não é possível encontrar uma correlação bem estabelecida entre faixa etária com as taxas de contaminação. Quando isso acontece, uma boa forma de se obter insights sobre as features é através da discretização. Poderíamos fazer essa discrtização por faixas etárias homogêneas, por faixas de percentis ou mesmo por abordagens de clusterização não supervisionadas. Porém, como a idade é uma variável que temos intuição bastante grande, podemos utilizar as definições comumente usadas, como a discretização por gerações, por exemplo:"
      ]
    },
    {
      "cell_type": "code",
      "execution_count": 22,
      "id": "62cf8045",
      "metadata": {},
      "outputs": [],
      "source": [
        "from functools import reduce\n",
        "\n",
        "generation_discretizer = {\n",
        "    \"silent\": [78,np.inf],\n",
        "    \"baby_boomer\": [58, 78],\n",
        "    \"gen_x\": [43, 58],\n",
        "    \"gen_y\": [27, 43],\n",
        "    \"gen_z\": [13, 27],\n",
        "    \"gen_alpha\": [0, 13],\n",
        "}\n",
        "\n",
        "\n",
        "bins = sorted([0] + [elem[1] for elem in generation_discretizer.values()])\n",
        "\n",
        "data_train_temp[\"V1_geracao\"] = pd.cut(\n",
        "    data_train_temp[\"V1_idade\"], bins=bins, right=False, labels=generation_discretizer.keys()\n",
        ")\n",
        "\n",
        "data_train_temp[\"V2_geracao\"] = pd.cut(\n",
        "    data_train_temp[\"V2_idade\"], bins=bins, right=False, labels=generation_discretizer.keys()\n",
        ")"
      ]
    },
    {
      "cell_type": "code",
      "execution_count": 40,
      "id": "90e5ecf5",
      "metadata": {},
      "outputs": [
        {
          "data": {
            "text/html": [
              "<div>\n",
              "<style scoped>\n",
              "    .dataframe tbody tr th:only-of-type {\n",
              "        vertical-align: middle;\n",
              "    }\n",
              "\n",
              "    .dataframe tbody tr th {\n",
              "        vertical-align: top;\n",
              "    }\n",
              "\n",
              "    .dataframe thead th {\n",
              "        text-align: right;\n",
              "    }\n",
              "</style>\n",
              "<table border=\"1\" class=\"dataframe\">\n",
              "  <thead>\n",
              "    <tr style=\"text-align: right;\">\n",
              "      <th></th>\n",
              "      <th></th>\n",
              "      <th>pct_mean</th>\n",
              "      <th>pct_std</th>\n",
              "      <th>pct_median</th>\n",
              "    </tr>\n",
              "    <tr>\n",
              "      <th>V1_geracao</th>\n",
              "      <th>V2_geracao</th>\n",
              "      <th></th>\n",
              "      <th></th>\n",
              "      <th></th>\n",
              "    </tr>\n",
              "  </thead>\n",
              "  <tbody>\n",
              "    <tr>\n",
              "      <th rowspan=\"7\" valign=\"top\">baby_boomer</th>\n",
              "      <th>baby_boomer</th>\n",
              "      <td>0.491831</td>\n",
              "      <td>0.173139</td>\n",
              "      <td>0.493135</td>\n",
              "    </tr>\n",
              "    <tr>\n",
              "      <th>gen_alpha</th>\n",
              "      <td>0.514353</td>\n",
              "      <td>0.175265</td>\n",
              "      <td>0.528055</td>\n",
              "    </tr>\n",
              "    <tr>\n",
              "      <th>gen_x</th>\n",
              "      <td>0.487055</td>\n",
              "      <td>0.173753</td>\n",
              "      <td>0.488520</td>\n",
              "    </tr>\n",
              "    <tr>\n",
              "      <th>gen_y</th>\n",
              "      <td>0.481876</td>\n",
              "      <td>0.173347</td>\n",
              "      <td>0.481476</td>\n",
              "    </tr>\n",
              "    <tr>\n",
              "      <th>gen_z</th>\n",
              "      <td>0.487307</td>\n",
              "      <td>0.176644</td>\n",
              "      <td>0.484231</td>\n",
              "    </tr>\n",
              "    <tr>\n",
              "      <th>nao_informado</th>\n",
              "      <td>0.487908</td>\n",
              "      <td>0.174747</td>\n",
              "      <td>0.489801</td>\n",
              "    </tr>\n",
              "    <tr>\n",
              "      <th>silent</th>\n",
              "      <td>0.495622</td>\n",
              "      <td>0.176834</td>\n",
              "      <td>0.497616</td>\n",
              "    </tr>\n",
              "    <tr>\n",
              "      <th rowspan=\"6\" valign=\"top\">gen_alpha</th>\n",
              "      <th>baby_boomer</th>\n",
              "      <td>0.514612</td>\n",
              "      <td>0.194361</td>\n",
              "      <td>0.532553</td>\n",
              "    </tr>\n",
              "    <tr>\n",
              "      <th>gen_x</th>\n",
              "      <td>0.462384</td>\n",
              "      <td>0.188428</td>\n",
              "      <td>0.448804</td>\n",
              "    </tr>\n",
              "    <tr>\n",
              "      <th>gen_y</th>\n",
              "      <td>0.480332</td>\n",
              "      <td>0.157042</td>\n",
              "      <td>0.496935</td>\n",
              "    </tr>\n",
              "    <tr>\n",
              "      <th>gen_z</th>\n",
              "      <td>0.450866</td>\n",
              "      <td>0.190692</td>\n",
              "      <td>0.450866</td>\n",
              "    </tr>\n",
              "    <tr>\n",
              "      <th>nao_informado</th>\n",
              "      <td>0.389720</td>\n",
              "      <td>0.169973</td>\n",
              "      <td>0.381664</td>\n",
              "    </tr>\n",
              "    <tr>\n",
              "      <th>silent</th>\n",
              "      <td>0.494779</td>\n",
              "      <td>0.222878</td>\n",
              "      <td>0.402313</td>\n",
              "    </tr>\n",
              "    <tr>\n",
              "      <th rowspan=\"7\" valign=\"top\">gen_x</th>\n",
              "      <th>baby_boomer</th>\n",
              "      <td>0.482459</td>\n",
              "      <td>0.173633</td>\n",
              "      <td>0.484051</td>\n",
              "    </tr>\n",
              "    <tr>\n",
              "      <th>gen_alpha</th>\n",
              "      <td>0.480163</td>\n",
              "      <td>0.171974</td>\n",
              "      <td>0.472877</td>\n",
              "    </tr>\n",
              "    <tr>\n",
              "      <th>gen_x</th>\n",
              "      <td>0.478722</td>\n",
              "      <td>0.174226</td>\n",
              "      <td>0.479181</td>\n",
              "    </tr>\n",
              "    <tr>\n",
              "      <th>gen_y</th>\n",
              "      <td>0.473083</td>\n",
              "      <td>0.173497</td>\n",
              "      <td>0.469657</td>\n",
              "    </tr>\n",
              "    <tr>\n",
              "      <th>gen_z</th>\n",
              "      <td>0.470021</td>\n",
              "      <td>0.171291</td>\n",
              "      <td>0.469531</td>\n",
              "    </tr>\n",
              "    <tr>\n",
              "      <th>nao_informado</th>\n",
              "      <td>0.480026</td>\n",
              "      <td>0.173130</td>\n",
              "      <td>0.478892</td>\n",
              "    </tr>\n",
              "    <tr>\n",
              "      <th>silent</th>\n",
              "      <td>0.485986</td>\n",
              "      <td>0.174858</td>\n",
              "      <td>0.486864</td>\n",
              "    </tr>\n",
              "    <tr>\n",
              "      <th rowspan=\"7\" valign=\"top\">gen_y</th>\n",
              "      <th>baby_boomer</th>\n",
              "      <td>0.483291</td>\n",
              "      <td>0.171509</td>\n",
              "      <td>0.485777</td>\n",
              "    </tr>\n",
              "    <tr>\n",
              "      <th>gen_alpha</th>\n",
              "      <td>0.482050</td>\n",
              "      <td>0.173795</td>\n",
              "      <td>0.489072</td>\n",
              "    </tr>\n",
              "    <tr>\n",
              "      <th>gen_x</th>\n",
              "      <td>0.480148</td>\n",
              "      <td>0.174808</td>\n",
              "      <td>0.479883</td>\n",
              "    </tr>\n",
              "    <tr>\n",
              "      <th>gen_y</th>\n",
              "      <td>0.471769</td>\n",
              "      <td>0.175919</td>\n",
              "      <td>0.472277</td>\n",
              "    </tr>\n",
              "    <tr>\n",
              "      <th>gen_z</th>\n",
              "      <td>0.473129</td>\n",
              "      <td>0.173708</td>\n",
              "      <td>0.469984</td>\n",
              "    </tr>\n",
              "    <tr>\n",
              "      <th>nao_informado</th>\n",
              "      <td>0.479470</td>\n",
              "      <td>0.172991</td>\n",
              "      <td>0.478767</td>\n",
              "    </tr>\n",
              "    <tr>\n",
              "      <th>silent</th>\n",
              "      <td>0.487681</td>\n",
              "      <td>0.169030</td>\n",
              "      <td>0.494402</td>\n",
              "    </tr>\n",
              "    <tr>\n",
              "      <th rowspan=\"7\" valign=\"top\">gen_z</th>\n",
              "      <th>baby_boomer</th>\n",
              "      <td>0.481624</td>\n",
              "      <td>0.177666</td>\n",
              "      <td>0.477101</td>\n",
              "    </tr>\n",
              "    <tr>\n",
              "      <th>gen_alpha</th>\n",
              "      <td>0.533483</td>\n",
              "      <td>0.304757</td>\n",
              "      <td>0.697203</td>\n",
              "    </tr>\n",
              "    <tr>\n",
              "      <th>gen_x</th>\n",
              "      <td>0.476265</td>\n",
              "      <td>0.174166</td>\n",
              "      <td>0.475949</td>\n",
              "    </tr>\n",
              "    <tr>\n",
              "      <th>gen_y</th>\n",
              "      <td>0.477240</td>\n",
              "      <td>0.175073</td>\n",
              "      <td>0.469288</td>\n",
              "    </tr>\n",
              "    <tr>\n",
              "      <th>gen_z</th>\n",
              "      <td>0.464705</td>\n",
              "      <td>0.170478</td>\n",
              "      <td>0.469952</td>\n",
              "    </tr>\n",
              "    <tr>\n",
              "      <th>nao_informado</th>\n",
              "      <td>0.467322</td>\n",
              "      <td>0.166930</td>\n",
              "      <td>0.472825</td>\n",
              "    </tr>\n",
              "    <tr>\n",
              "      <th>silent</th>\n",
              "      <td>0.498789</td>\n",
              "      <td>0.161912</td>\n",
              "      <td>0.484914</td>\n",
              "    </tr>\n",
              "    <tr>\n",
              "      <th rowspan=\"7\" valign=\"top\">nao_informado</th>\n",
              "      <th>baby_boomer</th>\n",
              "      <td>0.488053</td>\n",
              "      <td>0.173926</td>\n",
              "      <td>0.489709</td>\n",
              "    </tr>\n",
              "    <tr>\n",
              "      <th>gen_alpha</th>\n",
              "      <td>0.487395</td>\n",
              "      <td>0.186732</td>\n",
              "      <td>0.489780</td>\n",
              "    </tr>\n",
              "    <tr>\n",
              "      <th>gen_x</th>\n",
              "      <td>0.484789</td>\n",
              "      <td>0.175472</td>\n",
              "      <td>0.485427</td>\n",
              "    </tr>\n",
              "    <tr>\n",
              "      <th>gen_y</th>\n",
              "      <td>0.481688</td>\n",
              "      <td>0.175394</td>\n",
              "      <td>0.478852</td>\n",
              "    </tr>\n",
              "    <tr>\n",
              "      <th>gen_z</th>\n",
              "      <td>0.488566</td>\n",
              "      <td>0.179484</td>\n",
              "      <td>0.483466</td>\n",
              "    </tr>\n",
              "    <tr>\n",
              "      <th>nao_informado</th>\n",
              "      <td>0.485327</td>\n",
              "      <td>0.176903</td>\n",
              "      <td>0.487817</td>\n",
              "    </tr>\n",
              "    <tr>\n",
              "      <th>silent</th>\n",
              "      <td>0.497684</td>\n",
              "      <td>0.180678</td>\n",
              "      <td>0.503659</td>\n",
              "    </tr>\n",
              "    <tr>\n",
              "      <th rowspan=\"7\" valign=\"top\">silent</th>\n",
              "      <th>baby_boomer</th>\n",
              "      <td>0.548226</td>\n",
              "      <td>0.158916</td>\n",
              "      <td>0.553866</td>\n",
              "    </tr>\n",
              "    <tr>\n",
              "      <th>gen_alpha</th>\n",
              "      <td>0.501650</td>\n",
              "      <td>0.199624</td>\n",
              "      <td>0.465852</td>\n",
              "    </tr>\n",
              "    <tr>\n",
              "      <th>gen_x</th>\n",
              "      <td>0.544868</td>\n",
              "      <td>0.161055</td>\n",
              "      <td>0.550154</td>\n",
              "    </tr>\n",
              "    <tr>\n",
              "      <th>gen_y</th>\n",
              "      <td>0.536071</td>\n",
              "      <td>0.160596</td>\n",
              "      <td>0.543680</td>\n",
              "    </tr>\n",
              "    <tr>\n",
              "      <th>gen_z</th>\n",
              "      <td>0.551587</td>\n",
              "      <td>0.154941</td>\n",
              "      <td>0.551943</td>\n",
              "    </tr>\n",
              "    <tr>\n",
              "      <th>nao_informado</th>\n",
              "      <td>0.544750</td>\n",
              "      <td>0.158975</td>\n",
              "      <td>0.553340</td>\n",
              "    </tr>\n",
              "    <tr>\n",
              "      <th>silent</th>\n",
              "      <td>0.562359</td>\n",
              "      <td>0.163709</td>\n",
              "      <td>0.566342</td>\n",
              "    </tr>\n",
              "  </tbody>\n",
              "</table>\n",
              "</div>"
            ],
            "text/plain": [
              "                             pct_mean   pct_std  pct_median\n",
              "V1_geracao    V2_geracao                                   \n",
              "baby_boomer   baby_boomer    0.491831  0.173139    0.493135\n",
              "              gen_alpha      0.514353  0.175265    0.528055\n",
              "              gen_x          0.487055  0.173753    0.488520\n",
              "              gen_y          0.481876  0.173347    0.481476\n",
              "              gen_z          0.487307  0.176644    0.484231\n",
              "              nao_informado  0.487908  0.174747    0.489801\n",
              "              silent         0.495622  0.176834    0.497616\n",
              "gen_alpha     baby_boomer    0.514612  0.194361    0.532553\n",
              "              gen_x          0.462384  0.188428    0.448804\n",
              "              gen_y          0.480332  0.157042    0.496935\n",
              "              gen_z          0.450866  0.190692    0.450866\n",
              "              nao_informado  0.389720  0.169973    0.381664\n",
              "              silent         0.494779  0.222878    0.402313\n",
              "gen_x         baby_boomer    0.482459  0.173633    0.484051\n",
              "              gen_alpha      0.480163  0.171974    0.472877\n",
              "              gen_x          0.478722  0.174226    0.479181\n",
              "              gen_y          0.473083  0.173497    0.469657\n",
              "              gen_z          0.470021  0.171291    0.469531\n",
              "              nao_informado  0.480026  0.173130    0.478892\n",
              "              silent         0.485986  0.174858    0.486864\n",
              "gen_y         baby_boomer    0.483291  0.171509    0.485777\n",
              "              gen_alpha      0.482050  0.173795    0.489072\n",
              "              gen_x          0.480148  0.174808    0.479883\n",
              "              gen_y          0.471769  0.175919    0.472277\n",
              "              gen_z          0.473129  0.173708    0.469984\n",
              "              nao_informado  0.479470  0.172991    0.478767\n",
              "              silent         0.487681  0.169030    0.494402\n",
              "gen_z         baby_boomer    0.481624  0.177666    0.477101\n",
              "              gen_alpha      0.533483  0.304757    0.697203\n",
              "              gen_x          0.476265  0.174166    0.475949\n",
              "              gen_y          0.477240  0.175073    0.469288\n",
              "              gen_z          0.464705  0.170478    0.469952\n",
              "              nao_informado  0.467322  0.166930    0.472825\n",
              "              silent         0.498789  0.161912    0.484914\n",
              "nao_informado baby_boomer    0.488053  0.173926    0.489709\n",
              "              gen_alpha      0.487395  0.186732    0.489780\n",
              "              gen_x          0.484789  0.175472    0.485427\n",
              "              gen_y          0.481688  0.175394    0.478852\n",
              "              gen_z          0.488566  0.179484    0.483466\n",
              "              nao_informado  0.485327  0.176903    0.487817\n",
              "              silent         0.497684  0.180678    0.503659\n",
              "silent        baby_boomer    0.548226  0.158916    0.553866\n",
              "              gen_alpha      0.501650  0.199624    0.465852\n",
              "              gen_x          0.544868  0.161055    0.550154\n",
              "              gen_y          0.536071  0.160596    0.543680\n",
              "              gen_z          0.551587  0.154941    0.551943\n",
              "              nao_informado  0.544750  0.158975    0.553340\n",
              "              silent         0.562359  0.163709    0.566342"
            ]
          },
          "metadata": {},
          "output_type": "display_data"
        }
      ],
      "source": [
        "display(\n",
        "    data_train_temp\n",
        "    .assign(V1_geracao = data_train_temp['V1_geracao'].astype(str).replace('nan','nao_informado'))\n",
        "    .assign(V2_geracao = data_train_temp['V2_geracao'].astype(str).replace('nan','nao_informado'))\n",
        "    .groupby(\n",
        "        [\"V1_geracao\", \"V2_geracao\"]\n",
        "    ).agg(\n",
        "        pct_mean=(\"prob_V1_V2\", \"mean\"),\n",
        "        pct_std=(\"prob_V1_V2\", \"std\"),\n",
        "        pct_median=(\"prob_V1_V2\", \"median\"),\n",
        "    )\n",
        ")\n"
      ]
    },
    {
      "cell_type": "markdown",
      "id": "4d87fb4d",
      "metadata": {},
      "source": [
        "**Observação**\n",
        "\n",
        "Sob essa ótica, podemos ter alguns insights interessantes. Por exemplo, podemos verificar que a média da taxa de transmissão entre pessoas da geração `silent` (56%) é significativamente maior que a média da taxa entre pessoas da geração `Z` (47%). Dessa forma, as etapas de preprocessamento para a faixa etária serão:\n",
        "\n",
        "* Passo 3: discretizar a coluna `V1_idade` pela faixa geracional, criando `V1_geracao`\n",
        "* Passo 4: imputar o valor mais frequente na feature `V1_geracao`\n",
        "* Passo 5: discretizar a coluna `V2_idade` pela faixa geracional, criando `V2_geracao`\n",
        "* Passo 6: imputar o valor mais frequente na feature `V2_geracao`"
      ]
    },
    {
      "cell_type": "markdown",
      "id": "ad035274",
      "metadata": {},
      "source": [
        "---\n",
        "## Estado Civil - Infectante"
      ]
    },
    {
      "cell_type": "code",
      "execution_count": 119,
      "id": "82ec2e68",
      "metadata": {},
      "outputs": [
        {
          "name": "stdout",
          "output_type": "stream",
          "text": [
            "Classes =  ['solteiro' 'casado' 'divorciado' 'viuvo' 'nao_informado']\n",
            "NaN (%) = 0.00\n"
          ]
        },
        {
          "data": {
            "text/plain": [
              "solteiro         0.421606\n",
              "casado           0.265022\n",
              "divorciado       0.176062\n",
              "viuvo            0.087363\n",
              "nao_informado    0.049947\n",
              "Name: V1_estado_civil, dtype: float64"
            ]
          },
          "execution_count": 119,
          "metadata": {},
          "output_type": "execute_result"
        }
      ],
      "source": [
        "# Valores únicos\n",
        "print(\"Classes = \",data_train_temp['V1_estado_civil'].unique())\n",
        "\n",
        "# Quantidade de valores faltantes\n",
        "print('NaN (%) = {:.2f}'.format(data_train_temp['V1_estado_civil'].isna().mean()))\n",
        "\n",
        "\n",
        "data_train_temp['V1_estado_civil'] = data_train_temp['V1_estado_civil'].fillna('nao_informado')\n",
        "\n",
        "data_train_temp['V1_estado_civil'].fillna('nao_informado').value_counts(normalize=True)"
      ]
    },
    {
      "cell_type": "code",
      "execution_count": 120,
      "id": "47ba23e7",
      "metadata": {},
      "outputs": [
        {
          "data": {
            "text/html": [
              "<div>\n",
              "<style scoped>\n",
              "    .dataframe tbody tr th:only-of-type {\n",
              "        vertical-align: middle;\n",
              "    }\n",
              "\n",
              "    .dataframe tbody tr th {\n",
              "        vertical-align: top;\n",
              "    }\n",
              "\n",
              "    .dataframe thead th {\n",
              "        text-align: right;\n",
              "    }\n",
              "</style>\n",
              "<table border=\"1\" class=\"dataframe\">\n",
              "  <thead>\n",
              "    <tr style=\"text-align: right;\">\n",
              "      <th></th>\n",
              "      <th>pct_mean</th>\n",
              "      <th>pct_std</th>\n",
              "      <th>pct_median</th>\n",
              "    </tr>\n",
              "    <tr>\n",
              "      <th>V1_estado_civil</th>\n",
              "      <th></th>\n",
              "      <th></th>\n",
              "      <th></th>\n",
              "    </tr>\n",
              "  </thead>\n",
              "  <tbody>\n",
              "    <tr>\n",
              "      <th>casado</th>\n",
              "      <td>0.520043</td>\n",
              "      <td>0.152245</td>\n",
              "      <td>0.525031</td>\n",
              "    </tr>\n",
              "    <tr>\n",
              "      <th>divorciado</th>\n",
              "      <td>0.522295</td>\n",
              "      <td>0.192131</td>\n",
              "      <td>0.519423</td>\n",
              "    </tr>\n",
              "    <tr>\n",
              "      <th>nao_informado</th>\n",
              "      <td>0.485394</td>\n",
              "      <td>0.174795</td>\n",
              "      <td>0.485745</td>\n",
              "    </tr>\n",
              "    <tr>\n",
              "      <th>solteiro</th>\n",
              "      <td>0.468857</td>\n",
              "      <td>0.172331</td>\n",
              "      <td>0.470436</td>\n",
              "    </tr>\n",
              "    <tr>\n",
              "      <th>viuvo</th>\n",
              "      <td>0.384869</td>\n",
              "      <td>0.153249</td>\n",
              "      <td>0.373600</td>\n",
              "    </tr>\n",
              "  </tbody>\n",
              "</table>\n",
              "</div>"
            ],
            "text/plain": [
              "                 pct_mean   pct_std  pct_median\n",
              "V1_estado_civil                                \n",
              "casado           0.520043  0.152245    0.525031\n",
              "divorciado       0.522295  0.192131    0.519423\n",
              "nao_informado    0.485394  0.174795    0.485745\n",
              "solteiro         0.468857  0.172331    0.470436\n",
              "viuvo            0.384869  0.153249    0.373600"
            ]
          },
          "execution_count": 120,
          "metadata": {},
          "output_type": "execute_result"
        }
      ],
      "source": [
        "data_train_temp.groupby(\n",
        "    \"V1_estado_civil\"\n",
        ").agg(\n",
        "    pct_mean=(\"prob_V1_V2\", \"mean\"),\n",
        "    pct_std=(\"prob_V1_V2\", \"std\"),\n",
        "    pct_median=(\"prob_V1_V2\", \"median\"),\n",
        ")"
      ]
    },
    {
      "cell_type": "code",
      "execution_count": 121,
      "id": "37e444ec",
      "metadata": {},
      "outputs": [
        {
          "name": "stdout",
          "output_type": "stream",
          "text": [
            "       Multiple Comparison of Means - Tukey HSD, FWER=0.01        \n",
            "==================================================================\n",
            "    group1        group2    meandiff p-adj   lower   upper  reject\n",
            "------------------------------------------------------------------\n",
            "       casado    divorciado   0.0023 0.0624 -0.0005   0.005  False\n",
            "       casado nao_informado  -0.0346  0.001  -0.039 -0.0303   True\n",
            "       casado      solteiro  -0.0512  0.001 -0.0534  -0.049   True\n",
            "       casado         viuvo  -0.1352  0.001 -0.1387 -0.1317   True\n",
            "   divorciado nao_informado  -0.0369  0.001 -0.0415 -0.0323   True\n",
            "   divorciado      solteiro  -0.0534  0.001  -0.056 -0.0509   True\n",
            "   divorciado         viuvo  -0.1374  0.001 -0.1412 -0.1337   True\n",
            "nao_informado      solteiro  -0.0165  0.001 -0.0208 -0.0123   True\n",
            "nao_informado         viuvo  -0.1005  0.001 -0.1056 -0.0955   True\n",
            "     solteiro         viuvo   -0.084  0.001 -0.0873 -0.0806   True\n",
            "------------------------------------------------------------------\n"
          ]
        }
      ],
      "source": [
        "tukey = pairwise_tukeyhsd(\n",
        "    endog=data_train_temp[\"prob_V1_V2\"],\n",
        "    groups=data_train_temp[\"V1_estado_civil\"],\n",
        "    alpha=0.01,\n",
        ")\n",
        "print(tukey)"
      ]
    },
    {
      "cell_type": "markdown",
      "id": "4f94bf93",
      "metadata": {},
      "source": [
        "**Observação**\n",
        "\n",
        "Com exceção das classes de casado e divorciado, todos as categorias apresentam média de taxa de contaminação distintas. Dessa forma, vou unificar as categorias de casado e divorciado e realizar um one-hot-encode, eliminando uma das categorias pra evitar multicolinearidade\n",
        "\n",
        "* Passo 7: aplicar a imputação de `nao_informado` nos faltantes de  `V1_estado_civil`\n",
        "* Passo 8: criar classe `casado_ou_divorciado`\n",
        "* Passo 9: aplicar one-hot-encode à `V1_estado_civil` com exclusão de uma classe\n"
      ]
    },
    {
      "cell_type": "markdown",
      "id": "8fa1afbb",
      "metadata": {},
      "source": [
        "---\n",
        "## Estado Civil - Infectado"
      ]
    },
    {
      "cell_type": "code",
      "execution_count": 21,
      "id": "54156122",
      "metadata": {},
      "outputs": [
        {
          "name": "stdout",
          "output_type": "stream",
          "text": [
            "Classes =  ['viuvo' 'solteiro' 'casado' nan 'divorciado']\n",
            "NaN (%) = 0.05\n"
          ]
        },
        {
          "data": {
            "text/plain": [
              "solteiro         0.419900\n",
              "casado           0.265345\n",
              "divorciado       0.176838\n",
              "viuvo            0.088006\n",
              "nao_informado    0.049912\n",
              "Name: V2_estado_civil, dtype: float64"
            ]
          },
          "execution_count": 21,
          "metadata": {},
          "output_type": "execute_result"
        }
      ],
      "source": [
        "# Valores únicos\n",
        "print(\"Classes = \",data_train_temp['V2_estado_civil'].unique())\n",
        "\n",
        "# Quantidade de valores faltantes\n",
        "print('NaN (%) = {:.2f}'.format(data_train_temp['V2_estado_civil'].isna().mean()))\n",
        "\n",
        "\n",
        "data_train_temp['V2_estado_civil'] = data_train_temp['V2_estado_civil'].fillna('nao_informado')\n",
        "\n",
        "#\n",
        "data_train_temp['V2_estado_civil'].value_counts(normalize=True)"
      ]
    },
    {
      "cell_type": "code",
      "execution_count": 22,
      "id": "2cc77ce9",
      "metadata": {},
      "outputs": [
        {
          "data": {
            "text/html": [
              "<div>\n",
              "<style scoped>\n",
              "    .dataframe tbody tr th:only-of-type {\n",
              "        vertical-align: middle;\n",
              "    }\n",
              "\n",
              "    .dataframe tbody tr th {\n",
              "        vertical-align: top;\n",
              "    }\n",
              "\n",
              "    .dataframe thead th {\n",
              "        text-align: right;\n",
              "    }\n",
              "</style>\n",
              "<table border=\"1\" class=\"dataframe\">\n",
              "  <thead>\n",
              "    <tr style=\"text-align: right;\">\n",
              "      <th></th>\n",
              "      <th>pct_mean</th>\n",
              "      <th>pct_std</th>\n",
              "      <th>pct_median</th>\n",
              "    </tr>\n",
              "    <tr>\n",
              "      <th>V2_estado_civil</th>\n",
              "      <th></th>\n",
              "      <th></th>\n",
              "      <th></th>\n",
              "    </tr>\n",
              "  </thead>\n",
              "  <tbody>\n",
              "    <tr>\n",
              "      <th>casado</th>\n",
              "      <td>0.484173</td>\n",
              "      <td>0.174265</td>\n",
              "      <td>0.485511</td>\n",
              "    </tr>\n",
              "    <tr>\n",
              "      <th>divorciado</th>\n",
              "      <td>0.485004</td>\n",
              "      <td>0.173910</td>\n",
              "      <td>0.486443</td>\n",
              "    </tr>\n",
              "    <tr>\n",
              "      <th>nao_informado</th>\n",
              "      <td>0.487634</td>\n",
              "      <td>0.174045</td>\n",
              "      <td>0.487840</td>\n",
              "    </tr>\n",
              "    <tr>\n",
              "      <th>solteiro</th>\n",
              "      <td>0.485941</td>\n",
              "      <td>0.174128</td>\n",
              "      <td>0.487317</td>\n",
              "    </tr>\n",
              "    <tr>\n",
              "      <th>viuvo</th>\n",
              "      <td>0.485130</td>\n",
              "      <td>0.173392</td>\n",
              "      <td>0.485616</td>\n",
              "    </tr>\n",
              "  </tbody>\n",
              "</table>\n",
              "</div>"
            ],
            "text/plain": [
              "                 pct_mean   pct_std  pct_median\n",
              "V2_estado_civil                                \n",
              "casado           0.484173  0.174265    0.485511\n",
              "divorciado       0.485004  0.173910    0.486443\n",
              "nao_informado    0.487634  0.174045    0.487840\n",
              "solteiro         0.485941  0.174128    0.487317\n",
              "viuvo            0.485130  0.173392    0.485616"
            ]
          },
          "execution_count": 22,
          "metadata": {},
          "output_type": "execute_result"
        }
      ],
      "source": [
        "data_train_temp.groupby(\n",
        "    \"V2_estado_civil\"\n",
        ").agg(\n",
        "    pct_mean=(\"prob_V1_V2\", \"mean\"),\n",
        "    pct_std=(\"prob_V1_V2\", \"std\"),\n",
        "    pct_median=(\"prob_V1_V2\", \"median\"),\n",
        ")"
      ]
    },
    {
      "cell_type": "code",
      "execution_count": 23,
      "id": "825cc9e1",
      "metadata": {},
      "outputs": [
        {
          "name": "stdout",
          "output_type": "stream",
          "text": [
            "       Multiple Comparison of Means - Tukey HSD, FWER=0.01       \n",
            "=================================================================\n",
            "    group1        group2    meandiff p-adj   lower  upper  reject\n",
            "-----------------------------------------------------------------\n",
            "       casado    divorciado   0.0008 0.8648  -0.002 0.0037  False\n",
            "       casado nao_informado   0.0035 0.0912 -0.0011  0.008  False\n",
            "       casado      solteiro   0.0018 0.0883 -0.0005 0.0041  False\n",
            "       casado         viuvo    0.001    0.9 -0.0026 0.0046  False\n",
            "   divorciado nao_informado   0.0026  0.359 -0.0021 0.0073  False\n",
            "   divorciado      solteiro   0.0009 0.7449 -0.0017 0.0036  False\n",
            "   divorciado         viuvo   0.0001    0.9 -0.0037 0.0039  False\n",
            "nao_informado      solteiro  -0.0017 0.6914 -0.0061 0.0027  False\n",
            "nao_informado         viuvo  -0.0025 0.5128 -0.0077 0.0027  False\n",
            "     solteiro         viuvo  -0.0008    0.9 -0.0042 0.0026  False\n",
            "-----------------------------------------------------------------\n"
          ]
        }
      ],
      "source": [
        "tukey = pairwise_tukeyhsd(\n",
        "    endog=data_train_temp[\"prob_V1_V2\"],\n",
        "    groups=data_train_temp[\"V2_estado_civil\"],\n",
        "    alpha=0.01,\n",
        ")\n",
        "print(tukey)"
      ]
    },
    {
      "cell_type": "markdown",
      "id": "ac7de0d2",
      "metadata": {},
      "source": [
        "**Observação**\n",
        "\n",
        "Nesse caso, não existe nenhuma diferença significativa de médias ocorre entre as categorias casado e solteiro. Se olharmos o valor médio e o desvio padrão das taxas em todas as categorias, conclui-se que o estado civil do infectado é uma feature de muito baixa aderência. Por conta disso, vamos desconsiderá-la na modelagem.\n",
        "\n",
        "* Passo 10: remover coluna `V2_estado_civil`"
      ]
    },
    {
      "cell_type": "markdown",
      "id": "35abda49",
      "metadata": {},
      "source": [
        "---\n",
        "## Quantidade de Filhos do Infectante"
      ]
    },
    {
      "cell_type": "code",
      "execution_count": 91,
      "id": "7571344e",
      "metadata": {},
      "outputs": [
        {
          "name": "stdout",
          "output_type": "stream",
          "text": [
            "Classes =  [ 2.  0.  1.  3. nan  5.  6.  4.  7.  8.]\n",
            "NaN (%) = 0.03\n"
          ]
        },
        {
          "data": {
            "text/plain": [
              "0.0    0.413605\n",
              "1.0    0.340988\n",
              "2.0    0.170641\n",
              "3.0    0.057182\n",
              "4.0    0.014238\n",
              "5.0    0.002777\n",
              "6.0    0.000503\n",
              "7.0    0.000058\n",
              "8.0    0.000008\n",
              "Name: V1_qt_filhos, dtype: float64"
            ]
          },
          "execution_count": 91,
          "metadata": {},
          "output_type": "execute_result"
        }
      ],
      "source": [
        "# Valores únicos\n",
        "print(\"Classes = \",data_train_temp['V1_qt_filhos'].unique())\n",
        "\n",
        "# Quantidade de valores faltantes\n",
        "print('NaN (%) = {:.2f}'.format(data_train_temp['V1_qt_filhos'].isna().mean()))\n",
        "\n",
        "\n",
        "#data_train_temp['V2_estado_civil'] = data_train_temp['V1_qt_filhos'].fillna('nao_informado')\n",
        "\n",
        "#\n",
        "data_train_temp['V1_qt_filhos'].value_counts(normalize=True)"
      ]
    },
    {
      "cell_type": "code",
      "execution_count": 65,
      "id": "d888373d",
      "metadata": {},
      "outputs": [
        {
          "name": "stdout",
          "output_type": "stream",
          "text": [
            "Multiple Comparison of Means - Tukey HSD, FWER=0.05 \n",
            "====================================================\n",
            "group1 group2 meandiff p-adj   lower   upper  reject\n",
            "----------------------------------------------------\n",
            "   0.0    1.0  -0.0106  0.001 -0.0127 -0.0085   True\n",
            "   0.0    2.0  -0.0106  0.001 -0.0132 -0.0081   True\n",
            "   0.0    3.0  -0.0107  0.001 -0.0147 -0.0068   True\n",
            "   0.0    4.0  -0.0085 0.0157 -0.0161 -0.0009   True\n",
            "   0.0    5.0  -0.0105 0.5859 -0.0275  0.0065  False\n",
            "   0.0    6.0  -0.0193 0.8386 -0.0592  0.0205  False\n",
            "   0.0    7.0  -0.0168    0.9 -0.1345  0.1008  False\n",
            "   0.0    8.0   0.1558  0.808 -0.1553   0.467  False\n",
            "   1.0    2.0  -0.0001    0.9 -0.0027  0.0026  False\n",
            "   1.0    3.0  -0.0002    0.9 -0.0042  0.0039  False\n",
            "   1.0    4.0   0.0021    0.9 -0.0056  0.0097  False\n",
            "   1.0    5.0   0.0001    0.9  -0.017  0.0171  False\n",
            "   1.0    6.0  -0.0087    0.9 -0.0486  0.0311  False\n",
            "   1.0    7.0  -0.0063    0.9 -0.1239  0.1114  False\n",
            "   1.0    8.0   0.1664  0.744 -0.1447  0.4776  False\n",
            "   2.0    3.0  -0.0001    0.9 -0.0044  0.0042  False\n",
            "   2.0    4.0   0.0021    0.9 -0.0057  0.0099  False\n",
            "   2.0    5.0   0.0001    0.9  -0.017  0.0172  False\n",
            "   2.0    6.0  -0.0087    0.9 -0.0486  0.0312  False\n",
            "   2.0    7.0  -0.0062    0.9 -0.1238  0.1114  False\n",
            "   2.0    8.0   0.1665 0.7437 -0.1447  0.4777  False\n",
            "   3.0    4.0   0.0022    0.9 -0.0061  0.0106  False\n",
            "   3.0    5.0   0.0002    0.9 -0.0171  0.0176  False\n",
            "   3.0    6.0  -0.0086    0.9 -0.0486  0.0314  False\n",
            "   3.0    7.0  -0.0061    0.9 -0.1238  0.1116  False\n",
            "   3.0    8.0   0.1666 0.7431 -0.1446  0.4778  False\n",
            "   4.0    5.0   -0.002    0.9 -0.0206  0.0165  False\n",
            "   4.0    6.0  -0.0108    0.9 -0.0514  0.0297  False\n",
            "   4.0    7.0  -0.0083    0.9 -0.1262  0.1095  False\n",
            "   4.0    8.0   0.1643 0.7569 -0.1469  0.4756  False\n",
            "   5.0    6.0  -0.0088    0.9 -0.0521  0.0345  False\n",
            "   5.0    7.0  -0.0063    0.9 -0.1251  0.1125  False\n",
            "   5.0    8.0   0.1664 0.7458 -0.1453   0.478  False\n",
            "   6.0    7.0   0.0025    0.9 -0.1217  0.1267  False\n",
            "   6.0    8.0   0.1752 0.6997 -0.1385  0.4889  False\n",
            "   7.0    8.0   0.1727 0.7736   -0.16  0.5053  False\n",
            "----------------------------------------------------\n"
          ]
        }
      ],
      "source": [
        "temp = data_train_temp[data_train_temp[\"V1_qt_filhos\"].notna()]\n",
        "\n",
        "tukey = pairwise_tukeyhsd(\n",
        "    endog=temp[\"prob_V1_V2\"],\n",
        "    groups=temp[\"V1_qt_filhos\"],\n",
        "    alpha=0.05,\n",
        ")\n",
        "print(tukey)"
      ]
    },
    {
      "cell_type": "markdown",
      "id": "218b9a3c",
      "metadata": {},
      "source": [
        "**Observações**\n",
        "\n",
        "Vemos que as únicas diferenciações nas médias entre taxas de contaminação estão entre infectantes sem filhos para com infectantes com 1,2, 3 ou 4 filhos. Vamos testar a criação de uma flag de filhos do infectante"
      ]
    },
    {
      "cell_type": "code",
      "execution_count": 66,
      "id": "40d8881e",
      "metadata": {},
      "outputs": [],
      "source": [
        "data_train_temp[\"V1_tem_filhos\"] = np.where(data_train_temp[\"V1_qt_filhos\"] > 0, 1, data_train_temp[\"V1_qt_filhos\"])"
      ]
    },
    {
      "cell_type": "code",
      "execution_count": 73,
      "id": "05f29a9c",
      "metadata": {},
      "outputs": [
        {
          "data": {
            "text/html": [
              "<div>\n",
              "<style scoped>\n",
              "    .dataframe tbody tr th:only-of-type {\n",
              "        vertical-align: middle;\n",
              "    }\n",
              "\n",
              "    .dataframe tbody tr th {\n",
              "        vertical-align: top;\n",
              "    }\n",
              "\n",
              "    .dataframe thead th {\n",
              "        text-align: right;\n",
              "    }\n",
              "</style>\n",
              "<table border=\"1\" class=\"dataframe\">\n",
              "  <thead>\n",
              "    <tr style=\"text-align: right;\">\n",
              "      <th></th>\n",
              "      <th>pct_mean</th>\n",
              "      <th>pct_std</th>\n",
              "      <th>pct_median</th>\n",
              "    </tr>\n",
              "    <tr>\n",
              "      <th>V1_tem_filhos</th>\n",
              "      <th></th>\n",
              "      <th></th>\n",
              "      <th></th>\n",
              "    </tr>\n",
              "  </thead>\n",
              "  <tbody>\n",
              "    <tr>\n",
              "      <th>0.0</th>\n",
              "      <td>0.491371</td>\n",
              "      <td>0.173369</td>\n",
              "      <td>0.493574</td>\n",
              "    </tr>\n",
              "    <tr>\n",
              "      <th>1.0</th>\n",
              "      <td>0.480801</td>\n",
              "      <td>0.174036</td>\n",
              "      <td>0.481515</td>\n",
              "    </tr>\n",
              "  </tbody>\n",
              "</table>\n",
              "</div>"
            ],
            "text/plain": [
              "               pct_mean   pct_std  pct_median\n",
              "V1_tem_filhos                                \n",
              "0.0            0.491371  0.173369    0.493574\n",
              "1.0            0.480801  0.174036    0.481515"
            ]
          },
          "metadata": {},
          "output_type": "display_data"
        },
        {
          "data": {
            "image/png": "[encoded data removed]",
            "text/plain": [
              "<Figure size 432x288 with 1 Axes>"
            ]
          },
          "metadata": {
            "needs_background": "light"
          },
          "output_type": "display_data"
        }
      ],
      "source": [
        "display(\n",
        "    data_train_temp.groupby(\n",
        "        \"V1_tem_filhos\"\n",
        "    ).agg(\n",
        "        pct_mean=(\"prob_V1_V2\", \"mean\"),\n",
        "        pct_std=(\"prob_V1_V2\", \"std\"),\n",
        "        pct_median=(\"prob_V1_V2\", \"median\"),\n",
        "    )\n",
        ")\n",
        "\n",
        "sns.violinplot(x=\"V1_tem_filhos\", y=\"prob_V1_V2\", data=data_train_temp)\n",
        "plt.show()"
      ]
    },
    {
      "cell_type": "markdown",
      "id": "731ddd68",
      "metadata": {},
      "source": [
        "Aparentemente, pessoas sem filhos tem uma taxa de contaminação ligeiramente maior; porém, a diferença da taxa de contaminação entre infectantes com e sem filhos é bastante pequena. Vamos confirmar estatisticamente se essa diferença é significativa"
      ]
    },
    {
      "cell_type": "code",
      "execution_count": 80,
      "id": "de84e841",
      "metadata": {},
      "outputs": [
        {
          "name": "stdout",
          "output_type": "stream",
          "text": [
            "    Multiple Comparison of Means - Tukey HSD, FWER=0.05    \n",
            "===========================================================\n",
            "group1     group2    meandiff p-adj   lower   upper  reject\n",
            "-----------------------------------------------------------\n",
            "   0.0           1.0  -0.0106  0.001 -0.0119 -0.0092   True\n",
            "   0.0 nao_informado  -0.0059 0.0017 -0.0099 -0.0019   True\n",
            "   1.0 nao_informado   0.0047 0.0167  0.0007  0.0087   True\n",
            "-----------------------------------------------------------\n"
          ]
        }
      ],
      "source": [
        "tukey = pairwise_tukeyhsd(\n",
        "    endog=data_train_temp[\"prob_V1_V2\"],\n",
        "    groups=data_train_temp[\"V1_tem_filhos\"].astype(str).replace('nan','nao_informado'),\n",
        "    alpha=0.05,\n",
        ")\n",
        "print(tukey)"
      ]
    },
    {
      "cell_type": "code",
      "execution_count": 82,
      "id": "5bec673a",
      "metadata": {},
      "outputs": [
        {
          "data": {
            "text/plain": [
              "1.0    0.586395\n",
              "0.0    0.413605\n",
              "Name: V1_tem_filhos, dtype: float64"
            ]
          },
          "execution_count": 82,
          "metadata": {},
          "output_type": "execute_result"
        }
      ],
      "source": [
        "data_train_temp[\"V1_tem_filhos\"].value_counts(normalize=True)"
      ]
    },
    {
      "cell_type": "markdown",
      "id": "8f4c4f4a",
      "metadata": {},
      "source": [
        "**Observações**\n",
        "\n",
        "Assim, com o teste Tukey, podemos confirmar que a diferença entre a taxa de contaminação entre infectantes com e sem filhos é significativa.\n",
        "\n",
        "* Passo 11: criar variável dummy para categoria `V1_tem_filhos` a partir da coluna `V1_qt_filhos`\n",
        "* Passo 12: preencher valores faltantes com a moda `V2_estado_civil`"
      ]
    },
    {
      "cell_type": "markdown",
      "id": "b465f426",
      "metadata": {},
      "source": [
        "---\n",
        "## Quantidade de Filhos do Infectado"
      ]
    },
    {
      "cell_type": "code",
      "execution_count": 92,
      "id": "7afe5b02",
      "metadata": {},
      "outputs": [
        {
          "name": "stdout",
          "output_type": "stream",
          "text": [
            "Classes =  [ 0.  1.  2.  3.  5. nan  4.  6.  7.  8.]\n",
            "NaN (%) = 0.03\n"
          ]
        },
        {
          "data": {
            "text/plain": [
              "0.0    0.412517\n",
              "1.0    0.341181\n",
              "2.0    0.172080\n",
              "3.0    0.056753\n",
              "4.0    0.014122\n",
              "5.0    0.002754\n",
              "6.0    0.000538\n",
              "7.0    0.000049\n",
              "8.0    0.000005\n",
              "Name: V2_qt_filhos, dtype: float64"
            ]
          },
          "execution_count": 92,
          "metadata": {},
          "output_type": "execute_result"
        }
      ],
      "source": [
        "# Valores únicos\n",
        "print(\"Classes = \",data_train_temp['V2_qt_filhos'].unique())\n",
        "\n",
        "# Quantidade de valores faltantes\n",
        "print('NaN (%) = {:.2f}'.format(data_train_temp['V2_qt_filhos'].isna().mean()))\n",
        "\n",
        "\n",
        "#data_train_temp['V2_estado_civil'] = data_train_temp['V1_qt_filhos'].fillna('nao_informado')\n",
        "\n",
        "#\n",
        "data_train_temp['V2_qt_filhos'].value_counts(normalize=True)"
      ]
    },
    {
      "cell_type": "code",
      "execution_count": 83,
      "id": "58f9df1a",
      "metadata": {},
      "outputs": [
        {
          "name": "stdout",
          "output_type": "stream",
          "text": [
            "Multiple Comparison of Means - Tukey HSD, FWER=0.05\n",
            "===================================================\n",
            "group1 group2 meandiff p-adj   lower  upper  reject\n",
            "---------------------------------------------------\n",
            "   0.0    1.0  -0.0014 0.5073 -0.0034 0.0007  False\n",
            "   0.0    2.0  -0.0012 0.8676 -0.0038 0.0014  False\n",
            "   0.0    3.0  -0.0029 0.3523 -0.0069 0.0011  False\n",
            "   0.0    4.0  -0.0008    0.9 -0.0084 0.0069  False\n",
            "   0.0    5.0  -0.0055    0.9 -0.0225 0.0116  False\n",
            "   0.0    6.0  -0.0054    0.9 -0.0439 0.0332  False\n",
            "   0.0    7.0   0.0143    0.9 -0.1128 0.1415  False\n",
            "   0.0    8.0   0.0911    0.9 -0.2902 0.4725  False\n",
            "   1.0    2.0   0.0002    0.9 -0.0025 0.0028  False\n",
            "   1.0    3.0  -0.0016    0.9 -0.0056 0.0025  False\n",
            "   1.0    4.0   0.0006    0.9 -0.0071 0.0083  False\n",
            "   1.0    5.0  -0.0041    0.9 -0.0212  0.013  False\n",
            "   1.0    6.0   -0.004    0.9 -0.0426 0.0345  False\n",
            "   1.0    7.0   0.0157    0.9 -0.1114 0.1428  False\n",
            "   1.0    8.0   0.0925    0.9 -0.2888 0.4738  False\n",
            "   2.0    3.0  -0.0017    0.9 -0.0061 0.0026  False\n",
            "   2.0    4.0   0.0005    0.9 -0.0074 0.0083  False\n",
            "   2.0    5.0  -0.0043    0.9 -0.0214 0.0129  False\n",
            "   2.0    6.0  -0.0042    0.9 -0.0427 0.0344  False\n",
            "   2.0    7.0   0.0155    0.9 -0.1116 0.1427  False\n",
            "   2.0    8.0   0.0923    0.9  -0.289 0.4737  False\n",
            "   3.0    4.0   0.0022    0.9 -0.0062 0.0106  False\n",
            "   3.0    5.0  -0.0025    0.9   -0.02 0.0149  False\n",
            "   3.0    6.0  -0.0024    0.9 -0.0411 0.0363  False\n",
            "   3.0    7.0   0.0173    0.9 -0.1099 0.1445  False\n",
            "   3.0    8.0   0.0941    0.9 -0.2873 0.4754  False\n",
            "   4.0    5.0  -0.0047    0.9 -0.0233 0.0139  False\n",
            "   4.0    6.0  -0.0046    0.9 -0.0439 0.0346  False\n",
            "   4.0    7.0   0.0151    0.9 -0.1122 0.1424  False\n",
            "   4.0    8.0   0.0919    0.9 -0.2895 0.4733  False\n",
            "   5.0    6.0   0.0001    0.9  -0.042 0.0422  False\n",
            "   5.0    7.0   0.0198    0.9 -0.1084  0.148  False\n",
            "   5.0    8.0   0.0966    0.9 -0.2851 0.4783  False\n",
            "   6.0    7.0   0.0197    0.9 -0.1131 0.1525  False\n",
            "   6.0    8.0   0.0965    0.9 -0.2868 0.4798  False\n",
            "   7.0    8.0   0.0768    0.9 -0.3252 0.4788  False\n",
            "---------------------------------------------------\n"
          ]
        }
      ],
      "source": [
        "temp = data_train_temp[data_train_temp[\"V2_qt_filhos\"].notna()]\n",
        "\n",
        "tukey = pairwise_tukeyhsd(\n",
        "    endog=temp[\"prob_V1_V2\"],\n",
        "    groups=temp[\"V2_qt_filhos\"],\n",
        "    alpha=0.05,\n",
        ")\n",
        "print(tukey)"
      ]
    },
    {
      "cell_type": "markdown",
      "id": "ea85db90",
      "metadata": {},
      "source": [
        "**Observações**\n",
        " \n",
        "Com o teste Tukey, podemos confirmar que não existe diferença entre a taxa de contaminação dos infectados pelo número de filhos. Por isso, podemos inferir que essa não é uma feature aderente.\n",
        "\n",
        "* Passo 13: excluir coluna `V2_qt_filhos`"
      ]
    },
    {
      "cell_type": "markdown",
      "id": "990e1024",
      "metadata": {},
      "source": [
        "---\n",
        "## Infectante Estuda?"
      ]
    },
    {
      "cell_type": "code",
      "execution_count": 94,
      "id": "3d5b7147",
      "metadata": {},
      "outputs": [
        {
          "name": "stdout",
          "output_type": "stream",
          "text": [
            "Classes =  [ 0.  1. nan]\n",
            "NaN (%) = 0.04\n"
          ]
        },
        {
          "data": {
            "text/plain": [
              "0.0    0.557842\n",
              "1.0    0.442158\n",
              "Name: V1_estuda, dtype: float64"
            ]
          },
          "execution_count": 94,
          "metadata": {},
          "output_type": "execute_result"
        }
      ],
      "source": [
        "# Valores únicos\n",
        "print(\"Classes = \",data_train_temp['V1_estuda'].unique())\n",
        "\n",
        "# Quantidade de valores faltantes\n",
        "print('NaN (%) = {:.2f}'.format(data_train_temp['V1_estuda'].isna().mean()))\n",
        "\n",
        "\n",
        "#data_train_temp['V2_estado_civil'] = data_train_temp['V1_qt_filhos'].fillna('nao_informado')\n",
        "\n",
        "#\n",
        "data_train_temp['V1_estuda'].value_counts(normalize=True)"
      ]
    },
    {
      "cell_type": "code",
      "execution_count": 88,
      "id": "c84031c7",
      "metadata": {},
      "outputs": [
        {
          "data": {
            "text/html": [
              "<div>\n",
              "<style scoped>\n",
              "    .dataframe tbody tr th:only-of-type {\n",
              "        vertical-align: middle;\n",
              "    }\n",
              "\n",
              "    .dataframe tbody tr th {\n",
              "        vertical-align: top;\n",
              "    }\n",
              "\n",
              "    .dataframe thead th {\n",
              "        text-align: right;\n",
              "    }\n",
              "</style>\n",
              "<table border=\"1\" class=\"dataframe\">\n",
              "  <thead>\n",
              "    <tr style=\"text-align: right;\">\n",
              "      <th></th>\n",
              "      <th>pct_mean</th>\n",
              "      <th>pct_std</th>\n",
              "      <th>pct_median</th>\n",
              "    </tr>\n",
              "    <tr>\n",
              "      <th>V1_estuda</th>\n",
              "      <th></th>\n",
              "      <th></th>\n",
              "      <th></th>\n",
              "    </tr>\n",
              "  </thead>\n",
              "  <tbody>\n",
              "    <tr>\n",
              "      <th>0.0</th>\n",
              "      <td>0.471101</td>\n",
              "      <td>0.173137</td>\n",
              "      <td>0.470516</td>\n",
              "    </tr>\n",
              "    <tr>\n",
              "      <th>1.0</th>\n",
              "      <td>0.502790</td>\n",
              "      <td>0.173048</td>\n",
              "      <td>0.506551</td>\n",
              "    </tr>\n",
              "  </tbody>\n",
              "</table>\n",
              "</div>"
            ],
            "text/plain": [
              "           pct_mean   pct_std  pct_median\n",
              "V1_estuda                                \n",
              "0.0        0.471101  0.173137    0.470516\n",
              "1.0        0.502790  0.173048    0.506551"
            ]
          },
          "metadata": {},
          "output_type": "display_data"
        },
        {
          "data": {
            "image/png": "[encoded data removed]",
            "text/plain": [
              "<Figure size 432x288 with 1 Axes>"
            ]
          },
          "metadata": {
            "needs_background": "light"
          },
          "output_type": "display_data"
        }
      ],
      "source": [
        "display(\n",
        "    data_train_temp.groupby(\n",
        "        \"V1_estuda\"\n",
        "    ).agg(\n",
        "        pct_mean=(\"prob_V1_V2\", \"mean\"),\n",
        "        pct_std=(\"prob_V1_V2\", \"std\"),\n",
        "        pct_median=(\"prob_V1_V2\", \"median\"),\n",
        "    )\n",
        ")\n",
        "\n",
        "\n",
        "sns.violinplot(x=\"V1_estuda\", y=\"prob_V1_V2\", data=data_train_temp)\n",
        "plt.show()"
      ]
    },
    {
      "cell_type": "code",
      "execution_count": 89,
      "id": "0dee2096",
      "metadata": {},
      "outputs": [
        {
          "name": "stdout",
          "output_type": "stream",
          "text": [
            "Multiple Comparison of Means - Tukey HSD, FWER=0.05\n",
            "=================================================\n",
            "group1 group2 meandiff p-adj lower  upper  reject\n",
            "-------------------------------------------------\n",
            "   0.0    1.0   0.0317 0.001 0.0306 0.0328   True\n",
            "-------------------------------------------------\n"
          ]
        }
      ],
      "source": [
        "temp = data_train_temp[data_train_temp[\"V1_estuda\"].notna()]\n",
        "\n",
        "tukey = pairwise_tukeyhsd(\n",
        "    endog=temp[\"prob_V1_V2\"],\n",
        "    groups=temp[\"V1_estuda\"],\n",
        "    alpha=0.05,\n",
        ")\n",
        "print(tukey)"
      ]
    },
    {
      "cell_type": "markdown",
      "id": "80241545",
      "metadata": {},
      "source": [
        "**Observações**\n",
        "\n",
        "Pode-se afirmar com nível de significância de $95\\%$ que infectantes que estudam tem taxa de contaminação diferente dos infectantes que não estudam.\n",
        "\n",
        "\n",
        "* Passo 14: preencher valores fantantes da coluna `V1_estuda` com o valor mais frequente"
      ]
    },
    {
      "cell_type": "markdown",
      "id": "17c0ebd1",
      "metadata": {},
      "source": [
        "---\n",
        "## Infectado Estuda?"
      ]
    },
    {
      "cell_type": "code",
      "execution_count": 95,
      "id": "f2b2feb0",
      "metadata": {},
      "outputs": [
        {
          "name": "stdout",
          "output_type": "stream",
          "text": [
            "Classes =  [nan  0.  1.]\n",
            "NaN (%) = 0.04\n"
          ]
        },
        {
          "data": {
            "text/plain": [
              "0.0    0.557275\n",
              "1.0    0.442725\n",
              "Name: V2_estuda, dtype: float64"
            ]
          },
          "execution_count": 95,
          "metadata": {},
          "output_type": "execute_result"
        }
      ],
      "source": [
        "# Valores únicos\n",
        "print(\"Classes = \",data_train_temp['V2_estuda'].unique())\n",
        "\n",
        "# Quantidade de valores faltantes\n",
        "print('NaN (%) = {:.2f}'.format(data_train_temp['V2_estuda'].isna().mean()))\n",
        "\n",
        "\n",
        "#data_train_temp['V2_estado_civil'] = data_train_temp['V1_qt_filhos'].fillna('nao_informado')\n",
        "\n",
        "#\n",
        "data_train_temp['V2_estuda'].value_counts(normalize=True)"
      ]
    },
    {
      "cell_type": "code",
      "execution_count": 96,
      "id": "e1b76df1",
      "metadata": {},
      "outputs": [
        {
          "data": {
            "text/html": [
              "<div>\n",
              "<style scoped>\n",
              "    .dataframe tbody tr th:only-of-type {\n",
              "        vertical-align: middle;\n",
              "    }\n",
              "\n",
              "    .dataframe tbody tr th {\n",
              "        vertical-align: top;\n",
              "    }\n",
              "\n",
              "    .dataframe thead th {\n",
              "        text-align: right;\n",
              "    }\n",
              "</style>\n",
              "<table border=\"1\" class=\"dataframe\">\n",
              "  <thead>\n",
              "    <tr style=\"text-align: right;\">\n",
              "      <th></th>\n",
              "      <th>pct_mean</th>\n",
              "      <th>pct_std</th>\n",
              "      <th>pct_median</th>\n",
              "    </tr>\n",
              "    <tr>\n",
              "      <th>V2_estuda</th>\n",
              "      <th></th>\n",
              "      <th></th>\n",
              "      <th></th>\n",
              "    </tr>\n",
              "  </thead>\n",
              "  <tbody>\n",
              "    <tr>\n",
              "      <th>0.0</th>\n",
              "      <td>0.484619</td>\n",
              "      <td>0.173657</td>\n",
              "      <td>0.485971</td>\n",
              "    </tr>\n",
              "    <tr>\n",
              "      <th>1.0</th>\n",
              "      <td>0.485978</td>\n",
              "      <td>0.173928</td>\n",
              "      <td>0.487330</td>\n",
              "    </tr>\n",
              "  </tbody>\n",
              "</table>\n",
              "</div>"
            ],
            "text/plain": [
              "           pct_mean   pct_std  pct_median\n",
              "V2_estuda                                \n",
              "0.0        0.484619  0.173657    0.485971\n",
              "1.0        0.485978  0.173928    0.487330"
            ]
          },
          "metadata": {},
          "output_type": "display_data"
        },
        {
          "data": {
            "image/png": "[encoded data removed]",
            "text/plain": [
              "<Figure size 432x288 with 1 Axes>"
            ]
          },
          "metadata": {
            "needs_background": "light"
          },
          "output_type": "display_data"
        }
      ],
      "source": [
        "display(\n",
        "    data_train_temp.groupby(\n",
        "        \"V2_estuda\"\n",
        "    ).agg(\n",
        "        pct_mean=(\"prob_V1_V2\", \"mean\"),\n",
        "        pct_std=(\"prob_V1_V2\", \"std\"),\n",
        "        pct_median=(\"prob_V1_V2\", \"median\"),\n",
        "    )\n",
        ")\n",
        "\n",
        "\n",
        "sns.violinplot(x=\"V2_estuda\", y=\"prob_V1_V2\", data=data_train_temp)\n",
        "plt.show()"
      ]
    },
    {
      "cell_type": "code",
      "execution_count": 99,
      "id": "7480cfca",
      "metadata": {},
      "outputs": [
        {
          "name": "stdout",
          "output_type": "stream",
          "text": [
            "Multiple Comparison of Means - Tukey HSD, FWER=0.01\n",
            "===================================================\n",
            "group1 group2 meandiff p-adj   lower  upper  reject\n",
            "---------------------------------------------------\n",
            "   0.0    1.0   0.0014 0.0198 -0.0001 0.0029  False\n",
            "---------------------------------------------------\n"
          ]
        }
      ],
      "source": [
        "temp = data_train_temp[data_train_temp[\"V2_estuda\"].notna()]\n",
        "\n",
        "tukey = pairwise_tukeyhsd(\n",
        "    endog=temp[\"prob_V1_V2\"],\n",
        "    groups=temp[\"V2_estuda\"],\n",
        "    alpha=0.01,\n",
        ")\n",
        "print(tukey)"
      ]
    },
    {
      "cell_type": "markdown",
      "id": "cbb80f48",
      "metadata": {},
      "source": [
        "**Observações**\n",
        "\n",
        "Pelo teste de Tukey, podemos afirmar com nível de significância de $99\\%$ que infectados que estudam tem taxa de contaminação igual a dos inefectados que não estudam. Dessa forma, podemos tomar esse fato como um indicativo de que a feature `V2_estuda` não é aderente.\n",
        "\n",
        "* Passo 15: desconsiderar a coluna `V2_estuda`"
      ]
    },
    {
      "cell_type": "markdown",
      "id": "0ffbdca5",
      "metadata": {},
      "source": [
        "---\n",
        "## Infectante Trabalha?"
      ]
    },
    {
      "cell_type": "code",
      "execution_count": 25,
      "id": "c5d4f9ba",
      "metadata": {},
      "outputs": [
        {
          "name": "stdout",
          "output_type": "stream",
          "text": [
            "Classes =  [ 0.  1. nan]\n",
            "NaN (%) = 0.01\n"
          ]
        },
        {
          "data": {
            "text/plain": [
              "1.0    0.556987\n",
              "0.0    0.443013\n",
              "Name: V1_trabalha, dtype: float64"
            ]
          },
          "execution_count": 25,
          "metadata": {},
          "output_type": "execute_result"
        }
      ],
      "source": [
        "# Valores únicos\n",
        "print(\"Classes = \",data_train_temp['V1_trabalha'].unique())\n",
        "\n",
        "# Quantidade de valores faltantes\n",
        "print('NaN (%) = {:.2f}'.format(data_train_temp['V1_trabalha'].isna().mean()))\n",
        "\n",
        "\n",
        "#data_train_temp['V2_estado_civil'] = data_train_temp['V1_qt_filhos'].fillna('nao_informado')\n",
        "\n",
        "#\n",
        "data_train_temp['V1_trabalha'].value_counts(normalize=True)"
      ]
    },
    {
      "cell_type": "code",
      "execution_count": 26,
      "id": "3dec6162",
      "metadata": {},
      "outputs": [
        {
          "data": {
            "text/html": [
              "<div>\n",
              "<style scoped>\n",
              "    .dataframe tbody tr th:only-of-type {\n",
              "        vertical-align: middle;\n",
              "    }\n",
              "\n",
              "    .dataframe tbody tr th {\n",
              "        vertical-align: top;\n",
              "    }\n",
              "\n",
              "    .dataframe thead th {\n",
              "        text-align: right;\n",
              "    }\n",
              "</style>\n",
              "<table border=\"1\" class=\"dataframe\">\n",
              "  <thead>\n",
              "    <tr style=\"text-align: right;\">\n",
              "      <th></th>\n",
              "      <th>pct_mean</th>\n",
              "      <th>pct_std</th>\n",
              "      <th>pct_median</th>\n",
              "    </tr>\n",
              "    <tr>\n",
              "      <th>V1_trabalha</th>\n",
              "      <th></th>\n",
              "      <th></th>\n",
              "      <th></th>\n",
              "    </tr>\n",
              "  </thead>\n",
              "  <tbody>\n",
              "    <tr>\n",
              "      <th>0.0</th>\n",
              "      <td>0.557858</td>\n",
              "      <td>0.162604</td>\n",
              "      <td>0.566510</td>\n",
              "    </tr>\n",
              "    <tr>\n",
              "      <th>1.0</th>\n",
              "      <td>0.427553</td>\n",
              "      <td>0.160776</td>\n",
              "      <td>0.420169</td>\n",
              "    </tr>\n",
              "  </tbody>\n",
              "</table>\n",
              "</div>"
            ],
            "text/plain": [
              "             pct_mean   pct_std  pct_median\n",
              "V1_trabalha                                \n",
              "0.0          0.557858  0.162604    0.566510\n",
              "1.0          0.427553  0.160776    0.420169"
            ]
          },
          "metadata": {},
          "output_type": "display_data"
        },
        {
          "data": {
            "image/png": "[encoded data removed]",
            "text/plain": [
              "<Figure size 432x288 with 1 Axes>"
            ]
          },
          "metadata": {
            "needs_background": "light"
          },
          "output_type": "display_data"
        }
      ],
      "source": [
        "display(\n",
        "    data_train_temp.groupby(\n",
        "        \"V1_trabalha\"\n",
        "    ).agg(\n",
        "        pct_mean=(\"prob_V1_V2\", \"mean\"),\n",
        "        pct_std=(\"prob_V1_V2\", \"std\"),\n",
        "        pct_median=(\"prob_V1_V2\", \"median\"),\n",
        "    )\n",
        ")\n",
        "\n",
        "\n",
        "sns.violinplot(x=\"V1_trabalha\", y=\"prob_V1_V2\", data=data_train_temp)\n",
        "plt.show()"
      ]
    },
    {
      "cell_type": "code",
      "execution_count": 27,
      "id": "a934b626",
      "metadata": {},
      "outputs": [
        {
          "name": "stdout",
          "output_type": "stream",
          "text": [
            "Multiple Comparison of Means - Tukey HSD, FWER=0.01\n",
            "===================================================\n",
            "group1 group2 meandiff p-adj  lower   upper  reject\n",
            "---------------------------------------------------\n",
            "   0.0    1.0  -0.1303 0.001 -0.1317 -0.1289   True\n",
            "---------------------------------------------------\n"
          ]
        }
      ],
      "source": [
        "temp = data_train_temp[data_train_temp[\"V1_trabalha\"].notna()]\n",
        "\n",
        "tukey = pairwise_tukeyhsd(\n",
        "    endog=temp[\"prob_V1_V2\"],\n",
        "    groups=temp[\"V1_trabalha\"],\n",
        "    alpha=0.01,\n",
        ")\n",
        "print(tukey)"
      ]
    },
    {
      "cell_type": "markdown",
      "id": "74f94b88",
      "metadata": {},
      "source": [
        "**Observações**\n",
        "\n",
        "Vamos aqui que, com $99\\%$ de confiança, infectantes que não trabalham tem média de taxa de contaminação maior que os infectantes que trabalham. Assim, a única etapa de preprocessamento aqui será a de imputação de dados faltantes com valor mais frequente\n",
        "\n",
        "* Passo 16: preencher valores faltantes da coluna `V1_trabalha` com o valor mais frequente"
      ]
    },
    {
      "cell_type": "markdown",
      "id": "d940fb50",
      "metadata": {},
      "source": [
        "---\n",
        "## Infectado Trabalha?"
      ]
    },
    {
      "cell_type": "code",
      "execution_count": 28,
      "id": "8875104d",
      "metadata": {},
      "outputs": [
        {
          "name": "stdout",
          "output_type": "stream",
          "text": [
            "Classes =  [ 1.  0. nan]\n",
            "NaN (%) = 0.01\n"
          ]
        },
        {
          "data": {
            "text/plain": [
              "1.0    0.557355\n",
              "0.0    0.442645\n",
              "Name: V2_trabalha, dtype: float64"
            ]
          },
          "execution_count": 28,
          "metadata": {},
          "output_type": "execute_result"
        }
      ],
      "source": [
        "# Valores únicos\n",
        "print(\"Classes = \",data_train_temp['V2_trabalha'].unique())\n",
        "\n",
        "# Quantidade de valores faltantes\n",
        "print('NaN (%) = {:.2f}'.format(data_train_temp['V2_trabalha'].isna().mean()))\n",
        "\n",
        "\n",
        "#data_train_temp['V2_estado_civil'] = data_train_temp['V1_qt_filhos'].fillna('nao_informado')\n",
        "\n",
        "#\n",
        "data_train_temp['V2_trabalha'].value_counts(normalize=True)"
      ]
    },
    {
      "cell_type": "code",
      "execution_count": 29,
      "id": "e1f92aaf",
      "metadata": {},
      "outputs": [
        {
          "data": {
            "text/html": [
              "<div>\n",
              "<style scoped>\n",
              "    .dataframe tbody tr th:only-of-type {\n",
              "        vertical-align: middle;\n",
              "    }\n",
              "\n",
              "    .dataframe tbody tr th {\n",
              "        vertical-align: top;\n",
              "    }\n",
              "\n",
              "    .dataframe thead th {\n",
              "        text-align: right;\n",
              "    }\n",
              "</style>\n",
              "<table border=\"1\" class=\"dataframe\">\n",
              "  <thead>\n",
              "    <tr style=\"text-align: right;\">\n",
              "      <th></th>\n",
              "      <th>pct_mean</th>\n",
              "      <th>pct_std</th>\n",
              "      <th>pct_median</th>\n",
              "    </tr>\n",
              "    <tr>\n",
              "      <th>V2_trabalha</th>\n",
              "      <th></th>\n",
              "      <th></th>\n",
              "      <th></th>\n",
              "    </tr>\n",
              "  </thead>\n",
              "  <tbody>\n",
              "    <tr>\n",
              "      <th>0.0</th>\n",
              "      <td>0.486024</td>\n",
              "      <td>0.174026</td>\n",
              "      <td>0.487431</td>\n",
              "    </tr>\n",
              "    <tr>\n",
              "      <th>1.0</th>\n",
              "      <td>0.484724</td>\n",
              "      <td>0.174100</td>\n",
              "      <td>0.485838</td>\n",
              "    </tr>\n",
              "  </tbody>\n",
              "</table>\n",
              "</div>"
            ],
            "text/plain": [
              "             pct_mean   pct_std  pct_median\n",
              "V2_trabalha                                \n",
              "0.0          0.486024  0.174026    0.487431\n",
              "1.0          0.484724  0.174100    0.485838"
            ]
          },
          "metadata": {},
          "output_type": "display_data"
        },
        {
          "data": {
            "image/png": "[encoded data removed]",
            "text/plain": [
              "<Figure size 432x288 with 1 Axes>"
            ]
          },
          "metadata": {
            "needs_background": "light"
          },
          "output_type": "display_data"
        }
      ],
      "source": [
        "display(\n",
        "    data_train_temp.groupby(\n",
        "        \"V2_trabalha\"\n",
        "    ).agg(\n",
        "        pct_mean=(\"prob_V1_V2\", \"mean\"),\n",
        "        pct_std=(\"prob_V1_V2\", \"std\"),\n",
        "        pct_median=(\"prob_V1_V2\", \"median\"),\n",
        "    )\n",
        ")\n",
        "\n",
        "\n",
        "sns.violinplot(x=\"V2_trabalha\", y=\"prob_V1_V2\", data=data_train_temp)\n",
        "plt.show()"
      ]
    },
    {
      "cell_type": "code",
      "execution_count": 30,
      "id": "162d3cf1",
      "metadata": {},
      "outputs": [
        {
          "name": "stdout",
          "output_type": "stream",
          "text": [
            "Multiple Comparison of Means - Tukey HSD, FWER=0.01\n",
            "===================================================\n",
            "group1 group2 meandiff p-adj   lower  upper  reject\n",
            "---------------------------------------------------\n",
            "   0.0    1.0  -0.0013 0.0235 -0.0028 0.0002  False\n",
            "---------------------------------------------------\n"
          ]
        }
      ],
      "source": [
        "temp = data_train_temp[data_train_temp[\"V2_trabalha\"].notna()]\n",
        "\n",
        "tukey = pairwise_tukeyhsd(\n",
        "    endog=temp[\"prob_V1_V2\"],\n",
        "    groups=temp[\"V2_trabalha\"],\n",
        "    alpha=0.01,\n",
        ")\n",
        "print(tukey)"
      ]
    },
    {
      "cell_type": "markdown",
      "id": "fe323a5b",
      "metadata": {},
      "source": [
        "**Observações**\n",
        "\n",
        "Pelo teste de Tukey, podemos afirmar com nível de significância de $99\\%$ que infectados que trabalham tem taxa de contaminação igual a dos inefectados que não trabalham. Dessa forma, podemos tomar esse fato como um indicativo de que a feature `V2_trabalha` não é aderente.\n",
        "\n",
        "* Passo 17: desconsiderar a coluna `V2_trabalha`"
      ]
    },
    {
      "cell_type": "markdown",
      "id": "00fa29a9",
      "metadata": {},
      "source": [
        "---\n",
        "## Infectante Pratica Esportes?"
      ]
    },
    {
      "cell_type": "code",
      "execution_count": 49,
      "id": "74658191",
      "metadata": {},
      "outputs": [
        {
          "name": "stdout",
          "output_type": "stream",
          "text": [
            "Classes =  [nan  1.  0.]\n",
            "NaN (%) = 0.149\n"
          ]
        },
        {
          "data": {
            "text/plain": [
              "sim              0.510279\n",
              "nao              0.340614\n",
              "nao_informado    0.149107\n",
              "Name: V1_pratica_esportes, dtype: float64"
            ]
          },
          "execution_count": 49,
          "metadata": {},
          "output_type": "execute_result"
        }
      ],
      "source": [
        "# Valores únicos\n",
        "print(\"Classes = \", data_train_temp[\"V1_pratica_esportes\"].unique())\n",
        "\n",
        "# Quantidade de valores faltantes\n",
        "print(\"NaN (%) = {:.3f}\".format(data_train_temp[\"V1_pratica_esportes\"].isna().mean()))\n",
        "\n",
        "\n",
        "# data_train_temp['V2_estado_civil'] = data_train_temp['V1_qt_filhos'].fillna('nao_informado')\n",
        "\n",
        "#\n",
        "data_train_temp[\"V1_pratica_esportes\"].replace({0: \"nao\", 1: \"sim\"}).fillna(\n",
        "    \"nao_informado\"\n",
        ").value_counts(normalize=True)"
      ]
    },
    {
      "cell_type": "code",
      "execution_count": 32,
      "id": "b62aa38c",
      "metadata": {},
      "outputs": [
        {
          "data": {
            "text/html": [
              "<div>\n",
              "<style scoped>\n",
              "    .dataframe tbody tr th:only-of-type {\n",
              "        vertical-align: middle;\n",
              "    }\n",
              "\n",
              "    .dataframe tbody tr th {\n",
              "        vertical-align: top;\n",
              "    }\n",
              "\n",
              "    .dataframe thead th {\n",
              "        text-align: right;\n",
              "    }\n",
              "</style>\n",
              "<table border=\"1\" class=\"dataframe\">\n",
              "  <thead>\n",
              "    <tr style=\"text-align: right;\">\n",
              "      <th></th>\n",
              "      <th>pct_mean</th>\n",
              "      <th>pct_std</th>\n",
              "      <th>pct_median</th>\n",
              "    </tr>\n",
              "    <tr>\n",
              "      <th>V1_pratica_esportes</th>\n",
              "      <th></th>\n",
              "      <th></th>\n",
              "      <th></th>\n",
              "    </tr>\n",
              "  </thead>\n",
              "  <tbody>\n",
              "    <tr>\n",
              "      <th>0.0</th>\n",
              "      <td>0.410644</td>\n",
              "      <td>0.160811</td>\n",
              "      <td>0.399372</td>\n",
              "    </tr>\n",
              "    <tr>\n",
              "      <th>1.0</th>\n",
              "      <td>0.534993</td>\n",
              "      <td>0.164659</td>\n",
              "      <td>0.539016</td>\n",
              "    </tr>\n",
              "  </tbody>\n",
              "</table>\n",
              "</div>"
            ],
            "text/plain": [
              "                     pct_mean   pct_std  pct_median\n",
              "V1_pratica_esportes                                \n",
              "0.0                  0.410644  0.160811    0.399372\n",
              "1.0                  0.534993  0.164659    0.539016"
            ]
          },
          "metadata": {},
          "output_type": "display_data"
        },
        {
          "data": {
            "image/png": "[encoded data removed]",
            "text/plain": [
              "<Figure size 432x288 with 1 Axes>"
            ]
          },
          "metadata": {
            "needs_background": "light"
          },
          "output_type": "display_data"
        }
      ],
      "source": [
        "display(\n",
        "    data_train_temp.groupby(\n",
        "        \"V1_pratica_esportes\"\n",
        "    ).agg(\n",
        "        pct_mean=(\"prob_V1_V2\", \"mean\"),\n",
        "        pct_std=(\"prob_V1_V2\", \"std\"),\n",
        "        pct_median=(\"prob_V1_V2\", \"median\"),\n",
        "    )\n",
        ")\n",
        "\n",
        "\n",
        "sns.violinplot(x=\"V1_pratica_esportes\", y=\"prob_V1_V2\", data=data_train_temp)\n",
        "plt.show()"
      ]
    },
    {
      "cell_type": "code",
      "execution_count": 33,
      "id": "c5de87a7",
      "metadata": {},
      "outputs": [
        {
          "name": "stdout",
          "output_type": "stream",
          "text": [
            "Multiple Comparison of Means - Tukey HSD, FWER=0.01\n",
            "=================================================\n",
            "group1 group2 meandiff p-adj lower  upper  reject\n",
            "-------------------------------------------------\n",
            "   0.0    1.0   0.1243 0.001 0.1228 0.1259   True\n",
            "-------------------------------------------------\n"
          ]
        }
      ],
      "source": [
        "temp = data_train_temp[data_train_temp[\"V1_pratica_esportes\"].notna()]\n",
        "\n",
        "tukey = pairwise_tukeyhsd(\n",
        "    endog=temp[\"prob_V1_V2\"],\n",
        "    groups=temp[\"V1_pratica_esportes\"],\n",
        "    alpha=0.01,\n",
        ")\n",
        "print(tukey)"
      ]
    },
    {
      "cell_type": "markdown",
      "id": "2e11803f",
      "metadata": {},
      "source": [
        "**Observações**\n",
        "\n",
        "Vamos aqui que, com $99\\%$ de confiança, infectantes que não praticam esportes tem média de taxa de contaminação menor que os infectantes que praticam esportes. Assim, a única etapa de preprocessamento aqui será a de imputação de dados faltantes com valor mais frequente\n",
        "\n",
        "* Passo 18: preencher valores faltantes da coluna `V1_pratica_esportes` com o valor mais frequente"
      ]
    },
    {
      "cell_type": "markdown",
      "id": "c8afba5a",
      "metadata": {},
      "source": [
        "---\n",
        "## Infectado Pratica Esportes?"
      ]
    },
    {
      "cell_type": "code",
      "execution_count": 34,
      "id": "4639a5b5",
      "metadata": {},
      "outputs": [
        {
          "name": "stdout",
          "output_type": "stream",
          "text": [
            "Classes =  [ 1.  0. nan]\n",
            "NaN (%) = 0.15\n"
          ]
        },
        {
          "data": {
            "text/plain": [
              "1.0    0.601277\n",
              "0.0    0.398723\n",
              "Name: V2_pratica_esportes, dtype: float64"
            ]
          },
          "execution_count": 34,
          "metadata": {},
          "output_type": "execute_result"
        }
      ],
      "source": [
        "# Valores únicos\n",
        "print(\"Classes = \",data_train_temp['V2_pratica_esportes'].unique())\n",
        "\n",
        "# Quantidade de valores faltantes\n",
        "print('NaN (%) = {:.2f}'.format(data_train_temp['V2_pratica_esportes'].isna().mean()))\n",
        "\n",
        "\n",
        "#data_train_temp['V2_estado_civil'] = data_train_temp['V1_qt_filhos'].fillna('nao_informado')\n",
        "\n",
        "#\n",
        "data_train_temp['V2_pratica_esportes'].value_counts(normalize=True)"
      ]
    },
    {
      "cell_type": "code",
      "execution_count": 35,
      "id": "68421c30",
      "metadata": {},
      "outputs": [
        {
          "data": {
            "text/html": [
              "<div>\n",
              "<style scoped>\n",
              "    .dataframe tbody tr th:only-of-type {\n",
              "        vertical-align: middle;\n",
              "    }\n",
              "\n",
              "    .dataframe tbody tr th {\n",
              "        vertical-align: top;\n",
              "    }\n",
              "\n",
              "    .dataframe thead th {\n",
              "        text-align: right;\n",
              "    }\n",
              "</style>\n",
              "<table border=\"1\" class=\"dataframe\">\n",
              "  <thead>\n",
              "    <tr style=\"text-align: right;\">\n",
              "      <th></th>\n",
              "      <th>pct_mean</th>\n",
              "      <th>pct_std</th>\n",
              "      <th>pct_median</th>\n",
              "    </tr>\n",
              "    <tr>\n",
              "      <th>V2_pratica_esportes</th>\n",
              "      <th></th>\n",
              "      <th></th>\n",
              "      <th></th>\n",
              "    </tr>\n",
              "  </thead>\n",
              "  <tbody>\n",
              "    <tr>\n",
              "      <th>0.0</th>\n",
              "      <td>0.485499</td>\n",
              "      <td>0.173971</td>\n",
              "      <td>0.485665</td>\n",
              "    </tr>\n",
              "    <tr>\n",
              "      <th>1.0</th>\n",
              "      <td>0.484895</td>\n",
              "      <td>0.174004</td>\n",
              "      <td>0.486527</td>\n",
              "    </tr>\n",
              "  </tbody>\n",
              "</table>\n",
              "</div>"
            ],
            "text/plain": [
              "                     pct_mean   pct_std  pct_median\n",
              "V2_pratica_esportes                                \n",
              "0.0                  0.485499  0.173971    0.485665\n",
              "1.0                  0.484895  0.174004    0.486527"
            ]
          },
          "metadata": {},
          "output_type": "display_data"
        },
        {
          "data": {
            "image/png": "[encoded data removed]",
            "text/plain": [
              "<Figure size 432x288 with 1 Axes>"
            ]
          },
          "metadata": {
            "needs_background": "light"
          },
          "output_type": "display_data"
        }
      ],
      "source": [
        "display(\n",
        "    data_train_temp.groupby(\n",
        "        \"V2_pratica_esportes\"\n",
        "    ).agg(\n",
        "        pct_mean=(\"prob_V1_V2\", \"mean\"),\n",
        "        pct_std=(\"prob_V1_V2\", \"std\"),\n",
        "        pct_median=(\"prob_V1_V2\", \"median\"),\n",
        "    )\n",
        ")\n",
        "\n",
        "\n",
        "sns.violinplot(x=\"V2_pratica_esportes\", y=\"prob_V1_V2\", data=data_train_temp)\n",
        "plt.show()"
      ]
    },
    {
      "cell_type": "code",
      "execution_count": 36,
      "id": "a7cc4e12",
      "metadata": {},
      "outputs": [
        {
          "name": "stdout",
          "output_type": "stream",
          "text": [
            "Multiple Comparison of Means - Tukey HSD, FWER=0.01\n",
            "==================================================\n",
            "group1 group2 meandiff p-adj   lower  upper reject\n",
            "--------------------------------------------------\n",
            "   0.0    1.0  -0.0006 0.3363 -0.0022 0.001  False\n",
            "--------------------------------------------------\n"
          ]
        }
      ],
      "source": [
        "temp = data_train_temp[data_train_temp[\"V2_pratica_esportes\"].notna()]\n",
        "\n",
        "tukey = pairwise_tukeyhsd(\n",
        "    endog=temp[\"prob_V1_V2\"],\n",
        "    groups=temp[\"V2_pratica_esportes\"],\n",
        "    alpha=0.01,\n",
        ")\n",
        "print(tukey)"
      ]
    },
    {
      "cell_type": "markdown",
      "id": "d48eb447",
      "metadata": {},
      "source": [
        "**Observações**\n",
        "\n",
        "Vamos aqui que, com $99\\%$ de confiança, infectados que não praticam esportes tem média de taxa de contaminação igual que os infectados que praticam esportes. Assim, conclui-se que essa não é uma feature aderente\n",
        "\n",
        "* Passo 19: negligenciar a coluna `V2_pratica_esportes`"
      ]
    },
    {
      "cell_type": "markdown",
      "id": "461824b0",
      "metadata": {},
      "source": [
        "---\n",
        "## Transporte mais utilizado pelo infectante"
      ]
    },
    {
      "cell_type": "code",
      "execution_count": 37,
      "id": "518bb503",
      "metadata": {},
      "outputs": [
        {
          "name": "stdout",
          "output_type": "stream",
          "text": [
            "Classes =  ['publico' 'particular' 'taxi' nan]\n",
            "NaN (%) = 0.04\n"
          ]
        },
        {
          "data": {
            "text/plain": [
              "publico       0.600550\n",
              "particular    0.349924\n",
              "taxi          0.049525\n",
              "Name: V1_transporte_mais_utilizado, dtype: float64"
            ]
          },
          "execution_count": 37,
          "metadata": {},
          "output_type": "execute_result"
        }
      ],
      "source": [
        "# Valores únicos\n",
        "print(\"Classes = \",data_train_temp['V1_transporte_mais_utilizado'].unique())\n",
        "\n",
        "# Quantidade de valores faltantes\n",
        "print('NaN (%) = {:.2f}'.format(data_train_temp['V1_transporte_mais_utilizado'].isna().mean()))\n",
        "\n",
        "\n",
        "#data_train_temp['V2_estado_civil'] = data_train_temp['V1_qt_filhos'].fillna('nao_informado')\n",
        "\n",
        "#\n",
        "data_train_temp['V1_transporte_mais_utilizado'].value_counts(normalize=True)"
      ]
    },
    {
      "cell_type": "code",
      "execution_count": 38,
      "id": "b261c0cc",
      "metadata": {},
      "outputs": [
        {
          "data": {
            "text/html": [
              "<div>\n",
              "<style scoped>\n",
              "    .dataframe tbody tr th:only-of-type {\n",
              "        vertical-align: middle;\n",
              "    }\n",
              "\n",
              "    .dataframe tbody tr th {\n",
              "        vertical-align: top;\n",
              "    }\n",
              "\n",
              "    .dataframe thead th {\n",
              "        text-align: right;\n",
              "    }\n",
              "</style>\n",
              "<table border=\"1\" class=\"dataframe\">\n",
              "  <thead>\n",
              "    <tr style=\"text-align: right;\">\n",
              "      <th></th>\n",
              "      <th>pct_mean</th>\n",
              "      <th>pct_std</th>\n",
              "      <th>pct_median</th>\n",
              "    </tr>\n",
              "    <tr>\n",
              "      <th>V1_transporte_mais_utilizado</th>\n",
              "      <th></th>\n",
              "      <th></th>\n",
              "      <th></th>\n",
              "    </tr>\n",
              "  </thead>\n",
              "  <tbody>\n",
              "    <tr>\n",
              "      <th>particular</th>\n",
              "      <td>0.475635</td>\n",
              "      <td>0.193578</td>\n",
              "      <td>0.464050</td>\n",
              "    </tr>\n",
              "    <tr>\n",
              "      <th>publico</th>\n",
              "      <td>0.495952</td>\n",
              "      <td>0.161397</td>\n",
              "      <td>0.502126</td>\n",
              "    </tr>\n",
              "    <tr>\n",
              "      <th>taxi</th>\n",
              "      <td>0.426382</td>\n",
              "      <td>0.160277</td>\n",
              "      <td>0.417530</td>\n",
              "    </tr>\n",
              "  </tbody>\n",
              "</table>\n",
              "</div>"
            ],
            "text/plain": [
              "                              pct_mean   pct_std  pct_median\n",
              "V1_transporte_mais_utilizado                                \n",
              "particular                    0.475635  0.193578    0.464050\n",
              "publico                       0.495952  0.161397    0.502126\n",
              "taxi                          0.426382  0.160277    0.417530"
            ]
          },
          "metadata": {},
          "output_type": "display_data"
        },
        {
          "data": {
            "image/png": "[encoded data removed]",
            "text/plain": [
              "<Figure size 432x288 with 1 Axes>"
            ]
          },
          "metadata": {
            "needs_background": "light"
          },
          "output_type": "display_data"
        }
      ],
      "source": [
        "display(\n",
        "    data_train_temp.groupby(\n",
        "        \"V1_transporte_mais_utilizado\"\n",
        "    ).agg(\n",
        "        pct_mean=(\"prob_V1_V2\", \"mean\"),\n",
        "        pct_std=(\"prob_V1_V2\", \"std\"),\n",
        "        pct_median=(\"prob_V1_V2\", \"median\"),\n",
        "    )\n",
        ")\n",
        "\n",
        "\n",
        "sns.violinplot(x=\"V1_transporte_mais_utilizado\", y=\"prob_V1_V2\", data=data_train_temp)\n",
        "plt.show()"
      ]
    },
    {
      "cell_type": "code",
      "execution_count": 39,
      "id": "131eb47c",
      "metadata": {},
      "outputs": [
        {
          "name": "stdout",
          "output_type": "stream",
          "text": [
            "  Multiple Comparison of Means - Tukey HSD, FWER=0.01   \n",
            "========================================================\n",
            "  group1    group2 meandiff p-adj  lower   upper  reject\n",
            "--------------------------------------------------------\n",
            "particular publico   0.0203 0.001  0.0185  0.0221   True\n",
            "particular    taxi  -0.0493 0.001 -0.0533 -0.0452   True\n",
            "   publico    taxi  -0.0696 0.001 -0.0735 -0.0656   True\n",
            "--------------------------------------------------------\n"
          ]
        }
      ],
      "source": [
        "temp = data_train_temp[data_train_temp[\"V1_transporte_mais_utilizado\"].notna()]\n",
        "\n",
        "tukey = pairwise_tukeyhsd(\n",
        "    endog=temp[\"prob_V1_V2\"],\n",
        "    groups=temp[\"V1_transporte_mais_utilizado\"],\n",
        "    alpha=0.01,\n",
        ")\n",
        "print(tukey)"
      ]
    },
    {
      "cell_type": "markdown",
      "id": "96c9dd24",
      "metadata": {},
      "source": [
        "**Observações**\n",
        "\n",
        "Pelo teste de Tukey, verifica-se que a média de taxa de contaminação de acordo com a forma de transporte mais utilizado é diferente entre todos as categorias.\n",
        "\n",
        "* Transporte público é o meio de transporte dentro os infectantes com maior média na taxa de infecção\n",
        "* Taxi é o meio de transporte dentro os infectantes com menor média na taxa de infecção\n",
        "\n",
        "O método mais adequado para esse caso é o one-hot-encode, lembrando que negligenciar uma das categorias pra evitar multicolinearidade\n",
        "\n",
        "\n",
        "* Passo 20: subsituit valores faltantes da coluna `V1_transporte_mais_utilizado` pela moda\n",
        "* Passo 21: aplicar one-hot-encode na coluna `V1_transporte_mais_utilizado` excluindo uma categoria"
      ]
    },
    {
      "cell_type": "markdown",
      "id": "fa69dd56",
      "metadata": {},
      "source": [
        "---\n",
        "## Transporte mais utilizado pelo infectado"
      ]
    },
    {
      "cell_type": "code",
      "execution_count": 40,
      "id": "c161bd78",
      "metadata": {},
      "outputs": [
        {
          "name": "stdout",
          "output_type": "stream",
          "text": [
            "Classes =  ['particular' 'publico' 'taxi' nan]\n",
            "NaN (%) = 0.04\n"
          ]
        },
        {
          "data": {
            "text/plain": [
              "publico       0.599918\n",
              "particular    0.349711\n",
              "taxi          0.050371\n",
              "Name: V2_transporte_mais_utilizado, dtype: float64"
            ]
          },
          "execution_count": 40,
          "metadata": {},
          "output_type": "execute_result"
        }
      ],
      "source": [
        "# Valores únicos\n",
        "print(\"Classes = \",data_train_temp['V2_transporte_mais_utilizado'].unique())\n",
        "\n",
        "# Quantidade de valores faltantes\n",
        "print('NaN (%) = {:.2f}'.format(data_train_temp['V2_transporte_mais_utilizado'].isna().mean()))\n",
        "\n",
        "\n",
        "#data_train_temp['V2_estado_civil'] = data_train_temp['V1_qt_filhos'].fillna('nao_informado')\n",
        "\n",
        "#\n",
        "data_train_temp['V2_transporte_mais_utilizado'].value_counts(normalize=True)"
      ]
    },
    {
      "cell_type": "code",
      "execution_count": 50,
      "id": "4d5acb83",
      "metadata": {},
      "outputs": [
        {
          "data": {
            "text/html": [
              "<div>\n",
              "<style scoped>\n",
              "    .dataframe tbody tr th:only-of-type {\n",
              "        vertical-align: middle;\n",
              "    }\n",
              "\n",
              "    .dataframe tbody tr th {\n",
              "        vertical-align: top;\n",
              "    }\n",
              "\n",
              "    .dataframe thead th {\n",
              "        text-align: right;\n",
              "    }\n",
              "</style>\n",
              "<table border=\"1\" class=\"dataframe\">\n",
              "  <thead>\n",
              "    <tr style=\"text-align: right;\">\n",
              "      <th></th>\n",
              "      <th>pct_mean</th>\n",
              "      <th>pct_std</th>\n",
              "      <th>pct_median</th>\n",
              "    </tr>\n",
              "    <tr>\n",
              "      <th>V2_transporte_mais_utilizado</th>\n",
              "      <th></th>\n",
              "      <th></th>\n",
              "      <th></th>\n",
              "    </tr>\n",
              "  </thead>\n",
              "  <tbody>\n",
              "    <tr>\n",
              "      <th>particular</th>\n",
              "      <td>0.552992</td>\n",
              "      <td>0.167164</td>\n",
              "      <td>0.564461</td>\n",
              "    </tr>\n",
              "    <tr>\n",
              "      <th>publico</th>\n",
              "      <td>0.447352</td>\n",
              "      <td>0.166297</td>\n",
              "      <td>0.444342</td>\n",
              "    </tr>\n",
              "    <tr>\n",
              "      <th>taxi</th>\n",
              "      <td>0.466710</td>\n",
              "      <td>0.168828</td>\n",
              "      <td>0.466736</td>\n",
              "    </tr>\n",
              "  </tbody>\n",
              "</table>\n",
              "</div>"
            ],
            "text/plain": [
              "                              pct_mean   pct_std  pct_median\n",
              "V2_transporte_mais_utilizado                                \n",
              "particular                    0.552992  0.167164    0.564461\n",
              "publico                       0.447352  0.166297    0.444342\n",
              "taxi                          0.466710  0.168828    0.466736"
            ]
          },
          "metadata": {},
          "output_type": "display_data"
        },
        {
          "data": {
            "image/png": "[encoded data removed]",
            "text/plain": [
              "<Figure size 432x288 with 1 Axes>"
            ]
          },
          "metadata": {
            "needs_background": "light"
          },
          "output_type": "display_data"
        }
      ],
      "source": [
        "display(\n",
        "    data_train_temp.groupby(\n",
        "        \"V2_transporte_mais_utilizado\"\n",
        "    ).agg(\n",
        "        pct_mean=(\"prob_V1_V2\", \"mean\"),\n",
        "        pct_std=(\"prob_V1_V2\", \"std\"),\n",
        "        pct_median=(\"prob_V1_V2\", \"median\"),\n",
        "    )\n",
        ")\n",
        "\n",
        "\n",
        "sns.violinplot(x=\"V2_transporte_mais_utilizado\", y=\"prob_V1_V2\", data=data_train_temp)\n",
        "plt.show()"
      ]
    },
    {
      "cell_type": "code",
      "execution_count": 51,
      "id": "048ced12",
      "metadata": {},
      "outputs": [
        {
          "name": "stdout",
          "output_type": "stream",
          "text": [
            "  Multiple Comparison of Means - Tukey HSD, FWER=0.01   \n",
            "========================================================\n",
            "  group1    group2 meandiff p-adj  lower   upper  reject\n",
            "--------------------------------------------------------\n",
            "particular publico  -0.1056 0.001 -0.1074 -0.1039   True\n",
            "particular    taxi  -0.0863 0.001 -0.0901 -0.0824   True\n",
            "   publico    taxi   0.0194 0.001  0.0156  0.0231   True\n",
            "--------------------------------------------------------\n"
          ]
        }
      ],
      "source": [
        "temp = data_train_temp[data_train_temp[\"V2_transporte_mais_utilizado\"].notna()]\n",
        "\n",
        "tukey = pairwise_tukeyhsd(\n",
        "    endog=temp[\"prob_V1_V2\"],\n",
        "    groups=temp[\"V2_transporte_mais_utilizado\"],\n",
        "    alpha=0.01,\n",
        ")\n",
        "print(tukey)"
      ]
    },
    {
      "cell_type": "markdown",
      "id": "c3530ef6",
      "metadata": {},
      "source": [
        "**Observações**\n",
        "\n",
        "Pelo teste de Tukey, verifica-se que a média de taxa de contaminação de acordo com a forma de transporte mais utilizado é diferente entre todos as categorias.\n",
        "\n",
        "* Transporte particular é o meio de transporte dentro os infectados com maior média na taxa de infecção\n",
        "* Transporte público é o meio de transporte dentro os infectantes com menor média na taxa de infecção\n",
        "\n",
        "O método mais adequado para esse caso é o one-hot-encode, lembrando que negligenciar uma das categorias pra evitar multicolinearidade\n",
        "\n",
        "\n",
        "* Passo 22: subsituir valores fantantes da coluna `V2_transporte_mais_utilizado` pela moda\n",
        "* Passo 23: aplicar one-hot-encode na coluna `V2_transporte_mais_utilizado` excluindo uma categoria"
      ]
    },
    {
      "cell_type": "markdown",
      "id": "d9494842",
      "metadata": {},
      "source": [
        "---\n",
        "## Cruzamento de meios de transporte infectantes x infectados"
      ]
    },
    {
      "cell_type": "code",
      "execution_count": 52,
      "id": "21243cb5",
      "metadata": {},
      "outputs": [
        {
          "data": {
            "text/html": [
              "<div>\n",
              "<style scoped>\n",
              "    .dataframe tbody tr th:only-of-type {\n",
              "        vertical-align: middle;\n",
              "    }\n",
              "\n",
              "    .dataframe tbody tr th {\n",
              "        vertical-align: top;\n",
              "    }\n",
              "\n",
              "    .dataframe thead th {\n",
              "        text-align: right;\n",
              "    }\n",
              "</style>\n",
              "<table border=\"1\" class=\"dataframe\">\n",
              "  <thead>\n",
              "    <tr style=\"text-align: right;\">\n",
              "      <th></th>\n",
              "      <th></th>\n",
              "      <th>pct_mean</th>\n",
              "      <th>pct_std</th>\n",
              "      <th>pct_median</th>\n",
              "    </tr>\n",
              "    <tr>\n",
              "      <th>V1_transporte_mais_utilizado</th>\n",
              "      <th>V2_transporte_mais_utilizado</th>\n",
              "      <th></th>\n",
              "      <th></th>\n",
              "      <th></th>\n",
              "    </tr>\n",
              "  </thead>\n",
              "  <tbody>\n",
              "    <tr>\n",
              "      <th rowspan=\"3\" valign=\"top\">particular</th>\n",
              "      <th>particular</th>\n",
              "      <td>0.540961</td>\n",
              "      <td>0.187723</td>\n",
              "      <td>0.544063</td>\n",
              "    </tr>\n",
              "    <tr>\n",
              "      <th>publico</th>\n",
              "      <td>0.438532</td>\n",
              "      <td>0.186937</td>\n",
              "      <td>0.422631</td>\n",
              "    </tr>\n",
              "    <tr>\n",
              "      <th>taxi</th>\n",
              "      <td>0.459409</td>\n",
              "      <td>0.190614</td>\n",
              "      <td>0.449532</td>\n",
              "    </tr>\n",
              "    <tr>\n",
              "      <th rowspan=\"3\" valign=\"top\">publico</th>\n",
              "      <th>particular</th>\n",
              "      <td>0.564693</td>\n",
              "      <td>0.153329</td>\n",
              "      <td>0.580750</td>\n",
              "    </tr>\n",
              "    <tr>\n",
              "      <th>publico</th>\n",
              "      <td>0.457499</td>\n",
              "      <td>0.153144</td>\n",
              "      <td>0.462700</td>\n",
              "    </tr>\n",
              "    <tr>\n",
              "      <th>taxi</th>\n",
              "      <td>0.476477</td>\n",
              "      <td>0.153993</td>\n",
              "      <td>0.481904</td>\n",
              "    </tr>\n",
              "    <tr>\n",
              "      <th rowspan=\"3\" valign=\"top\">taxi</th>\n",
              "      <th>particular</th>\n",
              "      <td>0.494602</td>\n",
              "      <td>0.156028</td>\n",
              "      <td>0.490335</td>\n",
              "    </tr>\n",
              "    <tr>\n",
              "      <th>publico</th>\n",
              "      <td>0.389907</td>\n",
              "      <td>0.149398</td>\n",
              "      <td>0.375011</td>\n",
              "    </tr>\n",
              "    <tr>\n",
              "      <th>taxi</th>\n",
              "      <td>0.398669</td>\n",
              "      <td>0.157012</td>\n",
              "      <td>0.385157</td>\n",
              "    </tr>\n",
              "  </tbody>\n",
              "</table>\n",
              "</div>"
            ],
            "text/plain": [
              "                                                           pct_mean   pct_std  \\\n",
              "V1_transporte_mais_utilizado V2_transporte_mais_utilizado                       \n",
              "particular                   particular                    0.540961  0.187723   \n",
              "                             publico                       0.438532  0.186937   \n",
              "                             taxi                          0.459409  0.190614   \n",
              "publico                      particular                    0.564693  0.153329   \n",
              "                             publico                       0.457499  0.153144   \n",
              "                             taxi                          0.476477  0.153993   \n",
              "taxi                         particular                    0.494602  0.156028   \n",
              "                             publico                       0.389907  0.149398   \n",
              "                             taxi                          0.398669  0.157012   \n",
              "\n",
              "                                                           pct_median  \n",
              "V1_transporte_mais_utilizado V2_transporte_mais_utilizado              \n",
              "particular                   particular                      0.544063  \n",
              "                             publico                         0.422631  \n",
              "                             taxi                            0.449532  \n",
              "publico                      particular                      0.580750  \n",
              "                             publico                         0.462700  \n",
              "                             taxi                            0.481904  \n",
              "taxi                         particular                      0.490335  \n",
              "                             publico                         0.375011  \n",
              "                             taxi                            0.385157  "
            ]
          },
          "metadata": {},
          "output_type": "display_data"
        }
      ],
      "source": [
        "display(\n",
        "    data_train_temp.groupby(\n",
        "        [\"V1_transporte_mais_utilizado\", \"V2_transporte_mais_utilizado\"]\n",
        "    ).agg(\n",
        "        pct_mean=(\"prob_V1_V2\", \"mean\"),\n",
        "        pct_std=(\"prob_V1_V2\", \"std\"),\n",
        "        pct_median=(\"prob_V1_V2\", \"median\"),\n",
        "    )\n",
        ")\n",
        "\n",
        "\n",
        "# sns.violinplot(x=\"V2_transporte_mais_utilizado\", y=\"prob_V1_V2\", data=data_train_temp)\n",
        "# plt.show()"
      ]
    },
    {
      "cell_type": "markdown",
      "id": "2417b5ca",
      "metadata": {},
      "source": [
        "---\n",
        "## IMC do infectante"
      ]
    },
    {
      "cell_type": "code",
      "execution_count": 48,
      "id": "16642283",
      "metadata": {},
      "outputs": [
        {
          "data": {
            "text/html": [
              "<div>\n",
              "<style scoped>\n",
              "    .dataframe tbody tr th:only-of-type {\n",
              "        vertical-align: middle;\n",
              "    }\n",
              "\n",
              "    .dataframe tbody tr th {\n",
              "        vertical-align: top;\n",
              "    }\n",
              "\n",
              "    .dataframe thead th {\n",
              "        text-align: right;\n",
              "    }\n",
              "</style>\n",
              "<table border=\"1\" class=\"dataframe\">\n",
              "  <thead>\n",
              "    <tr style=\"text-align: right;\">\n",
              "      <th></th>\n",
              "      <th>V1_IMC</th>\n",
              "      <th>prob_V1_V2</th>\n",
              "    </tr>\n",
              "  </thead>\n",
              "  <tbody>\n",
              "    <tr>\n",
              "      <th>V1_IMC</th>\n",
              "      <td>1.000000</td>\n",
              "      <td>0.002343</td>\n",
              "    </tr>\n",
              "    <tr>\n",
              "      <th>prob_V1_V2</th>\n",
              "      <td>0.002343</td>\n",
              "      <td>1.000000</td>\n",
              "    </tr>\n",
              "  </tbody>\n",
              "</table>\n",
              "</div>"
            ],
            "text/plain": [
              "              V1_IMC  prob_V1_V2\n",
              "V1_IMC      1.000000    0.002343\n",
              "prob_V1_V2  0.002343    1.000000"
            ]
          },
          "execution_count": 48,
          "metadata": {},
          "output_type": "execute_result"
        }
      ],
      "source": [
        "data_train_temp[['V1_IMC','prob_V1_V2']].corr()"
      ]
    },
    {
      "cell_type": "code",
      "execution_count": 49,
      "id": "71e5935c",
      "metadata": {},
      "outputs": [
        {
          "data": {
            "image/png": "[encoded data removed]",
            "text/plain": [
              "<Figure size 432x288 with 1 Axes>"
            ]
          },
          "metadata": {
            "needs_background": "light"
          },
          "output_type": "display_data"
        }
      ],
      "source": [
        "import seaborn as sns\n",
        "import matplotlib.pyplot as plt\n",
        "\n",
        "\n",
        "sns.scatterplot(data=data_train, x = 'V1_IMC', y = 'prob_V1_V2')\n",
        "\n",
        "plt.show()"
      ]
    },
    {
      "cell_type": "markdown",
      "id": "4213d0a7",
      "metadata": {},
      "source": [
        "Assim como no caso da idade, vemos uma correlação bastante baixa entre a variável explicativa e a variável resposta. Nesse caso, vamos novamente utilizar o procedimento de discretização para obtenção de insights sobre a variável"
      ]
    },
    {
      "cell_type": "code",
      "execution_count": 83,
      "id": "663c7901",
      "metadata": {},
      "outputs": [],
      "source": [
        "from functools import reduce\n",
        "\n",
        "# World Health Organization\n",
        "imc_discretizer = {\n",
        "    \"baixo_peso\": [0, 18.5],\n",
        "    \"normal\": [18.5, 25],\n",
        "    \"sobrepeso\": [25, 30],\n",
        "    \"obeso_1\": [30, 35],\n",
        "    \"obeso_2\": [35, 40],\n",
        "    \"obeso_3\": [40, np.inf],\n",
        "}\n",
        "\n",
        "\n",
        "bins = sorted([0] + [elem[1] for elem in imc_discretizer.values()])\n",
        "\n",
        "data_train_temp[\"V1_IMC_disc\"] = pd.cut(\n",
        "    data_train_temp[\"V1_IMC\"], bins=bins, right=False, labels=imc_discretizer.keys()\n",
        ")\n",
        "\n",
        "data_train_temp[\"V2_IMC_disc\"] = pd.cut(\n",
        "    data_train_temp[\"V2_IMC\"], bins=bins, right=False, labels=imc_discretizer.keys()\n",
        ")"
      ]
    },
    {
      "cell_type": "code",
      "execution_count": 84,
      "id": "0443bd5a",
      "metadata": {},
      "outputs": [
        {
          "data": {
            "text/html": [
              "<div>\n",
              "<style scoped>\n",
              "    .dataframe tbody tr th:only-of-type {\n",
              "        vertical-align: middle;\n",
              "    }\n",
              "\n",
              "    .dataframe tbody tr th {\n",
              "        vertical-align: top;\n",
              "    }\n",
              "\n",
              "    .dataframe thead th {\n",
              "        text-align: right;\n",
              "    }\n",
              "</style>\n",
              "<table border=\"1\" class=\"dataframe\">\n",
              "  <thead>\n",
              "    <tr style=\"text-align: right;\">\n",
              "      <th></th>\n",
              "      <th></th>\n",
              "      <th>pct_mean</th>\n",
              "      <th>pct_std</th>\n",
              "      <th>pct_median</th>\n",
              "    </tr>\n",
              "    <tr>\n",
              "      <th>V1_IMC_disc</th>\n",
              "      <th>V2_IMC_disc</th>\n",
              "      <th></th>\n",
              "      <th></th>\n",
              "      <th></th>\n",
              "    </tr>\n",
              "  </thead>\n",
              "  <tbody>\n",
              "    <tr>\n",
              "      <th rowspan=\"6\" valign=\"top\">baixo_peso</th>\n",
              "      <th>baixo_peso</th>\n",
              "      <td>0.479286</td>\n",
              "      <td>0.172918</td>\n",
              "      <td>0.480500</td>\n",
              "    </tr>\n",
              "    <tr>\n",
              "      <th>normal</th>\n",
              "      <td>0.483365</td>\n",
              "      <td>0.174235</td>\n",
              "      <td>0.484968</td>\n",
              "    </tr>\n",
              "    <tr>\n",
              "      <th>sobrepeso</th>\n",
              "      <td>0.487933</td>\n",
              "      <td>0.174044</td>\n",
              "      <td>0.490184</td>\n",
              "    </tr>\n",
              "    <tr>\n",
              "      <th>obeso_1</th>\n",
              "      <td>0.492907</td>\n",
              "      <td>0.174469</td>\n",
              "      <td>0.495463</td>\n",
              "    </tr>\n",
              "    <tr>\n",
              "      <th>obeso_2</th>\n",
              "      <td>0.499222</td>\n",
              "      <td>0.176632</td>\n",
              "      <td>0.499449</td>\n",
              "    </tr>\n",
              "    <tr>\n",
              "      <th>obeso_3</th>\n",
              "      <td>0.503444</td>\n",
              "      <td>0.174442</td>\n",
              "      <td>0.505352</td>\n",
              "    </tr>\n",
              "    <tr>\n",
              "      <th rowspan=\"6\" valign=\"top\">normal</th>\n",
              "      <th>baixo_peso</th>\n",
              "      <td>0.479953</td>\n",
              "      <td>0.172487</td>\n",
              "      <td>0.480435</td>\n",
              "    </tr>\n",
              "    <tr>\n",
              "      <th>normal</th>\n",
              "      <td>0.484284</td>\n",
              "      <td>0.173781</td>\n",
              "      <td>0.484404</td>\n",
              "    </tr>\n",
              "    <tr>\n",
              "      <th>sobrepeso</th>\n",
              "      <td>0.488783</td>\n",
              "      <td>0.175216</td>\n",
              "      <td>0.489229</td>\n",
              "    </tr>\n",
              "    <tr>\n",
              "      <th>obeso_1</th>\n",
              "      <td>0.490783</td>\n",
              "      <td>0.174356</td>\n",
              "      <td>0.491307</td>\n",
              "    </tr>\n",
              "    <tr>\n",
              "      <th>obeso_2</th>\n",
              "      <td>0.494599</td>\n",
              "      <td>0.170904</td>\n",
              "      <td>0.497871</td>\n",
              "    </tr>\n",
              "    <tr>\n",
              "      <th>obeso_3</th>\n",
              "      <td>0.500309</td>\n",
              "      <td>0.174625</td>\n",
              "      <td>0.501095</td>\n",
              "    </tr>\n",
              "    <tr>\n",
              "      <th rowspan=\"6\" valign=\"top\">sobrepeso</th>\n",
              "      <th>baixo_peso</th>\n",
              "      <td>0.480934</td>\n",
              "      <td>0.175347</td>\n",
              "      <td>0.480384</td>\n",
              "    </tr>\n",
              "    <tr>\n",
              "      <th>normal</th>\n",
              "      <td>0.484586</td>\n",
              "      <td>0.174139</td>\n",
              "      <td>0.486457</td>\n",
              "    </tr>\n",
              "    <tr>\n",
              "      <th>sobrepeso</th>\n",
              "      <td>0.490284</td>\n",
              "      <td>0.173547</td>\n",
              "      <td>0.491462</td>\n",
              "    </tr>\n",
              "    <tr>\n",
              "      <th>obeso_1</th>\n",
              "      <td>0.493864</td>\n",
              "      <td>0.176435</td>\n",
              "      <td>0.496671</td>\n",
              "    </tr>\n",
              "    <tr>\n",
              "      <th>obeso_2</th>\n",
              "      <td>0.506039</td>\n",
              "      <td>0.174015</td>\n",
              "      <td>0.507603</td>\n",
              "    </tr>\n",
              "    <tr>\n",
              "      <th>obeso_3</th>\n",
              "      <td>0.505895</td>\n",
              "      <td>0.173547</td>\n",
              "      <td>0.514519</td>\n",
              "    </tr>\n",
              "    <tr>\n",
              "      <th rowspan=\"6\" valign=\"top\">obeso_1</th>\n",
              "      <th>baixo_peso</th>\n",
              "      <td>0.478777</td>\n",
              "      <td>0.170945</td>\n",
              "      <td>0.481517</td>\n",
              "    </tr>\n",
              "    <tr>\n",
              "      <th>normal</th>\n",
              "      <td>0.482170</td>\n",
              "      <td>0.173740</td>\n",
              "      <td>0.482003</td>\n",
              "    </tr>\n",
              "    <tr>\n",
              "      <th>sobrepeso</th>\n",
              "      <td>0.485767</td>\n",
              "      <td>0.175229</td>\n",
              "      <td>0.489476</td>\n",
              "    </tr>\n",
              "    <tr>\n",
              "      <th>obeso_1</th>\n",
              "      <td>0.500632</td>\n",
              "      <td>0.175091</td>\n",
              "      <td>0.500758</td>\n",
              "    </tr>\n",
              "    <tr>\n",
              "      <th>obeso_2</th>\n",
              "      <td>0.502011</td>\n",
              "      <td>0.175867</td>\n",
              "      <td>0.505428</td>\n",
              "    </tr>\n",
              "    <tr>\n",
              "      <th>obeso_3</th>\n",
              "      <td>0.505707</td>\n",
              "      <td>0.175177</td>\n",
              "      <td>0.504376</td>\n",
              "    </tr>\n",
              "    <tr>\n",
              "      <th rowspan=\"6\" valign=\"top\">obeso_2</th>\n",
              "      <th>baixo_peso</th>\n",
              "      <td>0.482617</td>\n",
              "      <td>0.173559</td>\n",
              "      <td>0.482989</td>\n",
              "    </tr>\n",
              "    <tr>\n",
              "      <th>normal</th>\n",
              "      <td>0.486428</td>\n",
              "      <td>0.174370</td>\n",
              "      <td>0.487307</td>\n",
              "    </tr>\n",
              "    <tr>\n",
              "      <th>sobrepeso</th>\n",
              "      <td>0.492161</td>\n",
              "      <td>0.175010</td>\n",
              "      <td>0.497015</td>\n",
              "    </tr>\n",
              "    <tr>\n",
              "      <th>obeso_1</th>\n",
              "      <td>0.498246</td>\n",
              "      <td>0.179486</td>\n",
              "      <td>0.497746</td>\n",
              "    </tr>\n",
              "    <tr>\n",
              "      <th>obeso_2</th>\n",
              "      <td>0.481468</td>\n",
              "      <td>0.178412</td>\n",
              "      <td>0.483580</td>\n",
              "    </tr>\n",
              "    <tr>\n",
              "      <th>obeso_3</th>\n",
              "      <td>0.525196</td>\n",
              "      <td>0.177640</td>\n",
              "      <td>0.518312</td>\n",
              "    </tr>\n",
              "    <tr>\n",
              "      <th rowspan=\"6\" valign=\"top\">obeso_3</th>\n",
              "      <th>baixo_peso</th>\n",
              "      <td>0.482030</td>\n",
              "      <td>0.174632</td>\n",
              "      <td>0.484903</td>\n",
              "    </tr>\n",
              "    <tr>\n",
              "      <th>normal</th>\n",
              "      <td>0.490988</td>\n",
              "      <td>0.172150</td>\n",
              "      <td>0.493600</td>\n",
              "    </tr>\n",
              "    <tr>\n",
              "      <th>sobrepeso</th>\n",
              "      <td>0.492475</td>\n",
              "      <td>0.171754</td>\n",
              "      <td>0.497945</td>\n",
              "    </tr>\n",
              "    <tr>\n",
              "      <th>obeso_1</th>\n",
              "      <td>0.506045</td>\n",
              "      <td>0.180791</td>\n",
              "      <td>0.518500</td>\n",
              "    </tr>\n",
              "    <tr>\n",
              "      <th>obeso_2</th>\n",
              "      <td>0.514407</td>\n",
              "      <td>0.172783</td>\n",
              "      <td>0.522621</td>\n",
              "    </tr>\n",
              "    <tr>\n",
              "      <th>obeso_3</th>\n",
              "      <td>0.494013</td>\n",
              "      <td>0.192674</td>\n",
              "      <td>0.483831</td>\n",
              "    </tr>\n",
              "  </tbody>\n",
              "</table>\n",
              "</div>"
            ],
            "text/plain": [
              "                         pct_mean   pct_std  pct_median\n",
              "V1_IMC_disc V2_IMC_disc                                \n",
              "baixo_peso  baixo_peso   0.479286  0.172918    0.480500\n",
              "            normal       0.483365  0.174235    0.484968\n",
              "            sobrepeso    0.487933  0.174044    0.490184\n",
              "            obeso_1      0.492907  0.174469    0.495463\n",
              "            obeso_2      0.499222  0.176632    0.499449\n",
              "            obeso_3      0.503444  0.174442    0.505352\n",
              "normal      baixo_peso   0.479953  0.172487    0.480435\n",
              "            normal       0.484284  0.173781    0.484404\n",
              "            sobrepeso    0.488783  0.175216    0.489229\n",
              "            obeso_1      0.490783  0.174356    0.491307\n",
              "            obeso_2      0.494599  0.170904    0.497871\n",
              "            obeso_3      0.500309  0.174625    0.501095\n",
              "sobrepeso   baixo_peso   0.480934  0.175347    0.480384\n",
              "            normal       0.484586  0.174139    0.486457\n",
              "            sobrepeso    0.490284  0.173547    0.491462\n",
              "            obeso_1      0.493864  0.176435    0.496671\n",
              "            obeso_2      0.506039  0.174015    0.507603\n",
              "            obeso_3      0.505895  0.173547    0.514519\n",
              "obeso_1     baixo_peso   0.478777  0.170945    0.481517\n",
              "            normal       0.482170  0.173740    0.482003\n",
              "            sobrepeso    0.485767  0.175229    0.489476\n",
              "            obeso_1      0.500632  0.175091    0.500758\n",
              "            obeso_2      0.502011  0.175867    0.505428\n",
              "            obeso_3      0.505707  0.175177    0.504376\n",
              "obeso_2     baixo_peso   0.482617  0.173559    0.482989\n",
              "            normal       0.486428  0.174370    0.487307\n",
              "            sobrepeso    0.492161  0.175010    0.497015\n",
              "            obeso_1      0.498246  0.179486    0.497746\n",
              "            obeso_2      0.481468  0.178412    0.483580\n",
              "            obeso_3      0.525196  0.177640    0.518312\n",
              "obeso_3     baixo_peso   0.482030  0.174632    0.484903\n",
              "            normal       0.490988  0.172150    0.493600\n",
              "            sobrepeso    0.492475  0.171754    0.497945\n",
              "            obeso_1      0.506045  0.180791    0.518500\n",
              "            obeso_2      0.514407  0.172783    0.522621\n",
              "            obeso_3      0.494013  0.192674    0.483831"
            ]
          },
          "metadata": {},
          "output_type": "display_data"
        }
      ],
      "source": [
        "display(\n",
        "    data_train_temp.groupby(\n",
        "        [\"V1_IMC_disc\", \"V2_IMC_disc\"]\n",
        "    ).agg(\n",
        "        pct_mean=(\"prob_V1_V2\", \"mean\"),\n",
        "        pct_std=(\"prob_V1_V2\", \"std\"),\n",
        "        pct_median=(\"prob_V1_V2\", \"median\"),\n",
        "    )\n",
        ")\n"
      ]
    },
    {
      "cell_type": "markdown",
      "id": "f0e5d607",
      "metadata": {},
      "source": [
        "**Observação**\n",
        "\n",
        "Mais uma vez, podemos ter um pouco mais de clareza sobre a relação entre a variável explicativa e a variável resposta. A médida da taxa de contaminação de pessoas de baixo peso por exemplo (que é de 48%) é significativamente mais baixa que a média da taxa de contaminação entre Obeso2-Obeso3 (que é de 52.5%). Assim, o procedimento de preprocessamento para variáveis de IMC serão: \n",
        "\n",
        "\n",
        "* Passo 24: discretizar a coluna `V1_IMC`, criando `V1_IMC_disc`\n",
        "* Passo 25: imputar o valor mais frequente na feature `V1_IMC_disc`\n",
        "* Passo 26: discretizar a coluna `V2_IMC`, criando `V2_IMC_disc`\n",
        "* Passo 27: imputar o valor mais frequente na feature `V2_IMC_disc`"
      ]
    }
  ],
  "metadata": {
    "kernelspec": {
      "display_name": "Python 3",
      "language": "python",
      "name": "python3"
    },
    "language_info": {
      "codemirror_mode": {
        "name": "ipython",
        "version": 3
      },
      "file_extension": ".py",
      "mimetype": "text/x-python",
      "name": "python",
      "nbconvert_exporter": "python",
      "pygments_lexer": "ipython3",
      "version": "3.6.9"
    },
    "vscode": {
      "interpreter": {
        "hash": "7cc93f38260cc19526e90c5911261182bd2a6531848e615f7c7aac2c2f095387"
      }
    }
  },
  "nbformat": 4,
  "nbformat_minor": 5
}
