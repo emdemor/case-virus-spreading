{
 "cells": [
  {
   "cell_type": "markdown",
   "id": "7b85b4f0",
   "metadata": {},
   "source": [
    "# Case Neoway - Preprocessamento"
   ]
  },
  {
   "cell_type": "code",
   "execution_count": 1,
   "id": "02f998be",
   "metadata": {},
   "outputs": [],
   "source": [
    "import os, sys\n",
    "\n",
    "sys.path.append('../')\n",
    "os.chdir('../')"
   ]
  },
  {
   "cell_type": "code",
   "execution_count": 2,
   "id": "e8f94392",
   "metadata": {},
   "outputs": [],
   "source": [
    "import pandas as pd\n",
    "import numpy as np\n",
    "\n",
    "from src.base.commons import load_yaml\n",
    "from src.base.logger import logging\n",
    "from src.global_variables import FEATURE_PARAMETERS_FILE, FILEPATHS_FILE, PARAMETERS_FILE\n",
    "\n",
    "from src.model import preprocessing, data"
   ]
  },
  {
   "cell_type": "code",
   "execution_count": 3,
   "id": "b4e0b339",
   "metadata": {},
   "outputs": [],
   "source": [
    "%config IPCompleter.use_jedi=False\n",
    "\n",
    "pd.options.display.max_columns = None"
   ]
  },
  {
   "cell_type": "markdown",
   "id": "641c4cfb",
   "metadata": {},
   "source": [
    "### Operações de Preprocessamento\n",
    "\n",
    "Pela análise exploratória de dados, fo\n",
    "\n",
    "**Operações de Construção e Remoção de Features**\n",
    "\n",
    "* [x] Passo 1: converter a coluna `grau` em uma dummy que marca família ou não \n",
    "* [x] Passo 2: aplicar one-hot-encode na coluna `Proximidade` excluindo uma das classes\n",
    "* [x] Passo 3: discretizar a coluna `V1_idade` pela faixa geracional, criando `V1_geracao`\n",
    "* [x] Passo 5: discretizar a coluna `V2_idade` pela faixa geracional, criando `V2_geracao`\n",
    "* [x] Passo 8: criar classe `casado_ou_divorciado`\n",
    "* [x] Passo 9: aplicar one-hot-encode à `V1_estado_civil` com exclusão de uma classe\n",
    "* [x] Passo 10: remover coluna `V2_estado_civil`\n",
    "* [x] Passo 11: criar variável dummy para categoria `V1_tem_filhos` a partir da coluna `V1_qt_filhos`\n",
    "* [x] Passo 13: excluir coluna `V2_qt_filhos`\n",
    "* [x] Passo 15: desconsiderar a coluna `V2_estuda`\n",
    "* [x] Passo 17: desconsiderar a coluna `V2_trabalha`\n",
    "* [x] Passo 19: negligenciar a coluna `V2_pratica_esportes`\n",
    "* [x] Passo 21: aplicar one-hot-encode na coluna `V1_transporte_mais_utilizado` excluindo uma categoria\n",
    "* [x] Passo 23: aplicar one-hot-encode na coluna `V2_transporte_mais_utilizado` excluindo uma categoria\n",
    "* [x] Passo 24: discretizar a coluna `V1_IMC`, criando `V1_IMC_disc`\n",
    "* [x] Passo 26: discretizar a coluna `V2_IMC`, criando `V2_IMC_disc`\n",
    "\n",
    "**Operações de Transformação de Features**\n",
    "\n",
    "\n",
    "* [x] Passo 4: imputar o valor mais frequente na feature `V1_geracao`\n",
    "* [x] Passo 6: imputar o valor mais frequente na feature `V2_geracao`\n",
    "* [x] Passo 7: aplicar a imputação de `nao_informado` nos faltantes de  `V1_estado_civil`\n",
    "* [x] Passo 12: preencher valores faltantes com a moda `V2_estado_civil`\n",
    "* [x] Passo 14: preencher valores fantantes da coluna `V1_estuda` com o valor mais frequente\n",
    "* [x] Passo 16: preencher valores faltantes da coluna `V1_trabalha` com o valor mais frequente\n",
    "* [x] Passo 18: preencher valores faltantes da coluna `V1_pratica_esportes` com o valor mais frequente\n",
    "* [x] Passo 20: subsituir valores faltantes da coluna `V1_transporte_mais_utilizado` pela moda\n",
    "* [x] Passo 22: subsituir valores fantantes da coluna `V2_transporte_mais_utilizado` pela moda\n",
    "* [x] Passo 25: imputar o valor mais frequente na feature `V1_IMC_disc`\n",
    "* [x] Passo 27: imputar o valor mais frequente na feature `V2_IMC_disc`"
   ]
  },
  {
   "cell_type": "markdown",
   "id": "eb3cfb03",
   "metadata": {},
   "source": [
    "Essas operações foram implementadas no module `src.model.preprocessing` e os artefatos das operações são armazenados em `config.feature_parameters`"
   ]
  },
  {
   "cell_type": "code",
   "execution_count": 5,
   "id": "050c0ce4",
   "metadata": {},
   "outputs": [
    {
     "name": "stderr",
     "output_type": "stream",
     "text": [
      "2022-06-27 23:24:31,363 [INFO] Importing train and validation interim tables\n",
      "2022-06-27 23:24:32,078 [INFO] Splitting target from features\n",
      "2022-06-27 23:24:32,159 [INFO] Applying preprocessing transformations\n",
      "2022-06-27 23:24:35,535 [INFO] Persisting transformed features\n"
     ]
    }
   ],
   "source": [
    "# Importando endereçamentos\n",
    "filepaths = load_yaml(FILEPATHS_FILE)\n",
    "\n",
    "# Dados de treino\n",
    "logging.info(\"Importing train and validation interim tables\")\n",
    "data_train = pd.read_parquet(\n",
    "    os.path.join(\n",
    "        filepaths[\"interim_directory_path\"],\n",
    "        \"data_train.parquet\",\n",
    "    )\n",
    ")\n",
    "\n",
    "# Dados de Validação\n",
    "data_validation = pd.read_parquet(\n",
    "    os.path.join(\n",
    "        filepaths[\"interim_directory_path\"],\n",
    "        \"data_validation.parquet\",\n",
    "    )\n",
    ")\n",
    "\n",
    "# Separando as variáveis explicativas da variável resposta\n",
    "logging.info(\"Splitting target from features\")\n",
    "X_train = data_train.drop(columns='prob_V1_V2')\n",
    "y_test = data_train['prob_V1_V2']\n",
    "X_validation = data_validation.drop(columns='prob_V1_V2')\n",
    "y_validation = data_validation['prob_V1_V2']\n",
    "\n",
    "# Aplicando preprocessamento\n",
    "logging.info(\"Applying preprocessing transformations\")\n",
    "X_train_transf = preprocessing.transform(X_train)\n",
    "X_validation_transf = preprocessing.transform(X_validation)\n",
    "\n",
    "# Persist transformed dataframes\n",
    "logging.info(\"Persisting transformed features\")\n",
    "data.persist_processed_table(X_train_transf, \"X_train_transf\")\n",
    "data.persist_processed_table(X_validation_transf, \"X_validation_transf\")"
   ]
  }
 ],
 "metadata": {
  "kernelspec": {
   "display_name": "Python 3.6.9 64-bit",
   "language": "python",
   "name": "python3"
  },
  "language_info": {
   "codemirror_mode": {
    "name": "ipython",
    "version": 3
   },
   "file_extension": ".py",
   "mimetype": "text/x-python",
   "name": "python",
   "nbconvert_exporter": "python",
   "pygments_lexer": "ipython3",
   "version": "3.6.9"
  },
  "vscode": {
   "interpreter": {
    "hash": "31f2aee4e71d21fbe5cf8b01ff0e069b9275f58929596ceb00d14d90e3e16cd6"
   }
  }
 },
 "nbformat": 4,
 "nbformat_minor": 5
}
