{
 "cells": [
  {
   "cell_type": "markdown",
   "id": "a8e65b91",
   "metadata": {},
   "source": [
    "# Case Neoway - Regressor Baseline"
   ]
  },
  {
   "cell_type": "code",
   "execution_count": 1,
   "id": "f2b67fed",
   "metadata": {},
   "outputs": [],
   "source": [
    "import os, sys\n",
    "\n",
    "sys.path.append('../')\n",
    "os.chdir('../')"
   ]
  },
  {
   "cell_type": "code",
   "execution_count": 2,
   "id": "e8f94392",
   "metadata": {},
   "outputs": [],
   "source": [
    "import pandas as pd\n",
    "import numpy as np\n",
    "import matplotlib.pyplot as plt\n",
    "from datetime import datetime, timedelta\n",
    "\n",
    "from src.base.commons import load_yaml\n",
    "from src.base.logger import logging\n",
    "from src.global_variables import FEATURE_PARAMETERS_FILE, FILEPATHS_FILE, PARAMETERS_FILE, MODEL_CONFIG_FILE\n",
    "\n",
    "from src.model import preprocessing, data\n",
    "\n",
    "\n",
    "from sklearn.metrics import r2_score, mean_absolute_error, mean_squared_error\n"
   ]
  },
  {
   "cell_type": "code",
   "execution_count": 3,
   "id": "b4e0b339",
   "metadata": {},
   "outputs": [],
   "source": [
    "%config IPCompleter.use_jedi=False\n",
    "\n",
    "pd.options.display.max_columns = None"
   ]
  },
  {
   "cell_type": "markdown",
   "id": "e567725d",
   "metadata": {},
   "source": [
    "# Modelo Baseline"
   ]
  },
  {
   "cell_type": "code",
   "execution_count": 4,
   "id": "80c1a5c6",
   "metadata": {},
   "outputs": [],
   "source": [
    "X_train, X_validation, y_train, y_validation = data.read_data_train_test()"
   ]
  },
  {
   "cell_type": "code",
   "execution_count": 5,
   "id": "d34b51ad",
   "metadata": {},
   "outputs": [],
   "source": [
    "def check_regressor(regressor):\n",
    "    regressor.fit(X_train, y_train)\n",
    "\n",
    "    y_validation_pred = regressor.predict(X_validation)\n",
    "    print(\"R2 =\",r2_score(y_validation, y_validation_pred))\n",
    "    print(\"me =\",mean_absolute_error(y_validation, y_validation_pred))\n",
    "    print(\"rsme =\",mean_squared_error(y_validation, y_validation_pred)**0.5)\n",
    "\n",
    "    plt.close()\n",
    "    plt.hist(y_validation, bins=100, alpha=0.4)\n",
    "    plt.hist(y_validation_pred, bins=100, alpha=0.4)\n",
    "    plt.show()\n",
    "\n",
    "    return regressor"
   ]
  },
  {
   "cell_type": "markdown",
   "id": "548022b4",
   "metadata": {},
   "source": [
    "### Linear Regression - Baseline"
   ]
  },
  {
   "cell_type": "code",
   "execution_count": 78,
   "id": "d72bdc20",
   "metadata": {},
   "outputs": [
    {
     "name": "stdout",
     "output_type": "stream",
     "text": [
      "R2 = 0.5517250603697592\n",
      "me = 0.09392626004265305\n",
      "rsme = 0.11635339102163764\n"
     ]
    },
    {
     "data": {
      "image/png": "[encoded data removed]",
      "text/plain": [
       "<Figure size 432x288 with 1 Axes>"
      ]
     },
     "metadata": {
      "needs_background": "light"
     },
     "output_type": "display_data"
    }
   ],
   "source": [
    "from sklearn.linear_model import LinearRegression\n",
    "baseline_linreg = check_regressor(regressor=LinearRegression())"
   ]
  },
  {
   "cell_type": "markdown",
   "id": "08d8b9a3",
   "metadata": {},
   "source": [
    "### XGBoost - Baseline"
   ]
  },
  {
   "cell_type": "code",
   "execution_count": 28,
   "id": "27938b22",
   "metadata": {},
   "outputs": [
    {
     "name": "stdout",
     "output_type": "stream",
     "text": [
      "R2 = 0.8346216809404567\n",
      "me = 0.05214587588552829\n",
      "rsme = 0.07067179160199434\n"
     ]
    },
    {
     "data": {
      "image/png": "[encoded data removed]",
      "text/plain": [
       "<Figure size 432x288 with 1 Axes>"
      ]
     },
     "metadata": {
      "needs_background": "light"
     },
     "output_type": "display_data"
    }
   ],
   "source": [
    "from xgboost import XGBRegressor\n",
    "baseline_xgboost = check_regressor( XGBRegressor())"
   ]
  },
  {
   "cell_type": "markdown",
   "id": "d9e51a4e",
   "metadata": {},
   "source": [
    "### LightGBM - Baseline"
   ]
  },
  {
   "cell_type": "code",
   "execution_count": 79,
   "id": "07238187",
   "metadata": {},
   "outputs": [
    {
     "name": "stdout",
     "output_type": "stream",
     "text": [
      "R2 = 0.8353595125663651\n",
      "me = 0.052131736177185764\n",
      "rsme = 0.07051396507131426\n"
     ]
    },
    {
     "data": {
      "image/png": "[encoded data removed]",
      "text/plain": [
       "<Figure size 432x288 with 1 Axes>"
      ]
     },
     "metadata": {
      "needs_background": "light"
     },
     "output_type": "display_data"
    }
   ],
   "source": [
    "from lightgbm import LGBMRegressor\n",
    "baseline_lgbm = check_regressor(regressor=LGBMRegressor())"
   ]
  },
  {
   "cell_type": "code",
   "execution_count": 11,
   "id": "368a1e6d",
   "metadata": {},
   "outputs": [
    {
     "name": "stdout",
     "output_type": "stream",
     "text": [
      "R2 = 0.8351972874235267\n",
      "me = 0.05202599482050478\n",
      "rsme = 0.07054869626590425\n"
     ]
    },
    {
     "data": {
      "image/png": "[encoded data removed]",
      "text/plain": [
       "<Figure size 432x288 with 1 Axes>"
      ]
     },
     "metadata": {
      "needs_background": "light"
     },
     "output_type": "display_data"
    }
   ],
   "source": [
    "from catboost import CatBoostRegressor\n",
    "baseline_cat = check_regressor(regressor=CatBoostRegressor(verbose=0))"
   ]
  },
  {
   "cell_type": "code",
   "execution_count": 80,
   "id": "78a18aeb",
   "metadata": {},
   "outputs": [
    {
     "name": "stdout",
     "output_type": "stream",
     "text": [
      "R2 = 0.8342245857849093\n",
      "me = 0.0519771981499649\n",
      "rsme = 0.0707565868775665\n"
     ]
    },
    {
     "data": {
      "image/png": "[encoded data removed]",
      "text/plain": [
       "<Figure size 432x288 with 1 Axes>"
      ]
     },
     "metadata": {
      "needs_background": "light"
     },
     "output_type": "display_data"
    }
   ],
   "source": [
    "from sklearn.neural_network import MLPRegressor\n",
    "baseline_mlp = check_regressor(regressor=MLPRegressor())"
   ]
  },
  {
   "cell_type": "markdown",
   "id": "7a615dfe",
   "metadata": {},
   "source": [
    "### SVR - Baseline"
   ]
  },
  {
   "cell_type": "code",
   "execution_count": 82,
   "id": "84279769",
   "metadata": {},
   "outputs": [],
   "source": [
    "from sklearn.svm import SVR\n",
    "baseline_svr = check_regressor(regressor=SVR())"
   ]
  },
  {
   "cell_type": "markdown",
   "id": "2501066b",
   "metadata": {},
   "source": [
    "### Random Forest - Baseline"
   ]
  },
  {
   "cell_type": "code",
   "execution_count": null,
   "id": "8c8b4262",
   "metadata": {},
   "outputs": [],
   "source": [
    "from sklearn.ensemble import RandomForestRegressor\n",
    "\n",
    "baseline_rf = check_regressor(regressor=RandomForestRegressor())"
   ]
  },
  {
   "cell_type": "markdown",
   "id": "234a2a8f",
   "metadata": {},
   "source": [
    "### HistGradientBoostingRegressor - Baseline"
   ]
  },
  {
   "cell_type": "code",
   "execution_count": 7,
   "id": "2cc1e9bb",
   "metadata": {},
   "outputs": [
    {
     "name": "stdout",
     "output_type": "stream",
     "text": [
      "R2 = 0.8352109610793951\n",
      "me = 0.052108328757643575\n",
      "rsme = 0.07054576949792257\n"
     ]
    },
    {
     "data": {
      "image/png": "[encoded data removed]",
      "text/plain": [
       "<Figure size 432x288 with 1 Axes>"
      ]
     },
     "metadata": {
      "needs_background": "light"
     },
     "output_type": "display_data"
    }
   ],
   "source": [
    "from sklearn.ensemble import HistGradientBoostingRegressor\n",
    "\n",
    "baseline_hgbr = check_regressor(regressor=HistGradientBoostingRegressor())"
   ]
  },
  {
   "cell_type": "markdown",
   "id": "ccf4eaea",
   "metadata": {},
   "source": [
    "### GradientBoostingRegressor - Baseline"
   ]
  },
  {
   "cell_type": "code",
   "execution_count": 6,
   "id": "8c2a371a",
   "metadata": {},
   "outputs": [
    {
     "name": "stdout",
     "output_type": "stream",
     "text": [
      "R2 = 0.8163489318165122\n",
      "me = 0.05650007312716412\n",
      "rsme = 0.07447380511087257\n"
     ]
    },
    {
     "data": {
      "image/png": "[encoded data removed]",
      "text/plain": [
       "<Figure size 432x288 with 1 Axes>"
      ]
     },
     "metadata": {
      "needs_background": "light"
     },
     "output_type": "display_data"
    }
   ],
   "source": [
    "from sklearn.ensemble import GradientBoostingRegressor\n",
    "\n",
    "baseline_gbr = check_regressor(regressor=GradientBoostingRegressor())"
   ]
  },
  {
   "cell_type": "markdown",
   "id": "05509085",
   "metadata": {},
   "source": [
    "# Modelling"
   ]
  },
  {
   "cell_type": "code",
   "execution_count": 6,
   "id": "da57386f",
   "metadata": {},
   "outputs": [],
   "source": [
    "from cli.optimize import optimize_regressor\n",
    "optimize_regressor()\n"
   ]
  },
  {
   "cell_type": "code",
   "execution_count": 8,
   "id": "9f3ee27d",
   "metadata": {},
   "outputs": [
    {
     "name": "stderr",
     "output_type": "stream",
     "text": [
      "2022-06-29 20:01:51,408 [INFO] FUNCTION: gaussian_process_optimization\n"
     ]
    },
    {
     "name": "stdout",
     "output_type": "stream",
     "text": [
      "Iteration No: 1 started. Evaluating function at provided point.\n"
     ]
    },
    {
     "name": "stderr",
     "output_type": "stream",
     "text": [
      "Cross validation: 100%|██████████| 2/2 [00:00<00:00,  2.83it/s]\n"
     ]
    },
    {
     "name": "stdout",
     "output_type": "stream",
     "text": [
      "\n",
      "\n",
      "################################################################################\n",
      "params: [0.1, 92, 19]\n",
      "mae: 0.055133112437418016\n",
      "--------------------------------------------------\n",
      "Iteration No: 1 ended. Evaluation done at provided point.\n",
      "Time taken: 0.8857\n",
      "Function value obtained: 0.0551\n",
      "Current minimum: 0.0551\n",
      "Iteration No: 2 started. Evaluating function at random point.\n"
     ]
    },
    {
     "name": "stderr",
     "output_type": "stream",
     "text": [
      "Cross validation: 100%|██████████| 2/2 [00:00<00:00,  2.30it/s]\n"
     ]
    },
    {
     "name": "stdout",
     "output_type": "stream",
     "text": [
      "\n",
      "\n",
      "################################################################################\n",
      "params: [0.2012150827384654, 101, 18]\n",
      "mae: 0.056286006753925186\n",
      "--------------------------------------------------\n",
      "Iteration No: 2 ended. Evaluation done at random point.\n",
      "Time taken: 1.5304\n",
      "Function value obtained: 0.0563\n",
      "Current minimum: 0.0551\n",
      "Iteration No: 3 started. Evaluating function at random point.\n"
     ]
    },
    {
     "name": "stderr",
     "output_type": "stream",
     "text": [
      "Cross validation: 100%|██████████| 2/2 [00:00<00:00,  2.28it/s]\n"
     ]
    },
    {
     "name": "stdout",
     "output_type": "stream",
     "text": [
      "\n",
      "\n",
      "################################################################################\n",
      "params: [0.7188994821630164, 105, 11]\n",
      "mae: 0.06604392190556524\n",
      "--------------------------------------------------\n"
     ]
    },
    {
     "name": "stderr",
     "output_type": "stream",
     "text": [
      "2022-06-29 20:01:55,325 [INFO] Proposal parameters: {'learning_rate': 0.1, 'n_estimators': 92, 'max_depth': 19}\n",
      "2022-06-29 20:01:55,326 [INFO] Set regressor with proposed parameters\n"
     ]
    },
    {
     "name": "stdout",
     "output_type": "stream",
     "text": [
      "Iteration No: 3 ended. Evaluation done at random point.\n",
      "Time taken: 1.4674\n",
      "Function value obtained: 0.0660\n",
      "Current minimum: 0.0551\n"
     ]
    },
    {
     "name": "stderr",
     "output_type": "stream",
     "text": [
      "2022-06-29 20:02:05,090 [INFO] mae_proposed = 0.05\n",
      "2022-06-29 20:02:05,090 [INFO] R2_proposed = 0.84\n",
      "2022-06-29 20:02:05,094 [INFO] mae_current = 0.520\n",
      "2022-06-29 20:02:05,097 [INFO] mae_proposal = 0.052\n",
      "2022-06-29 20:02:05,101 [INFO] Optimization found a better model.\n",
      "2022-06-29 20:02:05,102 [INFO] Update model with new parameters\n",
      "2022-06-29 20:02:05,103 [INFO] Update model/lightgbm/config.json file\n"
     ]
    }
   ],
   "source": []
  },
  {
   "cell_type": "code",
   "execution_count": 6,
   "id": "7e22d8a8",
   "metadata": {},
   "outputs": [
    {
     "name": "stderr",
     "output_type": "stream",
     "text": [
      "2022-06-29 19:43:21,834 [INFO] FUNCTION: gaussian_process_optimization\n"
     ]
    },
    {
     "name": "stdout",
     "output_type": "stream",
     "text": [
      "Iteration No: 1 started. Evaluating function at provided point.\n"
     ]
    },
    {
     "name": "stderr",
     "output_type": "stream",
     "text": [
      "Cross validation: 100%|██████████| 2/2 [00:00<00:00,  4.17it/s]\n"
     ]
    },
    {
     "name": "stdout",
     "output_type": "stream",
     "text": [
      "\n",
      "\n",
      "################################################################################\n",
      "params: [0.1, 92, 19]\n",
      "mae: 0.056325814673894324\n",
      "--------------------------------------------------\n",
      "Iteration No: 1 ended. Evaluation done at provided point.\n",
      "Time taken: 0.6485\n",
      "Function value obtained: 0.0563\n",
      "Current minimum: 0.0563\n",
      "Iteration No: 2 started. Evaluating function at random point.\n"
     ]
    },
    {
     "name": "stderr",
     "output_type": "stream",
     "text": [
      "Cross validation: 100%|██████████| 2/2 [00:00<00:00,  2.44it/s]\n"
     ]
    },
    {
     "name": "stdout",
     "output_type": "stream",
     "text": [
      "\n",
      "\n",
      "################################################################################\n",
      "params: [0.6451186249923153, 114, 11]\n",
      "mae: 0.06292774737024397\n",
      "--------------------------------------------------\n",
      "Iteration No: 2 ended. Evaluation done at random point.\n",
      "Time taken: 1.4345\n",
      "Function value obtained: 0.0629\n",
      "Current minimum: 0.0563\n",
      "Iteration No: 3 started. Evaluating function at random point.\n"
     ]
    },
    {
     "name": "stderr",
     "output_type": "stream",
     "text": [
      "Cross validation: 100%|██████████| 2/2 [00:00<00:00,  4.35it/s]\n"
     ]
    },
    {
     "name": "stdout",
     "output_type": "stream",
     "text": [
      "\n",
      "\n",
      "################################################################################\n",
      "params: [0.16679022601134735, 92, 18]\n",
      "mae: 0.05612504169311028\n",
      "--------------------------------------------------\n"
     ]
    },
    {
     "name": "stderr",
     "output_type": "stream",
     "text": [
      "2022-06-29 19:43:24,921 [INFO] Proposal parameters: {'learning_rate': 0.16679022601134735, 'n_estimators': 92, 'max_depth': 18}\n",
      "2022-06-29 19:43:24,922 [INFO] Set regressor with proposed parameters\n"
     ]
    },
    {
     "name": "stdout",
     "output_type": "stream",
     "text": [
      "Iteration No: 3 ended. Evaluation done at random point.\n",
      "Time taken: 0.9848\n",
      "Function value obtained: 0.0561\n",
      "Current minimum: 0.0561\n"
     ]
    },
    {
     "name": "stderr",
     "output_type": "stream",
     "text": [
      "2022-06-29 19:43:30,523 [INFO] mae_proposed = 0.05\n",
      "2022-06-29 19:43:30,525 [INFO] R2_proposed = 0.84\n",
      "2022-06-29 19:43:30,527 [INFO] mae_current = 0.052\n",
      "2022-06-29 19:43:30,529 [INFO] mae_proposal = 0.052\n",
      "2022-06-29 19:43:30,530 [INFO] Optimization found a better model.\n",
      "2022-06-29 19:43:30,531 [INFO] Update model with new parameters\n",
      "2022-06-29 19:43:30,532 [INFO] Update model/lightgbm/config.json file\n"
     ]
    }
   ],
   "source": [
    "# from lightgbm import LGBMRegressor\n",
    "# from src.base.commons import load_json, dump_json\n",
    "# from src.model.regressor import *\n",
    "# from src.optimizer.cross_validation import *\n",
    "# from src.optimizer import gaussian_process_optimization\n",
    "# from src.optimizer.space import eval_parametric_space_dimension\n",
    "# from skopt.utils import use_named_args\n",
    "# from skopt import gp_minimize\n",
    "# from src.model.data import read_data_train_test\n",
    "\n",
    "# model_config = load_yaml(MODEL_CONFIG_FILE)\n",
    "# model_parameters = load_json(model_config[\"parametric_space_path\"])\n",
    "\n",
    "# hyper_param = {\n",
    "#     hp[\"parameter\"]: hp[\"estimate\"] for hp in model_parameters[\"parametric_space\"]\n",
    "# }\n",
    "\n",
    "# X_train, X_test, y_train, y_test = read_data_train_test()\n",
    "\n",
    "# optimizer = gaussian_process_optimization(X_train, y_train, sample=10000)\n",
    "\n",
    "# proposal_params = dict(zip(hyper_param.keys(), optimizer.x))\n",
    "\n",
    "# logging.info(f\"Proposal parameters: {proposal_params}\")\n",
    "\n",
    "# logging.info(\"Set regressor with proposed parameters\")\n",
    "# proposal_regessor = set_regressor(model_config[\"model\"], **proposal_params)\n",
    "# proposal_regessor.fit(X_train, y_train, eval_set=[(X_test, y_test)], verbose=0)\n",
    "# y_test_pred = proposal_regessor.predict(X_test)\n",
    "# mae_proposal = mean_absolute_error(y_test, y_test_pred)\n",
    "# r2_proposal = r2_score(y_test, y_test_pred)\n",
    "\n",
    "# logging.info(\"mae_proposed = {:.2f}\".format(mae_proposal))\n",
    "# logging.info(\"R2_proposed = {:.2f}\".format(r2_proposal))\n",
    "\n",
    "# mae_current = model_parameters[\"metric\"][\"value\"]\n",
    "\n",
    "# logging.info(\"mae_current = {:.3f}\".format(mae_current))\n",
    "# logging.info(\"mae_proposal = {:.3f}\".format(mae_proposal))\n",
    "\n",
    "# if mae_proposal < mae_current:\n",
    "\n",
    "#     logging.info(\"Optimization found a better model.\")\n",
    "#     logging.info(\"Update model with new parameters\")\n",
    "#     logging.info(\"Update {} file\".format(model_config[\"parametric_space_path\"]))\n",
    "\n",
    "#     for i, param in enumerate(model_parameters[\"parametric_space\"]):\n",
    "#         param.update({\"estimate\": optimizer.x[i]})\n",
    "\n",
    "#     model_parameters[\"metric\"].update({\"value\": mae_proposal})\n",
    "\n",
    "#     dump_json(model_parameters, model_config[\"parametric_space_path\"], indent=4)\n",
    "\n",
    "# else:\n",
    "#     logging.info(\n",
    "#         \"Optimization was not capable to find a better model. Keeping with the old model.\"\n",
    "#     )"
   ]
  },
  {
   "cell_type": "code",
   "execution_count": 14,
   "id": "9b58b40f",
   "metadata": {},
   "outputs": [
    {
     "name": "stdout",
     "output_type": "stream",
     "text": [
      "Collecting lightgbm==3.2.1\n",
      "  Using cached lightgbm-3.2.1-py3-none-manylinux1_x86_64.whl (2.0 MB)\n",
      "Requirement already satisfied: scipy in /home/risknow/miniconda3/envs/case-neoway/lib/python3.9/site-packages (from lightgbm==3.2.1) (1.8.1)\n",
      "Requirement already satisfied: wheel in /home/risknow/miniconda3/envs/case-neoway/lib/python3.9/site-packages (from lightgbm==3.2.1) (0.37.1)\n",
      "Requirement already satisfied: numpy in /home/risknow/miniconda3/envs/case-neoway/lib/python3.9/site-packages (from lightgbm==3.2.1) (1.23.0)\n",
      "Requirement already satisfied: scikit-learn!=0.22.0 in /home/risknow/miniconda3/envs/case-neoway/lib/python3.9/site-packages (from lightgbm==3.2.1) (1.1.1)\n",
      "Requirement already satisfied: joblib>=1.0.0 in /home/risknow/miniconda3/envs/case-neoway/lib/python3.9/site-packages (from scikit-learn!=0.22.0->lightgbm==3.2.1) (1.1.0)\n",
      "Requirement already satisfied: threadpoolctl>=2.0.0 in /home/risknow/miniconda3/envs/case-neoway/lib/python3.9/site-packages (from scikit-learn!=0.22.0->lightgbm==3.2.1) (3.1.0)\n",
      "Installing collected packages: lightgbm\n",
      "  Attempting uninstall: lightgbm\n",
      "    Found existing installation: lightgbm 3.3.2\n",
      "    Uninstalling lightgbm-3.3.2:\n",
      "      Successfully uninstalled lightgbm-3.3.2\n",
      "Successfully installed lightgbm-3.2.1\n"
     ]
    }
   ],
   "source": [
    "!pip install lightgbm==3.2.1"
   ]
  },
  {
   "cell_type": "code",
   "execution_count": 12,
   "id": "54326dce",
   "metadata": {},
   "outputs": [
    {
     "data": {
      "text/plain": [
       "'3.3.2'"
      ]
     },
     "execution_count": 12,
     "metadata": {},
     "output_type": "execute_result"
    }
   ],
   "source": [
    "import lightgbm\n",
    "\n",
    "lightgbm.__version__"
   ]
  },
  {
   "cell_type": "code",
   "execution_count": 77,
   "id": "b9b43f52",
   "metadata": {},
   "outputs": [
    {
     "name": "stdout",
     "output_type": "stream",
     "text": [
      "Iteration No: 1 started. Evaluating function at provided point.\n"
     ]
    },
    {
     "name": "stderr",
     "output_type": "stream",
     "text": [
      "Cross validation: 100%|██████████| 2/2 [00:00<00:00,  5.86it/s]\n"
     ]
    },
    {
     "name": "stdout",
     "output_type": "stream",
     "text": [
      "\n",
      "\n",
      "################################################################################\n",
      "params: [0.1, 92, 19]\n",
      "mae: 0.06387162791313594\n",
      "--------------------------------------------------\n",
      "Iteration No: 1 ended. Evaluation done at provided point.\n",
      "Time taken: 0.4776\n",
      "Function value obtained: 0.0639\n",
      "Current minimum: 0.0639\n",
      "Iteration No: 2 started. Evaluating function at random point.\n"
     ]
    },
    {
     "name": "stderr",
     "output_type": "stream",
     "text": [
      "Cross validation: 100%|██████████| 2/2 [00:00<00:00,  5.68it/s]\n"
     ]
    },
    {
     "name": "stdout",
     "output_type": "stream",
     "text": [
      "\n",
      "\n",
      "################################################################################\n",
      "params: [0.17187298634235004, 92, 18]\n",
      "mae: 0.06845327309164034\n",
      "--------------------------------------------------\n",
      "Iteration No: 2 ended. Evaluation done at random point.\n",
      "Time taken: 0.8162\n",
      "Function value obtained: 0.0685\n",
      "Current minimum: 0.0639\n",
      "Iteration No: 3 started. Evaluating function at random point.\n"
     ]
    },
    {
     "name": "stderr",
     "output_type": "stream",
     "text": [
      "Cross validation: 100%|██████████| 2/2 [00:00<00:00,  4.16it/s]\n"
     ]
    },
    {
     "name": "stdout",
     "output_type": "stream",
     "text": [
      "\n",
      "\n",
      "################################################################################\n",
      "params: [0.5455623771461363, 102, 16]\n",
      "mae: 0.07634522770277824\n",
      "--------------------------------------------------\n",
      "Iteration No: 3 ended. Evaluation done at random point.\n",
      "Time taken: 1.1075\n",
      "Function value obtained: 0.0763\n",
      "Current minimum: 0.0639\n"
     ]
    }
   ],
   "source": [
    "\n",
    "\n",
    "space = [\n",
    "    eval_parametric_space_dimension(d) for d in model_parameters[\"parametric_space\"]\n",
    "]\n",
    "\n",
    "x0 = list(hyper_param.values())\n",
    "\n",
    "\n",
    "@use_named_args(space)\n",
    "def train_function(**params):\n",
    "\n",
    "    estimator = set_regressor(model_config[\"model\"], **params)\n",
    "\n",
    "    cv_mae = cross_validate_score(\n",
    "        X_train,\n",
    "        y_train,\n",
    "        estimator,\n",
    "        scoring=mean_absolute_error,\n",
    "        n_folds=model_config[\"opt_config\"][\"n_folds\"],\n",
    "        fit_params=model_config[\"fit_parameters\"],\n",
    "        sample = 1000\n",
    "    )\n",
    "\n",
    "    print(f\"\\n\\n{80 * '#'}\")\n",
    "    print(\"params:\", list(params.values()))\n",
    "    print(\"mae:\", cv_mae)\n",
    "    print(f\"{50 * '-'}\")\n",
    "\n",
    "    return cv_mae\n",
    "\n",
    "res_gp = gp_minimize(\n",
    "    train_function,\n",
    "    space,\n",
    "    x0=x0,\n",
    "    y0=None,\n",
    "    random_state=model_config[\"opt_config\"][\"random_state\"],\n",
    "    verbose=model_config[\"opt_config\"][\"verbose\"],\n",
    "    n_calls=model_config[\"opt_config\"][\"n_calls\"],\n",
    "    n_random_starts=model_config[\"opt_config\"][\"n_random_starts\"],\n",
    ")\n",
    "\n",
    "model_config[\"fit_parameters\"][\"eval_set\"] = None"
   ]
  },
  {
   "cell_type": "code",
   "execution_count": 76,
   "id": "9c4f5efe",
   "metadata": {},
   "outputs": [
    {
     "name": "stderr",
     "output_type": "stream",
     "text": [
      "Cross validation: 100%|██████████| 2/2 [00:00<00:00,  3.10it/s]\n"
     ]
    }
   ],
   "source": [
    "train_function(x0)"
   ]
  },
  {
   "cell_type": "code",
   "execution_count": 79,
   "id": "f9563f82",
   "metadata": {},
   "outputs": [],
   "source": [
    "from src.base.commons import load_json, load_yaml\n",
    "from src.base.logger import logging\n",
    "from src.model.regressor import set_regressor\n",
    "from src.optimizer.space import eval_parametric_space_dimension\n",
    "from skopt import gp_minimize\n",
    "from skopt.utils import use_named_args\n",
    "from src.optimizer.cross_validation import cross_validate_score\n",
    "from sklearn.metrics import r2_score, mean_absolute_error\n",
    "from src.global_variables import (\n",
    "    FEATURE_PARAMETERS_FILE,\n",
    "    FILEPATHS_FILE,\n",
    "    PARAMETERS_FILE,\n",
    "    MODEL_CONFIG_FILE,\n",
    ")\n",
    "\n",
    "\n",
    "def gaussian_process_optimization(X_train, y_train, sample=None):\n",
    "\n",
    "    logging.info(\"FUNCTION: gaussian_process_optimization\")\n",
    "\n",
    "    model_config = load_yaml(MODEL_CONFIG_FILE)\n",
    "\n",
    "    model_parameters = load_json(model_config[\"parametric_space_path\"])\n",
    "\n",
    "    hyper_param = {\n",
    "        hp[\"parameter\"]: hp[\"best_value\"] for hp in model_parameters[\"parametric_space\"]\n",
    "    }\n",
    "\n",
    "    space = [\n",
    "        eval_parametric_space_dimension(d) for d in model_parameters[\"parametric_space\"]\n",
    "    ]\n",
    "\n",
    "    x0 = list(hyper_param.values())\n",
    "\n",
    "    @use_named_args(space)\n",
    "    def train_function(**params):\n",
    "\n",
    "        estimator = set_regressor(model_config[\"model\"], **params)\n",
    "\n",
    "        cv_mae = cross_validate_score(\n",
    "            X_train,\n",
    "            y_train,\n",
    "            estimator,\n",
    "            scoring=mean_absolute_error,\n",
    "            n_folds=model_config[\"opt_config\"][\"n_folds\"],\n",
    "            fit_params=model_config[\"fit_parameters\"],\n",
    "            sample=sample,\n",
    "        )\n",
    "\n",
    "        print(f\"\\n\\n{80 * '#'}\")\n",
    "        print(\"params:\", list(params.values()))\n",
    "        print(\"mae:\", cv_mae)\n",
    "        print(f\"{50 * '-'}\")\n",
    "\n",
    "        return cv_mae\n",
    "\n",
    "    res_gp = gp_minimize(\n",
    "        train_function,\n",
    "        space,\n",
    "        x0=x0,\n",
    "        y0=None,\n",
    "        random_state=model_config[\"opt_config\"][\"random_state\"],\n",
    "        verbose=model_config[\"opt_config\"][\"verbose\"],\n",
    "        n_calls=model_config[\"opt_config\"][\"n_calls\"],\n",
    "        n_random_starts=model_config[\"opt_config\"][\"n_random_starts\"],\n",
    "    )\n",
    "\n",
    "    model_config[\"fit_parameters\"][\"eval_set\"] = None\n",
    "\n",
    "    return res_gp"
   ]
  },
  {
   "cell_type": "code",
   "execution_count": 62,
   "id": "0b6fe3c1",
   "metadata": {},
   "outputs": [],
   "source": [
    "X = X_train\n",
    "y = y_train\n",
    "estimator =  set_regressor(model_config[\"model\"])\n",
    "scoring = mean_absolute_error\n",
    "verbose=1\n",
    "n_folds=5\n",
    "random_state=42\n",
    "fit_params={}\n",
    "minimize=True\n",
    "sample = 1000"
   ]
  },
  {
   "cell_type": "code",
   "execution_count": 65,
   "id": "128b65ef",
   "metadata": {},
   "outputs": [],
   "source": [
    "\n",
    "scores = []\n",
    "\n",
    "if sample is not None:\n",
    "    data = X.assign(y=y.values).sample(sample)\n",
    "else:\n",
    "    data = X.assign(y=y.values)\n",
    "    \n",
    "data = data.reset_index(drop=True)\n",
    "\n",
    "data[\"fold\"] = generate_folds(data, n_folds=n_folds, random_state=random_state)"
   ]
  },
  {
   "cell_type": "code",
   "execution_count": 66,
   "id": "5fe89d9e",
   "metadata": {},
   "outputs": [
    {
     "data": {
      "text/html": [
       "<div>\n",
       "<style scoped>\n",
       "    .dataframe tbody tr th:only-of-type {\n",
       "        vertical-align: middle;\n",
       "    }\n",
       "\n",
       "    .dataframe tbody tr th {\n",
       "        vertical-align: top;\n",
       "    }\n",
       "\n",
       "    .dataframe thead th {\n",
       "        text-align: right;\n",
       "    }\n",
       "</style>\n",
       "<table border=\"1\" class=\"dataframe\">\n",
       "  <thead>\n",
       "    <tr style=\"text-align: right;\">\n",
       "      <th></th>\n",
       "      <th>V1_estuda</th>\n",
       "      <th>V1_trabalha</th>\n",
       "      <th>V1_pratica_esportes</th>\n",
       "      <th>V1_tem_filhos</th>\n",
       "      <th>grau_familia</th>\n",
       "      <th>proximidade_visita_frequente</th>\n",
       "      <th>proximidade_visita_casual</th>\n",
       "      <th>proximidade_visita_rara</th>\n",
       "      <th>V1_geracao_silent</th>\n",
       "      <th>V1_geracao_baby_boomer</th>\n",
       "      <th>V1_geracao_gen_x</th>\n",
       "      <th>V1_geracao_gen_y</th>\n",
       "      <th>V1_geracao_gen_z</th>\n",
       "      <th>V2_geracao_silent</th>\n",
       "      <th>V2_geracao_baby_boomer</th>\n",
       "      <th>V2_geracao_gen_x</th>\n",
       "      <th>V2_geracao_gen_y</th>\n",
       "      <th>V2_geracao_gen_z</th>\n",
       "      <th>V1_IMC_normal</th>\n",
       "      <th>V1_IMC_sobrepeso</th>\n",
       "      <th>V1_IMC_obeso_1</th>\n",
       "      <th>V1_IMC_obeso_2</th>\n",
       "      <th>V1_IMC_obeso_3</th>\n",
       "      <th>V2_IMC_normal</th>\n",
       "      <th>V2_IMC_sobrepeso</th>\n",
       "      <th>V2_IMC_obeso_1</th>\n",
       "      <th>V2_IMC_obeso_2</th>\n",
       "      <th>V2_IMC_obeso_3</th>\n",
       "      <th>V1_estado_civil_caso_ou_divorciado</th>\n",
       "      <th>V1_estado_civil_solteiro</th>\n",
       "      <th>V1_transporte_mais_utilizado_publico</th>\n",
       "      <th>V1_transporte_mais_utilizado_particular</th>\n",
       "      <th>V2_transporte_mais_utilizado_publico</th>\n",
       "      <th>V2_transporte_mais_utilizado_particular</th>\n",
       "      <th>y</th>\n",
       "      <th>fold</th>\n",
       "    </tr>\n",
       "  </thead>\n",
       "  <tbody>\n",
       "    <tr>\n",
       "      <th>0</th>\n",
       "      <td>0.0</td>\n",
       "      <td>1.0</td>\n",
       "      <td>1.0</td>\n",
       "      <td>0.0</td>\n",
       "      <td>0</td>\n",
       "      <td>0</td>\n",
       "      <td>0</td>\n",
       "      <td>1</td>\n",
       "      <td>0</td>\n",
       "      <td>1</td>\n",
       "      <td>0</td>\n",
       "      <td>0</td>\n",
       "      <td>0</td>\n",
       "      <td>0</td>\n",
       "      <td>1</td>\n",
       "      <td>0</td>\n",
       "      <td>0</td>\n",
       "      <td>0</td>\n",
       "      <td>1</td>\n",
       "      <td>0</td>\n",
       "      <td>0</td>\n",
       "      <td>0</td>\n",
       "      <td>0</td>\n",
       "      <td>0</td>\n",
       "      <td>0</td>\n",
       "      <td>0</td>\n",
       "      <td>0</td>\n",
       "      <td>0</td>\n",
       "      <td>0</td>\n",
       "      <td>1</td>\n",
       "      <td>1</td>\n",
       "      <td>0</td>\n",
       "      <td>1</td>\n",
       "      <td>0</td>\n",
       "      <td>0.507221</td>\n",
       "      <td>1</td>\n",
       "    </tr>\n",
       "    <tr>\n",
       "      <th>1</th>\n",
       "      <td>1.0</td>\n",
       "      <td>1.0</td>\n",
       "      <td>1.0</td>\n",
       "      <td>0.0</td>\n",
       "      <td>0</td>\n",
       "      <td>1</td>\n",
       "      <td>0</td>\n",
       "      <td>0</td>\n",
       "      <td>0</td>\n",
       "      <td>0</td>\n",
       "      <td>1</td>\n",
       "      <td>0</td>\n",
       "      <td>0</td>\n",
       "      <td>0</td>\n",
       "      <td>1</td>\n",
       "      <td>0</td>\n",
       "      <td>0</td>\n",
       "      <td>0</td>\n",
       "      <td>0</td>\n",
       "      <td>0</td>\n",
       "      <td>1</td>\n",
       "      <td>0</td>\n",
       "      <td>0</td>\n",
       "      <td>0</td>\n",
       "      <td>0</td>\n",
       "      <td>0</td>\n",
       "      <td>0</td>\n",
       "      <td>0</td>\n",
       "      <td>1</td>\n",
       "      <td>0</td>\n",
       "      <td>1</td>\n",
       "      <td>0</td>\n",
       "      <td>0</td>\n",
       "      <td>1</td>\n",
       "      <td>0.602620</td>\n",
       "      <td>4</td>\n",
       "    </tr>\n",
       "    <tr>\n",
       "      <th>2</th>\n",
       "      <td>0.0</td>\n",
       "      <td>1.0</td>\n",
       "      <td>0.0</td>\n",
       "      <td>0.0</td>\n",
       "      <td>1</td>\n",
       "      <td>0</td>\n",
       "      <td>0</td>\n",
       "      <td>1</td>\n",
       "      <td>0</td>\n",
       "      <td>0</td>\n",
       "      <td>1</td>\n",
       "      <td>0</td>\n",
       "      <td>0</td>\n",
       "      <td>0</td>\n",
       "      <td>0</td>\n",
       "      <td>0</td>\n",
       "      <td>1</td>\n",
       "      <td>0</td>\n",
       "      <td>0</td>\n",
       "      <td>0</td>\n",
       "      <td>0</td>\n",
       "      <td>0</td>\n",
       "      <td>0</td>\n",
       "      <td>1</td>\n",
       "      <td>0</td>\n",
       "      <td>0</td>\n",
       "      <td>0</td>\n",
       "      <td>0</td>\n",
       "      <td>1</td>\n",
       "      <td>0</td>\n",
       "      <td>1</td>\n",
       "      <td>0</td>\n",
       "      <td>1</td>\n",
       "      <td>0</td>\n",
       "      <td>0.164850</td>\n",
       "      <td>1</td>\n",
       "    </tr>\n",
       "    <tr>\n",
       "      <th>3</th>\n",
       "      <td>1.0</td>\n",
       "      <td>1.0</td>\n",
       "      <td>0.0</td>\n",
       "      <td>1.0</td>\n",
       "      <td>0</td>\n",
       "      <td>0</td>\n",
       "      <td>1</td>\n",
       "      <td>0</td>\n",
       "      <td>0</td>\n",
       "      <td>0</td>\n",
       "      <td>1</td>\n",
       "      <td>0</td>\n",
       "      <td>0</td>\n",
       "      <td>1</td>\n",
       "      <td>0</td>\n",
       "      <td>0</td>\n",
       "      <td>0</td>\n",
       "      <td>0</td>\n",
       "      <td>1</td>\n",
       "      <td>0</td>\n",
       "      <td>0</td>\n",
       "      <td>0</td>\n",
       "      <td>0</td>\n",
       "      <td>0</td>\n",
       "      <td>1</td>\n",
       "      <td>0</td>\n",
       "      <td>0</td>\n",
       "      <td>0</td>\n",
       "      <td>0</td>\n",
       "      <td>1</td>\n",
       "      <td>0</td>\n",
       "      <td>1</td>\n",
       "      <td>1</td>\n",
       "      <td>0</td>\n",
       "      <td>0.223630</td>\n",
       "      <td>1</td>\n",
       "    </tr>\n",
       "    <tr>\n",
       "      <th>4</th>\n",
       "      <td>1.0</td>\n",
       "      <td>0.0</td>\n",
       "      <td>1.0</td>\n",
       "      <td>1.0</td>\n",
       "      <td>0</td>\n",
       "      <td>0</td>\n",
       "      <td>1</td>\n",
       "      <td>0</td>\n",
       "      <td>0</td>\n",
       "      <td>0</td>\n",
       "      <td>1</td>\n",
       "      <td>0</td>\n",
       "      <td>0</td>\n",
       "      <td>0</td>\n",
       "      <td>1</td>\n",
       "      <td>0</td>\n",
       "      <td>0</td>\n",
       "      <td>0</td>\n",
       "      <td>1</td>\n",
       "      <td>0</td>\n",
       "      <td>0</td>\n",
       "      <td>0</td>\n",
       "      <td>0</td>\n",
       "      <td>0</td>\n",
       "      <td>0</td>\n",
       "      <td>0</td>\n",
       "      <td>0</td>\n",
       "      <td>0</td>\n",
       "      <td>1</td>\n",
       "      <td>0</td>\n",
       "      <td>1</td>\n",
       "      <td>0</td>\n",
       "      <td>0</td>\n",
       "      <td>1</td>\n",
       "      <td>0.806207</td>\n",
       "      <td>4</td>\n",
       "    </tr>\n",
       "    <tr>\n",
       "      <th>...</th>\n",
       "      <td>...</td>\n",
       "      <td>...</td>\n",
       "      <td>...</td>\n",
       "      <td>...</td>\n",
       "      <td>...</td>\n",
       "      <td>...</td>\n",
       "      <td>...</td>\n",
       "      <td>...</td>\n",
       "      <td>...</td>\n",
       "      <td>...</td>\n",
       "      <td>...</td>\n",
       "      <td>...</td>\n",
       "      <td>...</td>\n",
       "      <td>...</td>\n",
       "      <td>...</td>\n",
       "      <td>...</td>\n",
       "      <td>...</td>\n",
       "      <td>...</td>\n",
       "      <td>...</td>\n",
       "      <td>...</td>\n",
       "      <td>...</td>\n",
       "      <td>...</td>\n",
       "      <td>...</td>\n",
       "      <td>...</td>\n",
       "      <td>...</td>\n",
       "      <td>...</td>\n",
       "      <td>...</td>\n",
       "      <td>...</td>\n",
       "      <td>...</td>\n",
       "      <td>...</td>\n",
       "      <td>...</td>\n",
       "      <td>...</td>\n",
       "      <td>...</td>\n",
       "      <td>...</td>\n",
       "      <td>...</td>\n",
       "      <td>...</td>\n",
       "    </tr>\n",
       "    <tr>\n",
       "      <th>995</th>\n",
       "      <td>1.0</td>\n",
       "      <td>0.0</td>\n",
       "      <td>1.0</td>\n",
       "      <td>0.0</td>\n",
       "      <td>0</td>\n",
       "      <td>0</td>\n",
       "      <td>0</td>\n",
       "      <td>1</td>\n",
       "      <td>0</td>\n",
       "      <td>0</td>\n",
       "      <td>1</td>\n",
       "      <td>0</td>\n",
       "      <td>0</td>\n",
       "      <td>0</td>\n",
       "      <td>0</td>\n",
       "      <td>1</td>\n",
       "      <td>0</td>\n",
       "      <td>0</td>\n",
       "      <td>1</td>\n",
       "      <td>0</td>\n",
       "      <td>0</td>\n",
       "      <td>0</td>\n",
       "      <td>0</td>\n",
       "      <td>1</td>\n",
       "      <td>0</td>\n",
       "      <td>0</td>\n",
       "      <td>0</td>\n",
       "      <td>0</td>\n",
       "      <td>0</td>\n",
       "      <td>1</td>\n",
       "      <td>1</td>\n",
       "      <td>0</td>\n",
       "      <td>1</td>\n",
       "      <td>0</td>\n",
       "      <td>0.701684</td>\n",
       "      <td>0</td>\n",
       "    </tr>\n",
       "    <tr>\n",
       "      <th>996</th>\n",
       "      <td>0.0</td>\n",
       "      <td>1.0</td>\n",
       "      <td>0.0</td>\n",
       "      <td>1.0</td>\n",
       "      <td>0</td>\n",
       "      <td>0</td>\n",
       "      <td>0</td>\n",
       "      <td>0</td>\n",
       "      <td>0</td>\n",
       "      <td>0</td>\n",
       "      <td>1</td>\n",
       "      <td>0</td>\n",
       "      <td>0</td>\n",
       "      <td>0</td>\n",
       "      <td>0</td>\n",
       "      <td>1</td>\n",
       "      <td>0</td>\n",
       "      <td>0</td>\n",
       "      <td>0</td>\n",
       "      <td>0</td>\n",
       "      <td>0</td>\n",
       "      <td>0</td>\n",
       "      <td>0</td>\n",
       "      <td>0</td>\n",
       "      <td>1</td>\n",
       "      <td>0</td>\n",
       "      <td>0</td>\n",
       "      <td>0</td>\n",
       "      <td>0</td>\n",
       "      <td>1</td>\n",
       "      <td>0</td>\n",
       "      <td>1</td>\n",
       "      <td>1</td>\n",
       "      <td>0</td>\n",
       "      <td>0.136147</td>\n",
       "      <td>4</td>\n",
       "    </tr>\n",
       "    <tr>\n",
       "      <th>997</th>\n",
       "      <td>1.0</td>\n",
       "      <td>0.0</td>\n",
       "      <td>1.0</td>\n",
       "      <td>0.0</td>\n",
       "      <td>0</td>\n",
       "      <td>0</td>\n",
       "      <td>1</td>\n",
       "      <td>0</td>\n",
       "      <td>0</td>\n",
       "      <td>1</td>\n",
       "      <td>0</td>\n",
       "      <td>0</td>\n",
       "      <td>0</td>\n",
       "      <td>0</td>\n",
       "      <td>0</td>\n",
       "      <td>1</td>\n",
       "      <td>0</td>\n",
       "      <td>0</td>\n",
       "      <td>1</td>\n",
       "      <td>0</td>\n",
       "      <td>0</td>\n",
       "      <td>0</td>\n",
       "      <td>0</td>\n",
       "      <td>0</td>\n",
       "      <td>1</td>\n",
       "      <td>0</td>\n",
       "      <td>0</td>\n",
       "      <td>0</td>\n",
       "      <td>0</td>\n",
       "      <td>1</td>\n",
       "      <td>0</td>\n",
       "      <td>1</td>\n",
       "      <td>0</td>\n",
       "      <td>0</td>\n",
       "      <td>0.518815</td>\n",
       "      <td>1</td>\n",
       "    </tr>\n",
       "    <tr>\n",
       "      <th>998</th>\n",
       "      <td>1.0</td>\n",
       "      <td>0.0</td>\n",
       "      <td>1.0</td>\n",
       "      <td>1.0</td>\n",
       "      <td>0</td>\n",
       "      <td>0</td>\n",
       "      <td>0</td>\n",
       "      <td>1</td>\n",
       "      <td>0</td>\n",
       "      <td>1</td>\n",
       "      <td>0</td>\n",
       "      <td>0</td>\n",
       "      <td>0</td>\n",
       "      <td>0</td>\n",
       "      <td>0</td>\n",
       "      <td>1</td>\n",
       "      <td>0</td>\n",
       "      <td>0</td>\n",
       "      <td>0</td>\n",
       "      <td>1</td>\n",
       "      <td>0</td>\n",
       "      <td>0</td>\n",
       "      <td>0</td>\n",
       "      <td>0</td>\n",
       "      <td>0</td>\n",
       "      <td>0</td>\n",
       "      <td>0</td>\n",
       "      <td>0</td>\n",
       "      <td>0</td>\n",
       "      <td>1</td>\n",
       "      <td>1</td>\n",
       "      <td>0</td>\n",
       "      <td>0</td>\n",
       "      <td>1</td>\n",
       "      <td>0.730466</td>\n",
       "      <td>0</td>\n",
       "    </tr>\n",
       "    <tr>\n",
       "      <th>999</th>\n",
       "      <td>1.0</td>\n",
       "      <td>1.0</td>\n",
       "      <td>1.0</td>\n",
       "      <td>1.0</td>\n",
       "      <td>0</td>\n",
       "      <td>1</td>\n",
       "      <td>0</td>\n",
       "      <td>0</td>\n",
       "      <td>0</td>\n",
       "      <td>0</td>\n",
       "      <td>1</td>\n",
       "      <td>0</td>\n",
       "      <td>0</td>\n",
       "      <td>0</td>\n",
       "      <td>0</td>\n",
       "      <td>1</td>\n",
       "      <td>0</td>\n",
       "      <td>0</td>\n",
       "      <td>0</td>\n",
       "      <td>0</td>\n",
       "      <td>0</td>\n",
       "      <td>0</td>\n",
       "      <td>1</td>\n",
       "      <td>1</td>\n",
       "      <td>0</td>\n",
       "      <td>0</td>\n",
       "      <td>0</td>\n",
       "      <td>0</td>\n",
       "      <td>1</td>\n",
       "      <td>0</td>\n",
       "      <td>1</td>\n",
       "      <td>0</td>\n",
       "      <td>1</td>\n",
       "      <td>0</td>\n",
       "      <td>0.562104</td>\n",
       "      <td>2</td>\n",
       "    </tr>\n",
       "  </tbody>\n",
       "</table>\n",
       "<p>1000 rows × 36 columns</p>\n",
       "</div>"
      ],
      "text/plain": [
       "     V1_estuda  V1_trabalha  V1_pratica_esportes  V1_tem_filhos  grau_familia  \\\n",
       "0          0.0          1.0                  1.0            0.0             0   \n",
       "1          1.0          1.0                  1.0            0.0             0   \n",
       "2          0.0          1.0                  0.0            0.0             1   \n",
       "3          1.0          1.0                  0.0            1.0             0   \n",
       "4          1.0          0.0                  1.0            1.0             0   \n",
       "..         ...          ...                  ...            ...           ...   \n",
       "995        1.0          0.0                  1.0            0.0             0   \n",
       "996        0.0          1.0                  0.0            1.0             0   \n",
       "997        1.0          0.0                  1.0            0.0             0   \n",
       "998        1.0          0.0                  1.0            1.0             0   \n",
       "999        1.0          1.0                  1.0            1.0             0   \n",
       "\n",
       "     proximidade_visita_frequente  proximidade_visita_casual  \\\n",
       "0                               0                          0   \n",
       "1                               1                          0   \n",
       "2                               0                          0   \n",
       "3                               0                          1   \n",
       "4                               0                          1   \n",
       "..                            ...                        ...   \n",
       "995                             0                          0   \n",
       "996                             0                          0   \n",
       "997                             0                          1   \n",
       "998                             0                          0   \n",
       "999                             1                          0   \n",
       "\n",
       "     proximidade_visita_rara  V1_geracao_silent  V1_geracao_baby_boomer  \\\n",
       "0                          1                  0                       1   \n",
       "1                          0                  0                       0   \n",
       "2                          1                  0                       0   \n",
       "3                          0                  0                       0   \n",
       "4                          0                  0                       0   \n",
       "..                       ...                ...                     ...   \n",
       "995                        1                  0                       0   \n",
       "996                        0                  0                       0   \n",
       "997                        0                  0                       1   \n",
       "998                        1                  0                       1   \n",
       "999                        0                  0                       0   \n",
       "\n",
       "     V1_geracao_gen_x  V1_geracao_gen_y  V1_geracao_gen_z  V2_geracao_silent  \\\n",
       "0                   0                 0                 0                  0   \n",
       "1                   1                 0                 0                  0   \n",
       "2                   1                 0                 0                  0   \n",
       "3                   1                 0                 0                  1   \n",
       "4                   1                 0                 0                  0   \n",
       "..                ...               ...               ...                ...   \n",
       "995                 1                 0                 0                  0   \n",
       "996                 1                 0                 0                  0   \n",
       "997                 0                 0                 0                  0   \n",
       "998                 0                 0                 0                  0   \n",
       "999                 1                 0                 0                  0   \n",
       "\n",
       "     V2_geracao_baby_boomer  V2_geracao_gen_x  V2_geracao_gen_y  \\\n",
       "0                         1                 0                 0   \n",
       "1                         1                 0                 0   \n",
       "2                         0                 0                 1   \n",
       "3                         0                 0                 0   \n",
       "4                         1                 0                 0   \n",
       "..                      ...               ...               ...   \n",
       "995                       0                 1                 0   \n",
       "996                       0                 1                 0   \n",
       "997                       0                 1                 0   \n",
       "998                       0                 1                 0   \n",
       "999                       0                 1                 0   \n",
       "\n",
       "     V2_geracao_gen_z  V1_IMC_normal  V1_IMC_sobrepeso  V1_IMC_obeso_1  \\\n",
       "0                   0              1                 0               0   \n",
       "1                   0              0                 0               1   \n",
       "2                   0              0                 0               0   \n",
       "3                   0              1                 0               0   \n",
       "4                   0              1                 0               0   \n",
       "..                ...            ...               ...             ...   \n",
       "995                 0              1                 0               0   \n",
       "996                 0              0                 0               0   \n",
       "997                 0              1                 0               0   \n",
       "998                 0              0                 1               0   \n",
       "999                 0              0                 0               0   \n",
       "\n",
       "     V1_IMC_obeso_2  V1_IMC_obeso_3  V2_IMC_normal  V2_IMC_sobrepeso  \\\n",
       "0                 0               0              0                 0   \n",
       "1                 0               0              0                 0   \n",
       "2                 0               0              1                 0   \n",
       "3                 0               0              0                 1   \n",
       "4                 0               0              0                 0   \n",
       "..              ...             ...            ...               ...   \n",
       "995               0               0              1                 0   \n",
       "996               0               0              0                 1   \n",
       "997               0               0              0                 1   \n",
       "998               0               0              0                 0   \n",
       "999               0               1              1                 0   \n",
       "\n",
       "     V2_IMC_obeso_1  V2_IMC_obeso_2  V2_IMC_obeso_3  \\\n",
       "0                 0               0               0   \n",
       "1                 0               0               0   \n",
       "2                 0               0               0   \n",
       "3                 0               0               0   \n",
       "4                 0               0               0   \n",
       "..              ...             ...             ...   \n",
       "995               0               0               0   \n",
       "996               0               0               0   \n",
       "997               0               0               0   \n",
       "998               0               0               0   \n",
       "999               0               0               0   \n",
       "\n",
       "     V1_estado_civil_caso_ou_divorciado  V1_estado_civil_solteiro  \\\n",
       "0                                     0                         1   \n",
       "1                                     1                         0   \n",
       "2                                     1                         0   \n",
       "3                                     0                         1   \n",
       "4                                     1                         0   \n",
       "..                                  ...                       ...   \n",
       "995                                   0                         1   \n",
       "996                                   0                         1   \n",
       "997                                   0                         1   \n",
       "998                                   0                         1   \n",
       "999                                   1                         0   \n",
       "\n",
       "     V1_transporte_mais_utilizado_publico  \\\n",
       "0                                       1   \n",
       "1                                       1   \n",
       "2                                       1   \n",
       "3                                       0   \n",
       "4                                       1   \n",
       "..                                    ...   \n",
       "995                                     1   \n",
       "996                                     0   \n",
       "997                                     0   \n",
       "998                                     1   \n",
       "999                                     1   \n",
       "\n",
       "     V1_transporte_mais_utilizado_particular  \\\n",
       "0                                          0   \n",
       "1                                          0   \n",
       "2                                          0   \n",
       "3                                          1   \n",
       "4                                          0   \n",
       "..                                       ...   \n",
       "995                                        0   \n",
       "996                                        1   \n",
       "997                                        1   \n",
       "998                                        0   \n",
       "999                                        0   \n",
       "\n",
       "     V2_transporte_mais_utilizado_publico  \\\n",
       "0                                       1   \n",
       "1                                       0   \n",
       "2                                       1   \n",
       "3                                       1   \n",
       "4                                       0   \n",
       "..                                    ...   \n",
       "995                                     1   \n",
       "996                                     1   \n",
       "997                                     0   \n",
       "998                                     0   \n",
       "999                                     1   \n",
       "\n",
       "     V2_transporte_mais_utilizado_particular         y  fold  \n",
       "0                                          0  0.507221     1  \n",
       "1                                          1  0.602620     4  \n",
       "2                                          0  0.164850     1  \n",
       "3                                          0  0.223630     1  \n",
       "4                                          1  0.806207     4  \n",
       "..                                       ...       ...   ...  \n",
       "995                                        0  0.701684     0  \n",
       "996                                        0  0.136147     4  \n",
       "997                                        0  0.518815     1  \n",
       "998                                        1  0.730466     0  \n",
       "999                                        0  0.562104     2  \n",
       "\n",
       "[1000 rows x 36 columns]"
      ]
     },
     "execution_count": 66,
     "metadata": {},
     "output_type": "execute_result"
    }
   ],
   "source": [
    "data"
   ]
  },
  {
   "cell_type": "code",
   "execution_count": 20,
   "id": "5c064cc3",
   "metadata": {},
   "outputs": [
    {
     "name": "stderr",
     "output_type": "stream",
     "text": [
      "Cross validation:   0%|          | 0/5 [01:41<?, ?it/s]\n"
     ]
    }
   ],
   "source": [
    "\n",
    "scores = []\n",
    "\n",
    "data = X.reset_index(drop=True).assign(y=y.values)\n",
    "\n",
    "data[\"fold\"] = generate_folds(data, n_folds=n_folds, random_state=random_state)\n",
    "\n",
    "iterator = (\n",
    "    range(n_folds) if verbose < 1 else tqdm(range(n_folds), desc=\"Cross validation\")\n",
    ")"
   ]
  },
  {
   "cell_type": "code",
   "execution_count": 21,
   "metadata": {},
   "outputs": [],
   "source": [
    "fold = 0\n",
    "\n",
    "# Separando os dados de treinamento para essa fold\n",
    "train_data = data[data[\"fold\"] != fold].copy()\n",
    "\n",
    "# Separando os dados de teste para esse fold\n",
    "test_data = data[data[\"fold\"] == fold].copy()\n",
    "\n",
    "X_1 = train_data.drop(columns=[\"fold\", \"y\"]).values\n",
    "\n",
    "X_2 = test_data.drop(columns=[\"fold\", \"y\"]).values\n",
    "\n",
    "y_1 = train_data[\"y\"].values\n",
    "\n",
    "y_2 = test_data[\"y\"].values\n",
    "\n",
    "# if estimator.__class__ in [\n",
    "#     xgboost.sklearn.XGBRegressor,\n",
    "#     xgboost.sklearn.XGBClassifier,\n",
    "# ]:\n",
    "#     fit_params[\"eval_set\"] = [(X_2, y_2)]\n",
    "\n",
    "# try:\n",
    "#     estimator.fit(X_1, y_1, **fit_params)\n",
    "# except:\n",
    "#     estimator.fit(X_1, y_1, **fit_params)\n",
    "\n",
    "# scores.append(scoring(y_2, estimator.predict(X_2)))"
   ]
  },
  {
   "cell_type": "code",
   "execution_count": 22,
   "id": "d8cfbf23",
   "metadata": {},
   "outputs": [
    {
     "data": {
      "text/plain": [
       "array([[1., 1., 0., ..., 0., 0., 1.],\n",
       "       [0., 0., 0., ..., 0., 1., 0.],\n",
       "       [0., 1., 0., ..., 0., 1., 0.],\n",
       "       ...,\n",
       "       [0., 1., 0., ..., 1., 1., 0.],\n",
       "       [0., 1., 1., ..., 0., 0., 0.],\n",
       "       [0., 1., 1., ..., 1., 1., 0.]])"
      ]
     },
     "execution_count": 22,
     "metadata": {},
     "output_type": "execute_result"
    }
   ],
   "source": [
    "X_2"
   ]
  },
  {
   "cell_type": "code",
   "execution_count": 24,
   "id": "6f90f87e",
   "metadata": {},
   "outputs": [],
   "source": [
    "import xgboost\n",
    "import lightgbm\n",
    "import numpy as np\n",
    "from tqdm import tqdm\n",
    "from sklearn.model_selection import KFold, StratifiedKFold\n",
    "\n",
    "\n",
    "def cross_validate_score(\n",
    "    X,\n",
    "    y,\n",
    "    estimator,\n",
    "    scoring,\n",
    "    verbose=1,\n",
    "    n_folds=5,\n",
    "    random_state=42,\n",
    "    fit_params={},\n",
    "    minimize=True,\n",
    "):\n",
    "\n",
    "    scores = []\n",
    "\n",
    "    data = X.assign(y=y)\n",
    "\n",
    "    data[\"fold\"] = generate_folds(data, n_folds=n_folds, random_state=random_state)\n",
    "\n",
    "    iterator = (\n",
    "        range(n_folds) if verbose < 1 else tqdm(range(n_folds), desc=\"Cross validation\")\n",
    "    )\n",
    "\n",
    "    for fold in iterator:\n",
    "\n",
    "        # Separando os dados de treinamento para essa fold\n",
    "        train_data = data[data[\"fold\"] != fold].copy()\n",
    "\n",
    "        # Separando os dados de teste para esse fold\n",
    "        test_data = data[data[\"fold\"] == fold].copy()\n",
    "\n",
    "        X_1 = train_data.drop(columns=[\"fold\", \"y\"]).values\n",
    "\n",
    "        X_2 = test_data.drop(columns=[\"fold\", \"y\"]).values\n",
    "\n",
    "        y_1 = train_data[\"y\"].values\n",
    "\n",
    "        y_2 = test_data[\"y\"].values\n",
    "\n",
    "        if estimator.__class__ in [\n",
    "            xgboost.sklearn.XGBRegressor,\n",
    "            xgboost.sklearn.XGBClassifier,\n",
    "            lightgbm.sklearn.LGBMRegressor,\n",
    "            lightgbm.sklearn.LGBMClassifier,\n",
    "        ]:\n",
    "            fit_params[\"eval_set\"] = [(X_2, y_2)]\n",
    "\n",
    "        try:\n",
    "            estimator.fit(X_1, y_1, **fit_params)\n",
    "        except:\n",
    "            estimator.fit(X_1, y_1, **fit_params)\n",
    "\n",
    "        scores.append(scoring(y_2, estimator.predict(X_2)))\n",
    "\n",
    "    if minimize:\n",
    "        avg_score = np.mean(scores)\n",
    "    else:\n",
    "        avg_score = -np.mean(scores)\n",
    "\n",
    "    return avg_score\n",
    "\n",
    "\n",
    "def generate_folds(train, n_folds=5, shuffle=True, random_state=42):\n",
    "\n",
    "    temp = train.copy().reset_index(drop=True)\n",
    "\n",
    "    # Instaciando o estritificador\n",
    "    kf = KFold(n_splits=n_folds, shuffle=shuffle, random_state=random_state)\n",
    "\n",
    "    # Gerando os index com os folds\n",
    "    stratified_folds = list(kf.split(X=temp.drop(columns=\"y\"), y=temp[\"y\"]))\n",
    "\n",
    "    for fold_index in range(n_folds):\n",
    "\n",
    "        train_index, validation_index = stratified_folds[fold_index]\n",
    "\n",
    "        temp.loc[temp[temp.index.isin(validation_index)].index, \"fold\"] = fold_index\n",
    "\n",
    "    return temp[\"fold\"].astype(int)\n",
    "\n",
    "\n",
    "def generate_stratified_folds(train, n_folds=5, shuffle=True, random_state=42):\n",
    "\n",
    "    temp = train.copy().reset_index(drop=True)\n",
    "\n",
    "    # Instaciando o estritificador\n",
    "    skf = StratifiedKFold(n_splits=n_folds, shuffle=shuffle, random_state=random_state)\n",
    "\n",
    "    # Gerando os index com os folds\n",
    "    stratified_folds = list(skf.split(X=temp.drop(columns=\"y\"), y=temp[\"y\"]))\n",
    "\n",
    "    for fold_index in range(n_folds):\n",
    "\n",
    "        train_index, validation_index = stratified_folds[fold_index]\n",
    "\n",
    "        temp.loc[temp[temp.index.isin(validation_index)].index, \"fold\"] = fold_index\n",
    "\n",
    "    return temp[\"fold\"].astype(int)"
   ]
  },
  {
   "cell_type": "code",
   "execution_count": 20,
   "id": "871403c8",
   "metadata": {},
   "outputs": [],
   "source": [
    "from src.base.commons import dump_pickle\n",
    "\n",
    "\n",
    "filepaths = load_yaml(filename=FILEPATHS_FILE)\n",
    "model_config = load_yaml(MODEL_CONFIG_FILE)\n",
    "\n",
    "regressor_path = filepaths[\"model_regressor_path\"].format(model=model_config[\"model\"])\n",
    "\n"
   ]
  },
  {
   "cell_type": "code",
   "execution_count": 21,
   "id": "23d378b5",
   "metadata": {},
   "outputs": [],
   "source": [
    "from src.model.regressor import get_regressor\n",
    "\n",
    "model = get_regressor()"
   ]
  },
  {
   "cell_type": "code",
   "execution_count": 22,
   "id": "d0e21705",
   "metadata": {},
   "outputs": [
    {
     "data": {
      "text/html": [
       "<style>#sk-container-id-1 {color: black;background-color: white;}#sk-container-id-1 pre{padding: 0;}#sk-container-id-1 div.sk-toggleable {background-color: white;}#sk-container-id-1 label.sk-toggleable__label {cursor: pointer;display: block;width: 100%;margin-bottom: 0;padding: 0.3em;box-sizing: border-box;text-align: center;}#sk-container-id-1 label.sk-toggleable__label-arrow:before {content: \"▸\";float: left;margin-right: 0.25em;color: #696969;}#sk-container-id-1 label.sk-toggleable__label-arrow:hover:before {color: black;}#sk-container-id-1 div.sk-estimator:hover label.sk-toggleable__label-arrow:before {color: black;}#sk-container-id-1 div.sk-toggleable__content {max-height: 0;max-width: 0;overflow: hidden;text-align: left;background-color: #f0f8ff;}#sk-container-id-1 div.sk-toggleable__content pre {margin: 0.2em;color: black;border-radius: 0.25em;background-color: #f0f8ff;}#sk-container-id-1 input.sk-toggleable__control:checked~div.sk-toggleable__content {max-height: 200px;max-width: 100%;overflow: auto;}#sk-container-id-1 input.sk-toggleable__control:checked~label.sk-toggleable__label-arrow:before {content: \"▾\";}#sk-container-id-1 div.sk-estimator input.sk-toggleable__control:checked~label.sk-toggleable__label {background-color: #d4ebff;}#sk-container-id-1 div.sk-label input.sk-toggleable__control:checked~label.sk-toggleable__label {background-color: #d4ebff;}#sk-container-id-1 input.sk-hidden--visually {border: 0;clip: rect(1px 1px 1px 1px);clip: rect(1px, 1px, 1px, 1px);height: 1px;margin: -1px;overflow: hidden;padding: 0;position: absolute;width: 1px;}#sk-container-id-1 div.sk-estimator {font-family: monospace;background-color: #f0f8ff;border: 1px dotted black;border-radius: 0.25em;box-sizing: border-box;margin-bottom: 0.5em;}#sk-container-id-1 div.sk-estimator:hover {background-color: #d4ebff;}#sk-container-id-1 div.sk-parallel-item::after {content: \"\";width: 100%;border-bottom: 1px solid gray;flex-grow: 1;}#sk-container-id-1 div.sk-label:hover label.sk-toggleable__label {background-color: #d4ebff;}#sk-container-id-1 div.sk-serial::before {content: \"\";position: absolute;border-left: 1px solid gray;box-sizing: border-box;top: 0;bottom: 0;left: 50%;z-index: 0;}#sk-container-id-1 div.sk-serial {display: flex;flex-direction: column;align-items: center;background-color: white;padding-right: 0.2em;padding-left: 0.2em;position: relative;}#sk-container-id-1 div.sk-item {position: relative;z-index: 1;}#sk-container-id-1 div.sk-parallel {display: flex;align-items: stretch;justify-content: center;background-color: white;position: relative;}#sk-container-id-1 div.sk-item::before, #sk-container-id-1 div.sk-parallel-item::before {content: \"\";position: absolute;border-left: 1px solid gray;box-sizing: border-box;top: 0;bottom: 0;left: 50%;z-index: -1;}#sk-container-id-1 div.sk-parallel-item {display: flex;flex-direction: column;z-index: 1;position: relative;background-color: white;}#sk-container-id-1 div.sk-parallel-item:first-child::after {align-self: flex-end;width: 50%;}#sk-container-id-1 div.sk-parallel-item:last-child::after {align-self: flex-start;width: 50%;}#sk-container-id-1 div.sk-parallel-item:only-child::after {width: 0;}#sk-container-id-1 div.sk-dashed-wrapped {border: 1px dashed gray;margin: 0 0.4em 0.5em 0.4em;box-sizing: border-box;padding-bottom: 0.4em;background-color: white;}#sk-container-id-1 div.sk-label label {font-family: monospace;font-weight: bold;display: inline-block;line-height: 1.2em;}#sk-container-id-1 div.sk-label-container {text-align: center;}#sk-container-id-1 div.sk-container {/* jupyter's `normalize.less` sets `[hidden] { display: none; }` but bootstrap.min.css set `[hidden] { display: none !important; }` so we also need the `!important` here to be able to override the default hidden behavior on the sphinx rendered scikit-learn.org. See: https://github.com/scikit-learn/scikit-learn/issues/21755 */display: inline-block !important;position: relative;}#sk-container-id-1 div.sk-text-repr-fallback {display: none;}</style><div id=\"sk-container-id-1\" class=\"sk-top-container\"><div class=\"sk-text-repr-fallback\"><pre>LGBMRegressor()</pre><b>In a Jupyter environment, please rerun this cell to show the HTML representation or trust the notebook. <br />On GitHub, the HTML representation is unable to render, please try loading this page with nbviewer.org.</b></div><div class=\"sk-container\" hidden><div class=\"sk-item\"><div class=\"sk-estimator sk-toggleable\"><input class=\"sk-toggleable__control sk-hidden--visually\" id=\"sk-estimator-id-1\" type=\"checkbox\" checked><label for=\"sk-estimator-id-1\" class=\"sk-toggleable__label sk-toggleable__label-arrow\">LGBMRegressor</label><div class=\"sk-toggleable__content\"><pre>LGBMRegressor()</pre></div></div></div></div></div>"
      ],
      "text/plain": [
       "LGBMRegressor()"
      ]
     },
     "execution_count": 22,
     "metadata": {},
     "output_type": "execute_result"
    }
   ],
   "source": [
    "model"
   ]
  },
  {
   "cell_type": "code",
   "execution_count": 12,
   "id": "c7db8fa8",
   "metadata": {},
   "outputs": [
    {
     "data": {
      "text/plain": [
       "{'learning_rate': 0.1,\n",
       " 'n_estimators': 92,\n",
       " 'max_depth': 19,\n",
       " 'boosting_type': 'gbdt'}"
      ]
     },
     "execution_count": 12,
     "metadata": {},
     "output_type": "execute_result"
    }
   ],
   "source": [
    "optimizer = gaussian_process_optimization(X_train, y_train)"
   ]
  }
 ],
 "metadata": {
  "kernelspec": {
   "display_name": "Python 3.9.12 ('case-neoway')",
   "language": "python",
   "name": "python3"
  },
  "language_info": {
   "codemirror_mode": {
    "name": "ipython",
    "version": 3
   },
   "file_extension": ".py",
   "mimetype": "text/x-python",
   "name": "python",
   "nbconvert_exporter": "python",
   "pygments_lexer": "ipython3",
   "version": "3.9.12"
  },
  "vscode": {
   "interpreter": {
    "hash": "7cc93f38260cc19526e90c5911261182bd2a6531848e615f7c7aac2c2f095387"
   }
  }
 },
 "nbformat": 4,
 "nbformat_minor": 5
}
